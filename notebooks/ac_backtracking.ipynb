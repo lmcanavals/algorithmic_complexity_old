{
  "nbformat": 4,
  "nbformat_minor": 0,
  "metadata": {
    "colab": {
      "name": "ac-backtracking.ipynb",
      "provenance": [],
      "authorship_tag": "ABX9TyPBoXH7rdvTsgiQKpLgqOdm",
      "include_colab_link": true
    },
    "kernelspec": {
      "name": "python3",
      "display_name": "Python 3"
    },
    "language_info": {
      "name": "python"
    }
  },
  "cells": [
    {
      "cell_type": "markdown",
      "metadata": {
        "id": "view-in-github",
        "colab_type": "text"
      },
      "source": [
        "<a href=\"https://colab.research.google.com/github/lmcanavals/algorithmic-complexity/blob/main/ac_backtracking.ipynb\" target=\"_parent\"><img src=\"https://colab.research.google.com/assets/colab-badge.svg\" alt=\"Open In Colab\"/></a>"
      ]
    },
    {
      "cell_type": "markdown",
      "metadata": {
        "id": "bIDZ7WizAfF1"
      },
      "source": [
        "# Backtracking"
      ]
    },
    {
      "cell_type": "markdown",
      "metadata": {
        "id": "AU4-zNqZ8I9X"
      },
      "source": [
        "## N-Queens"
      ]
    },
    {
      "cell_type": "code",
      "metadata": {
        "id": "tFFIpWkZAX3i"
      },
      "source": [
        "import matplotlib.pyplot as plt\n",
        "import numpy as np"
      ],
      "execution_count": 1,
      "outputs": []
    },
    {
      "cell_type": "code",
      "metadata": {
        "id": "I9B866fgAouE"
      },
      "source": [
        "def draw(board):\n",
        "    n = len(board)\n",
        "    tablero = np.zeros((n, n, 3))\n",
        "    tablero += 0.8\n",
        "    tablero[::2, ::2] = 1\n",
        "    tablero[1::2, 1::2] = 1\n",
        "\n",
        "    fig, ax = plt.subplots()\n",
        "    ax.imshow(tablero, interpolation='nearest')\n",
        "\n",
        "    for y, x in enumerate(board):\n",
        "        ax.text(x, y, u'\\u265B', size=30, ha='center', va='center')\n",
        "\n",
        "    ax.set(xticks=[], yticks=[])\n",
        "    ax.axis('image')\n",
        "\n",
        "    plt.show()"
      ],
      "execution_count": 2,
      "outputs": []
    },
    {
      "cell_type": "code",
      "metadata": {
        "colab": {
          "base_uri": "https://localhost:8080/",
          "height": 252
        },
        "id": "cSNYhANuBwGV",
        "outputId": "57a02881-83c8-4dfc-caaf-685b044a770c"
      },
      "source": [
        "draw([1, 3, -1, -1])"
      ],
      "execution_count": 3,
      "outputs": [
        {
          "output_type": "display_data",
          "data": {
            "image/png": "[encoded data removed]",
            "text/plain": [
              "<Figure size 432x288 with 1 Axes>"
            ]
          },
          "metadata": {
            "tags": []
          }
        }
      ]
    },
    {
      "cell_type": "code",
      "metadata": {
        "id": "PIKsBwd6B-y8"
      },
      "source": [
        "def isLegal(board, row, column):\n",
        "    n = len(board)\n",
        "    for i in range(row):\n",
        "        if board[i] == column:\n",
        "            return False\n",
        "        dif = row - i\n",
        "        if board[i] + dif == column or board[i] - dif == column:\n",
        "            return False\n",
        "    return True"
      ],
      "execution_count": 4,
      "outputs": []
    },
    {
      "cell_type": "code",
      "metadata": {
        "colab": {
          "base_uri": "https://localhost:8080/"
        },
        "id": "_MBUJWdEE-SK",
        "outputId": "bf7d17cd-be36-42de-aa41-aaad1d2eb5f8"
      },
      "source": [
        "isLegal([1, 3, -1, -1], 2, 0)"
      ],
      "execution_count": 8,
      "outputs": [
        {
          "output_type": "execute_result",
          "data": {
            "text/plain": [
              "True"
            ]
          },
          "metadata": {
            "tags": []
          },
          "execution_count": 8
        }
      ]
    },
    {
      "cell_type": "code",
      "metadata": {
        "id": "8Gkgkr6RFDrY"
      },
      "source": [
        "def nQueens(board, row):\n",
        "    n = len(board)\n",
        "    if row < n:\n",
        "        for column in range(n):\n",
        "            if isLegal(board, row, column):\n",
        "                board[row] = column\n",
        "                nQueens(board, row + 1)\n",
        "    else:\n",
        "        draw(board)"
      ],
      "execution_count": 9,
      "outputs": []
    },
    {
      "cell_type": "markdown",
      "metadata": {
        "id": "cPyikLSu--Qd"
      },
      "source": [
        "Tip: creando arreglos con el mismo elemento"
      ]
    },
    {
      "cell_type": "code",
      "metadata": {
        "colab": {
          "base_uri": "https://localhost:8080/"
        },
        "id": "SqipriSwGuPl",
        "outputId": "1b3b44dd-5331-410a-d409-d04ba977b963"
      },
      "source": [
        "n = 5\n",
        "[10]*n"
      ],
      "execution_count": 10,
      "outputs": [
        {
          "output_type": "execute_result",
          "data": {
            "text/plain": [
              "[10, 10, 10, 10, 10]"
            ]
          },
          "metadata": {
            "tags": []
          },
          "execution_count": 10
        }
      ]
    },
    {
      "cell_type": "code",
      "metadata": {
        "colab": {
          "base_uri": "https://localhost:8080/",
          "height": 487
        },
        "id": "xIa9_F5MGMXB",
        "outputId": "ff3141e8-ca15-40ef-a0e4-8d6a8a6dbf08"
      },
      "source": [
        "n = 4\n",
        "nQueens([-1]*n, 0)"
      ],
      "execution_count": 11,
      "outputs": [
        {
          "output_type": "display_data",
          "data": {
            "image/png": "[encoded data removed]",
            "text/plain": [
              "<Figure size 432x288 with 1 Axes>"
            ]
          },
          "metadata": {
            "tags": []
          }
        },
        {
          "output_type": "display_data",
          "data": {
            "image/png": "[encoded data removed]",
            "text/plain": [
              "<Figure size 432x288 with 1 Axes>"
            ]
          },
          "metadata": {
            "tags": []
          }
        }
      ]
    },
    {
      "cell_type": "code",
      "metadata": {
        "id": "bcswXw53G18T"
      },
      "source": [
        "n = 8\n",
        "nQueens([-1]*n, 0)"
      ],
      "execution_count": null,
      "outputs": []
    },
    {
      "cell_type": "code",
      "metadata": {
        "id": "d1k2OkTV_Twp"
      },
      "source": [
        ""
      ],
      "execution_count": null,
      "outputs": []
    }
  ]
}
