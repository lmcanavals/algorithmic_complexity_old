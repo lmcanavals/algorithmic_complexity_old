{
  "nbformat": 4,
  "nbformat_minor": 0,
  "metadata": {
    "colab": {
      "name": "bo_floyd_warshall.ipynb",
      "provenance": [],
      "authorship_tag": "ABX9TyMePrXUYVstpVWcZ9sosevc",
      "include_colab_link": true
    },
    "kernelspec": {
      "name": "python3",
      "display_name": "Python 3"
    },
    "language_info": {
      "name": "python"
    }
  },
  "cells": [
    {
      "cell_type": "markdown",
      "metadata": {
        "id": "view-in-github",
        "colab_type": "text"
      },
      "source": [
        "<a href=\"https://colab.research.google.com/github/lmcanavals/algorithmic_complexity/blob/main/notebooks/bo_floyd_warshall.ipynb\" target=\"_parent\"><img src=\"https://colab.research.google.com/assets/colab-badge.svg\" alt=\"Open In Colab\"/></a>"
      ]
    },
    {
      "cell_type": "code",
      "metadata": {
        "id": "OIY2fNbrNzzb"
      },
      "source": [
        "import numpy as np"
      ],
      "execution_count": 1,
      "outputs": []
    },
    {
      "cell_type": "code",
      "metadata": {
        "id": "vW0AQ2hjN8bk"
      },
      "source": [
        "def relax(cost, path, cost_uv, path_kj, u, v):\n",
        "  if cost[u] + cost_uv < cost[v]:\n",
        "    cost[v] = cost[u] + cost_uv\n",
        "    path[v] = path_kj\n",
        "\n",
        "def floydWarshall(G):\n",
        "  n = len(G)\n",
        "  cost = G.copy()\n",
        "  path = np.full((n, n), -1)\n",
        "\n",
        "  for (i, j), _ in np.ndenumerate(path):\n",
        "    path[i, j] = i if G[i, j] != np.Inf else -1;\n",
        "\n",
        "  for k in range(n):\n",
        "    for i in range(n):\n",
        "      for j in range(n):\n",
        "        if i != j and i != k and k != j:\n",
        "          relax(cost[i], path[i], cost[k, j], path[k, j], k, j)\n",
        "  \n",
        "  return cost, path"
      ],
      "execution_count": 19,
      "outputs": []
    },
    {
      "cell_type": "code",
      "metadata": {
        "colab": {
          "base_uri": "https://localhost:8080/"
        },
        "id": "-74-frMyQsYJ",
        "outputId": "3645aa63-b993-4bc3-b81e-7fcce7cef8e0"
      },
      "source": [
        "%%file 1.adjmatrix\n",
        "0 5 0 0 0 0 0 0\n",
        "0 0 1 4 0 0 0 0\n",
        "0 9 0 0 6 0 5 0\n",
        "0 8 0 0 0 8 0 0\n",
        "0 0 0 0 0 0 7 1\n",
        "0 9 0 2 0 0 5 0\n",
        "0 0 0 0 4 0 0 0\n",
        "0 0 0 0 0 5 6 0"
      ],
      "execution_count": 20,
      "outputs": [
        {
          "output_type": "stream",
          "text": [
            "Overwriting 1.adjmatrix\n"
          ],
          "name": "stdout"
        }
      ]
    },
    {
      "cell_type": "code",
      "metadata": {
        "colab": {
          "base_uri": "https://localhost:8080/"
        },
        "id": "xjP-Re2JRqKo",
        "outputId": "cf4eac2a-b7bb-4430-ef3d-7a911ae3096a"
      },
      "source": [
        "G = np.fromfile(\"1.adjmatrix\", sep=\" \").reshape((8, 8))\n",
        "G[G == 0] = np.Inf\n",
        "G"
      ],
      "execution_count": 21,
      "outputs": [
        {
          "output_type": "execute_result",
          "data": {
            "text/plain": [
              "array([[inf,  5., inf, inf, inf, inf, inf, inf],\n",
              "       [inf, inf,  1.,  4., inf, inf, inf, inf],\n",
              "       [inf,  9., inf, inf,  6., inf,  5., inf],\n",
              "       [inf,  8., inf, inf, inf,  8., inf, inf],\n",
              "       [inf, inf, inf, inf, inf, inf,  7.,  1.],\n",
              "       [inf,  9., inf,  2., inf, inf,  5., inf],\n",
              "       [inf, inf, inf, inf,  4., inf, inf, inf],\n",
              "       [inf, inf, inf, inf, inf,  5.,  6., inf]])"
            ]
          },
          "metadata": {
            "tags": []
          },
          "execution_count": 21
        }
      ]
    },
    {
      "cell_type": "code",
      "metadata": {
        "colab": {
          "base_uri": "https://localhost:8080/"
        },
        "id": "XJGq5NcqR499",
        "outputId": "beaff744-85f7-4dbe-ee0f-1bb53dc55819"
      },
      "source": [
        "cost, path = floydWarshall(G)\n",
        "print(cost)\n",
        "print(path)"
      ],
      "execution_count": 22,
      "outputs": [
        {
          "output_type": "stream",
          "text": [
            "[[inf  5.  6.  9. 12. 17. 11. 13.]\n",
            " [inf inf  1.  4.  7. 12.  6.  8.]\n",
            " [inf  9. inf 13.  6. 12.  5.  7.]\n",
            " [inf  8.  9. inf 15.  8. 13. 16.]\n",
            " [inf 15. 16.  8. inf  6.  7.  1.]\n",
            " [inf  9. 10.  2.  9. inf  5. 10.]\n",
            " [inf 19. 20. 12.  4. 10. inf  5.]\n",
            " [inf 14. 15.  7. 10.  5.  6. inf]]\n",
            "[[-1  0  1  1  2  3  2  4]\n",
            " [-1 -1  1  1  2  3  2  4]\n",
            " [-1  2 -1  1  2  7  2  4]\n",
            " [-1  3  1 -1  2  3  5  4]\n",
            " [-1  5  1  5 -1  7  4  4]\n",
            " [-1  5  1  5  6 -1  5  4]\n",
            " [-1  5  1  5  6  7 -1  4]\n",
            " [-1  5  1  5  6  7  7 -1]]\n"
          ],
          "name": "stdout"
        }
      ]
    },
    {
      "cell_type": "code",
      "metadata": {
        "id": "EipdD6nzR_Me"
      },
      "source": [
        ""
      ],
      "execution_count": null,
      "outputs": []
    }
  ]
}