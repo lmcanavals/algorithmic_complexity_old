{
  "nbformat": 4,
  "nbformat_minor": 0,
  "metadata": {
    "colab": {
      "name": "bj_pilgrims.ipynb",
      "provenance": [],
      "authorship_tag": "ABX9TyP/DdVH8QwkDiMFLPQio8cp",
      "include_colab_link": true
    },
    "kernelspec": {
      "name": "python3",
      "display_name": "Python 3"
    },
    "language_info": {
      "name": "python"
    }
  },
  "cells": [
    {
      "cell_type": "markdown",
      "metadata": {
        "id": "view-in-github",
        "colab_type": "text"
      },
      "source": [
        "<a href=\"https://colab.research.google.com/github/lmcanavals/algorithmic_complexity/blob/main/notebooks/bj_pilgrims.ipynb\" target=\"_parent\"><img src=\"https://colab.research.google.com/assets/colab-badge.svg\" alt=\"Open In Colab\"/></a>"
      ]
    },
    {
      "cell_type": "code",
      "metadata": {
        "colab": {
          "base_uri": "https://localhost:8080/"
        },
        "id": "xhEhJdo_4gnq",
        "outputId": "24bb03df-840b-465b-eade-4b778ca4132c"
      },
      "source": [
        "!git clone https://github.com/lmcanavals/algorithmic_complexity.git"
      ],
      "execution_count": 1,
      "outputs": [
        {
          "output_type": "stream",
          "text": [
            "Cloning into 'algorithmic_complexity'...\n",
            "remote: Enumerating objects: 357, done.\u001b[K\n",
            "remote: Counting objects: 100% (357/357), done.\u001b[K\n",
            "remote: Compressing objects: 100% (348/348), done.\u001b[K\n",
            "remote: Total 357 (delta 205), reused 14 (delta 4), pack-reused 0\u001b[K\n",
            "Receiving objects: 100% (357/357), 322.10 KiB | 4.81 MiB/s, done.\n",
            "Resolving deltas: 100% (205/205), done.\n"
          ],
          "name": "stdout"
        }
      ]
    },
    {
      "cell_type": "code",
      "metadata": {
        "id": "auvry2_05__U"
      },
      "source": [
        "from algorithmic_complexity.aclib.ds import DisjointSet\n",
        "from algorithmic_complexity.aclib import graphstuff as gs\n",
        "import networkx as nx\n",
        "from heapq import heappush as push, heappop as pop\n",
        "import math"
      ],
      "execution_count": 8,
      "outputs": []
    },
    {
      "cell_type": "code",
      "metadata": {
        "colab": {
          "base_uri": "https://localhost:8080/"
        },
        "id": "9sjaFLHU6EiK",
        "outputId": "f125d547-020b-47c3-a434-d8069b5a8fa2"
      },
      "source": [
        "%%file 1.in\n",
        "1\n",
        "5 10 3\n",
        "1 2 10\n",
        "1 3 5\n",
        "1 4 10\n",
        "1 5 80\n",
        "2 3 9\n",
        "2 4 1\n",
        "2 5 20\n",
        "3 4 100\n",
        "3 5 2\n",
        "4 5 20"
      ],
      "execution_count": 3,
      "outputs": [
        {
          "output_type": "stream",
          "text": [
            "Writing 1.in\n"
          ],
          "name": "stdout"
        }
      ]
    },
    {
      "cell_type": "code",
      "metadata": {
        "id": "valIdQEh566w"
      },
      "source": [
        "def kruskital(G):\n",
        "  n = G.number_of_nodes()\n",
        "  ds = DisjointSet(n)\n",
        "  edges = []\n",
        "  for u, v in G.edges:\n",
        "    w = G.edges[u, v]['weight']\n",
        "    push(edges, (w, u, v))\n",
        "\n",
        "  G2 = nx.Graph()\n",
        "  for u in range(n):\n",
        "    G2.add_node(u)\n",
        "    \n",
        "  while edges and n > 0:\n",
        "    w, u, v = pop(edges)\n",
        "    if not ds.isSameSet(u, v):\n",
        "      ds.union(u, v)\n",
        "      G2.add_edge(u, v, weight=w)\n",
        "\n",
        "  return G2"
      ],
      "execution_count": 4,
      "outputs": []
    },
    {
      "cell_type": "code",
      "metadata": {
        "id": "vja4SoGS7vww"
      },
      "source": [
        "def dijkstra(G, s):\n",
        "  for u in G.nodes:\n",
        "    G.nodes[u]['visited'] = False\n",
        "    G.nodes[u]['path']    = -1\n",
        "    G.nodes[u]['cost']    = math.inf\n",
        "\n",
        "  G.nodes[s]['cost'] = 0\n",
        "  q = [(0, s)]\n",
        "  while q:\n",
        "    g_u, u = pop(q)\n",
        "    if not G.nodes[u]['visited']:\n",
        "      G.nodes[u]['visited'] = True\n",
        "      for v in G.neighbors(u):\n",
        "        if not G.nodes[v]['visited']:\n",
        "          w_uv = G.edges[u, v]['weight']\n",
        "          f_v  = g_u + w_uv\n",
        "          g_v  = G.nodes[v]['cost']\n",
        "          if f_v < g_v:\n",
        "            G.nodes[v]['cost'] = f_v\n",
        "            G.nodes[v]['path'] = u\n",
        "            push(q, (f_v, v))\n",
        "\n",
        "  path = [-1]*G.number_of_nodes()\n",
        "  cost = [0]*G.number_of_nodes()\n",
        "  for v, info in G.nodes.data():\n",
        "    path[v] = info['path']\n",
        "    cost[v] = info['cost']\n",
        "\n",
        "  return path, cost"
      ],
      "execution_count": 10,
      "outputs": []
    },
    {
      "cell_type": "code",
      "metadata": {
        "colab": {
          "base_uri": "https://localhost:8080/"
        },
        "id": "rd0IbxuN6GR-",
        "outputId": "b32007cc-4571-411e-cee4-e742496ecabb"
      },
      "source": [
        "with open('1.in') as f:\n",
        "  t = int(f.readline())\n",
        "  while t > 0:\n",
        "    t -= 1\n",
        "    n, m, k = map(int, f.readline().split())\n",
        "    G = nx.Graph()\n",
        "    for u in range(n):\n",
        "      G.add_node(u)\n",
        "\n",
        "    for _ in range(m):\n",
        "      u, v, w = map(int, f.readline().split())\n",
        "      G.add_edge(u-1, v-1, weight=w)\n",
        "      \n",
        "    G2 = kruskital(G)\n",
        "    path, cost = dijkstra(G2, 0)\n",
        "    print(max(cost[:k]))"
      ],
      "execution_count": 21,
      "outputs": [
        {
          "output_type": "stream",
          "text": [
            "14\n"
          ],
          "name": "stdout"
        }
      ]
    },
    {
      "cell_type": "code",
      "metadata": {
        "id": "_RfXUT519ONj"
      },
      "source": [
        ""
      ],
      "execution_count": null,
      "outputs": []
    }
  ]
}