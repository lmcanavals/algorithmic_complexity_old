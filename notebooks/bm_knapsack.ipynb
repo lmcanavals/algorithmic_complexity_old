{
  "nbformat": 4,
  "nbformat_minor": 0,
  "metadata": {
    "colab": {
      "name": "bm_knapsack.ipynb",
      "provenance": [],
      "authorship_tag": "ABX9TyONJCbtZX04iYlJt3A9dCM7",
      "include_colab_link": true
    },
    "kernelspec": {
      "name": "python3",
      "display_name": "Python 3"
    },
    "language_info": {
      "name": "python"
    }
  },
  "cells": [
    {
      "cell_type": "markdown",
      "metadata": {
        "id": "view-in-github",
        "colab_type": "text"
      },
      "source": [
        "<a href=\"https://colab.research.google.com/github/lmcanavals/algorithmic_complexity/blob/main/notebooks/bm_knapsack.ipynb\" target=\"_parent\"><img src=\"https://colab.research.google.com/assets/colab-badge.svg\" alt=\"Open In Colab\"/></a>"
      ]
    },
    {
      "cell_type": "markdown",
      "metadata": {
        "id": "Ze--C1z2s3vT"
      },
      "source": [
        "# El problema de la mochila azul o Knapsack"
      ]
    },
    {
      "cell_type": "markdown",
      "metadata": {
        "id": "tpl8RWPDtFr3"
      },
      "source": [
        "## Naive"
      ]
    },
    {
      "cell_type": "code",
      "metadata": {
        "id": "ekiEzbZKs2w3"
      },
      "source": [
        "def naiveKS(W, V, i, j):\n",
        "  if i == 0 or j == 0:\n",
        "    return 0\n",
        "  elif j < W[i]:\n",
        "    return naiveKS(W, V, i - 1, j)\n",
        "  else:\n",
        "    return max(V[i] + naiveKS(W, V, i - 1, j - W[i]), naiveKS(W, V, i - 1, j))"
      ],
      "execution_count": 1,
      "outputs": []
    },
    {
      "cell_type": "code",
      "metadata": {
        "colab": {
          "base_uri": "https://localhost:8080/"
        },
        "id": "m4eePCWntzh4",
        "outputId": "55fff7e9-326e-4d48-ae0e-03a89923f460"
      },
      "source": [
        "N = 4\n",
        "M = 5\n",
        "W = [0, 2, 3, 4, 5]\n",
        "V = [0, 3, 4, 5, 6]\n",
        "naiveKS(W, V, N, M)"
      ],
      "execution_count": 2,
      "outputs": [
        {
          "output_type": "execute_result",
          "data": {
            "text/plain": [
              "7"
            ]
          },
          "metadata": {
            "tags": []
          },
          "execution_count": 2
        }
      ]
    },
    {
      "cell_type": "code",
      "metadata": {
        "colab": {
          "base_uri": "https://localhost:8080/"
        },
        "id": "3pFqL2nit_md",
        "outputId": "613ba3d7-5137-4dc3-fdc6-871a982006c7"
      },
      "source": [
        "%timeit naiveKS(W, V, N, M)"
      ],
      "execution_count": 3,
      "outputs": [
        {
          "output_type": "stream",
          "text": [
            "The slowest run took 8.54 times longer than the fastest. This could mean that an intermediate result is being cached.\n",
            "100000 loops, best of 5: 3.62 µs per loop\n"
          ],
          "name": "stdout"
        }
      ]
    },
    {
      "cell_type": "code",
      "metadata": {
        "colab": {
          "base_uri": "https://localhost:8080/"
        },
        "id": "-rMPeiGHuGRk",
        "outputId": "6ac00f74-c6b8-40b8-b3ce-7134e3949bba"
      },
      "source": [
        "N = 25\n",
        "M = 30\n",
        "W = [0] + [i + 1 for i in range(N)]\n",
        "V = [0] + [i + 2 for i in range(M)]\n",
        "%timeit naiveKS(W, V, N, M)"
      ],
      "execution_count": 5,
      "outputs": [
        {
          "output_type": "stream",
          "text": [
            "1000 loops, best of 5: 1.35 ms per loop\n"
          ],
          "name": "stdout"
        }
      ]
    },
    {
      "cell_type": "code",
      "metadata": {
        "colab": {
          "base_uri": "https://localhost:8080/"
        },
        "id": "EbLcFMF84JfY",
        "outputId": "2c7d861b-d262-4081-b5b5-342c3ff708f7"
      },
      "source": [
        "N = 50\n",
        "M = 60\n",
        "W = [0] + [i + 1 for i in range(N)]\n",
        "V = [0] + [i + 2 for i in range(M)]\n",
        "%timeit naiveKS(W, V, N, M)"
      ],
      "execution_count": 23,
      "outputs": [
        {
          "output_type": "stream",
          "text": [
            "10 loops, best of 5: 67.4 ms per loop\n"
          ],
          "name": "stdout"
        }
      ]
    },
    {
      "cell_type": "markdown",
      "metadata": {
        "id": "8hFxIokBwU4v"
      },
      "source": [
        "## DP"
      ]
    },
    {
      "cell_type": "code",
      "metadata": {
        "id": "86U1cJQ7wa8l"
      },
      "source": [
        "import numpy as np"
      ],
      "execution_count": 6,
      "outputs": []
    },
    {
      "cell_type": "code",
      "metadata": {
        "id": "xcnW0_LluR1f"
      },
      "source": [
        "def dpKS(W, V, N, M):\n",
        "  C = np.zeros((N+1, M+1))\n",
        "  for i in range(1, N+1):\n",
        "    for j in range(1, M+1):\n",
        "      if j < W[i]:\n",
        "        C[i, j] = C[i-1, j]\n",
        "      else:\n",
        "        C[i, j] = max(V[i] + C[i-1, j-W[i]], C[i-1, j])\n",
        "  return C[N, M]"
      ],
      "execution_count": 15,
      "outputs": []
    },
    {
      "cell_type": "code",
      "metadata": {
        "colab": {
          "base_uri": "https://localhost:8080/"
        },
        "id": "86sbWokcynPu",
        "outputId": "e41d4f6d-216f-4d29-8bfc-da6017ca6fdf"
      },
      "source": [
        "N = 4\n",
        "M = 5\n",
        "W = [0, 2, 3, 4, 5]\n",
        "V = [0, 3, 4, 5, 6]\n",
        "dpKS(W, V, N, M)"
      ],
      "execution_count": 16,
      "outputs": [
        {
          "output_type": "execute_result",
          "data": {
            "text/plain": [
              "7.0"
            ]
          },
          "metadata": {
            "tags": []
          },
          "execution_count": 16
        }
      ]
    },
    {
      "cell_type": "code",
      "metadata": {
        "colab": {
          "base_uri": "https://localhost:8080/"
        },
        "id": "n2QE5FHayxx3",
        "outputId": "36fc0ff3-de8f-4863-9fce-6298eef3540d"
      },
      "source": [
        "%timeit dpKS(W, V, N, M)"
      ],
      "execution_count": 17,
      "outputs": [
        {
          "output_type": "stream",
          "text": [
            "100000 loops, best of 5: 18.1 µs per loop\n"
          ],
          "name": "stdout"
        }
      ]
    },
    {
      "cell_type": "code",
      "metadata": {
        "colab": {
          "base_uri": "https://localhost:8080/"
        },
        "id": "VNmowgHwzCcS",
        "outputId": "bdbbe17d-84b6-4c1d-bae2-6977f5347be0"
      },
      "source": [
        "N = 25\n",
        "M = 30\n",
        "W = [0] + [i + 1 for i in range(N)]\n",
        "V = [0] + [i + 2 for i in range(M)]\n",
        "%timeit dpKS(W, V, N, M)"
      ],
      "execution_count": 18,
      "outputs": [
        {
          "output_type": "stream",
          "text": [
            "1000 loops, best of 5: 646 µs per loop\n"
          ],
          "name": "stdout"
        }
      ]
    },
    {
      "cell_type": "code",
      "metadata": {
        "colab": {
          "base_uri": "https://localhost:8080/"
        },
        "id": "iYImSkOP4Su8",
        "outputId": "293a2472-7f94-425d-8c40-1fba538ca40f"
      },
      "source": [
        "N = 50\n",
        "M = 60\n",
        "W = [0] + [i + 1 for i in range(N)]\n",
        "V = [0] + [i + 2 for i in range(M)]\n",
        "%timeit dpKS(W, V, N, M)"
      ],
      "execution_count": 24,
      "outputs": [
        {
          "output_type": "stream",
          "text": [
            "100 loops, best of 5: 2.51 ms per loop\n"
          ],
          "name": "stdout"
        }
      ]
    },
    {
      "cell_type": "markdown",
      "metadata": {
        "id": "4jrKaS4c1-8F"
      },
      "source": [
        "## Better DP, maybe? sorry, no."
      ]
    },
    {
      "cell_type": "code",
      "metadata": {
        "id": "yJN8UxZN2P2I"
      },
      "source": [
        "def ks(W, V, N, M):\n",
        "  C[:, :] = 0\n",
        "  Calculated[:, :] = 0\n",
        "  Calculated[0, :] = 1\n",
        "  Calculated[:, 0] = 1\n",
        "\n",
        "  def recursive(i, j):\n",
        "    if Calculated[i - 1, j] == 0:\n",
        "      Calculated[i - 1, j] = 1\n",
        "      recursive(i - 1, j)\n",
        "    if j < W[i]:\n",
        "      C[i, j] = C[i - 1, j]\n",
        "    else:\n",
        "      if Calculated[i - 1, j - W[i]] == 0:\n",
        "        Calculated[i - 1, j - W[i]] = 1\n",
        "        recursive(i - 1, j - W[i])\n",
        "      C[i, j] = max(V[i] + C[i - 1, j - W[i]], C[i - 1, j])\n",
        "\n",
        "  recursive(N, M)\n",
        "  return C[N, M]"
      ],
      "execution_count": 34,
      "outputs": []
    },
    {
      "cell_type": "code",
      "metadata": {
        "colab": {
          "base_uri": "https://localhost:8080/"
        },
        "id": "3zRJrymM3upe",
        "outputId": "df7798b7-afaa-4e0f-e607-74ac5b3a67a0"
      },
      "source": [
        "N = 4\n",
        "M = 5\n",
        "W = [0, 2, 3, 4, 5]\n",
        "V = [0, 3, 4, 5, 6]\n",
        "C = np.zeros((N + 1, M + 1))\n",
        "Calculated = np.zeros((N + 1, M + 1)) # 1 calculated, 0 not yet calculated\n",
        "ks(W, V, N, M)"
      ],
      "execution_count": 35,
      "outputs": [
        {
          "output_type": "execute_result",
          "data": {
            "text/plain": [
              "7.0"
            ]
          },
          "metadata": {
            "tags": []
          },
          "execution_count": 35
        }
      ]
    },
    {
      "cell_type": "code",
      "metadata": {
        "colab": {
          "base_uri": "https://localhost:8080/"
        },
        "id": "167vPwSG3xxL",
        "outputId": "e12fe638-3883-4677-ba69-7035e46c875a"
      },
      "source": [
        "C = np.zeros((N + 1, M + 1))\n",
        "Calculated = np.zeros((N + 1, M + 1)) # 1 calculated, 0 not yet calculated\n",
        "%timeit ks(W, V, N, M)"
      ],
      "execution_count": 36,
      "outputs": [
        {
          "output_type": "stream",
          "text": [
            "The slowest run took 4.65 times longer than the fastest. This could mean that an intermediate result is being cached.\n",
            "100000 loops, best of 5: 19.6 µs per loop\n"
          ],
          "name": "stdout"
        }
      ]
    },
    {
      "cell_type": "code",
      "metadata": {
        "colab": {
          "base_uri": "https://localhost:8080/"
        },
        "id": "nNwjjPHP36P9",
        "outputId": "deedfc9f-0a6f-4d34-9d19-16b7d0c9040f"
      },
      "source": [
        "N = 25\n",
        "M = 30\n",
        "W = [0] + [i + 1 for i in range(N)]\n",
        "V = [0] + [i + 2 for i in range(M)]\n",
        "C = np.zeros((N + 1, M + 1))\n",
        "Calculated = np.zeros((N + 1, M + 1)) # 1 calculated, 0 not yet calculated\n",
        "%timeit ks(W, V, N, M)"
      ],
      "execution_count": 37,
      "outputs": [
        {
          "output_type": "stream",
          "text": [
            "1000 loops, best of 5: 778 µs per loop\n"
          ],
          "name": "stdout"
        }
      ]
    },
    {
      "cell_type": "code",
      "metadata": {
        "colab": {
          "base_uri": "https://localhost:8080/"
        },
        "id": "Mj-S9DQ84agt",
        "outputId": "c1859143-c8b0-441b-9358-ca6204c5c93a"
      },
      "source": [
        "N = 50\n",
        "M = 60\n",
        "W = [0] + [i + 1 for i in range(N)]\n",
        "V = [0] + [i + 2 for i in range(M)]\n",
        "C = np.zeros((N + 1, M + 1))\n",
        "Calculated = np.zeros((N + 1, M + 1)) # 1 calculated, 0 not yet calculated\n",
        "%timeit ks(W, V, N, M)"
      ],
      "execution_count": 38,
      "outputs": [
        {
          "output_type": "stream",
          "text": [
            "100 loops, best of 5: 3.06 ms per loop\n"
          ],
          "name": "stdout"
        }
      ]
    },
    {
      "cell_type": "markdown",
      "metadata": {
        "id": "y57g1kT5wdVl"
      },
      "source": [
        "### Por qué numpy?"
      ]
    },
    {
      "cell_type": "code",
      "metadata": {
        "id": "TYMOBl8Uwfad"
      },
      "source": [
        "def conNP0(n, m):\n",
        "  return np.zeros((n, m))\n",
        "\n",
        "def conNP1(n, m):\n",
        "  return np.ones((n, m))\n",
        "\n",
        "def conNPx(n, m, x):\n",
        "  return np.full((n, m), x)\n",
        "\n",
        "def sinNP0(n, m):\n",
        "  return [[0]*m for _ in range(n)]\n",
        "\n",
        "def sinNP1(n, m):\n",
        "  return [[1]*m for _ in range(n)]\n",
        "\n",
        "def sinNPx(n, m, x):\n",
        "  return [[x]*m for _ in range(n)]"
      ],
      "execution_count": 8,
      "outputs": []
    },
    {
      "cell_type": "code",
      "metadata": {
        "colab": {
          "base_uri": "https://localhost:8080/"
        },
        "id": "I96w4jnMwojb",
        "outputId": "dbdb1d6b-da56-4aab-b430-6bc8d2f060ad"
      },
      "source": [
        "%timeit conNP0(10, 10)\n",
        "%timeit sinNP0(10, 10)\n",
        "%timeit conNP1(10, 10)\n",
        "%timeit sinNP1(10, 10)\n",
        "%timeit conNPx(10, 10, -1)\n",
        "%timeit sinNPx(10, 10, -1)"
      ],
      "execution_count": 11,
      "outputs": [
        {
          "output_type": "stream",
          "text": [
            "The slowest run took 36.17 times longer than the fastest. This could mean that an intermediate result is being cached.\n",
            "1000000 loops, best of 5: 475 ns per loop\n",
            "The slowest run took 4.38 times longer than the fastest. This could mean that an intermediate result is being cached.\n",
            "100000 loops, best of 5: 2.1 µs per loop\n",
            "The slowest run took 26.92 times longer than the fastest. This could mean that an intermediate result is being cached.\n",
            "100000 loops, best of 5: 1.97 µs per loop\n",
            "100000 loops, best of 5: 2.13 µs per loop\n",
            "The slowest run took 16.92 times longer than the fastest. This could mean that an intermediate result is being cached.\n",
            "100000 loops, best of 5: 2.32 µs per loop\n",
            "100000 loops, best of 5: 2.16 µs per loop\n"
          ],
          "name": "stdout"
        }
      ]
    },
    {
      "cell_type": "code",
      "metadata": {
        "colab": {
          "base_uri": "https://localhost:8080/"
        },
        "id": "zEifPxgvxHE6",
        "outputId": "01c9d4da-deb2-4475-fe8d-0008640603c7"
      },
      "source": [
        "%timeit conNP0(1000, 1000)\n",
        "%timeit sinNP0(1000, 1000)\n",
        "%timeit conNP1(1000, 1000)\n",
        "%timeit sinNP1(1000, 1000)\n",
        "%timeit conNPx(1000, 1000, -1)\n",
        "%timeit sinNPx(1000, 1000, -1)"
      ],
      "execution_count": 12,
      "outputs": [
        {
          "output_type": "stream",
          "text": [
            "The slowest run took 8.16 times longer than the fastest. This could mean that an intermediate result is being cached.\n",
            "1000 loops, best of 5: 1.14 ms per loop\n",
            "100 loops, best of 5: 3.19 ms per loop\n",
            "The slowest run took 5.48 times longer than the fastest. This could mean that an intermediate result is being cached.\n",
            "1000 loops, best of 5: 740 µs per loop\n",
            "100 loops, best of 5: 3.18 ms per loop\n",
            "1000 loops, best of 5: 568 µs per loop\n",
            "100 loops, best of 5: 3.23 ms per loop\n"
          ],
          "name": "stdout"
        }
      ]
    },
    {
      "cell_type": "code",
      "metadata": {
        "id": "0k9QX6kC5Y3C"
      },
      "source": [
        "def recreate(n, m):\n",
        "  return np.zeros((n, m))\n",
        "\n",
        "def override():\n",
        "  c[:,:] = 0"
      ],
      "execution_count": 32,
      "outputs": []
    },
    {
      "cell_type": "code",
      "metadata": {
        "colab": {
          "base_uri": "https://localhost:8080/"
        },
        "id": "9nVoqUQS5qyS",
        "outputId": "e76eb599-3c07-4c2e-c064-a2f511c66a78"
      },
      "source": [
        "%timeit recreate(1000, 1000)\n",
        "c = np.zeros((1000, 1000))\n",
        "%timeit override()"
      ],
      "execution_count": 33,
      "outputs": [
        {
          "output_type": "stream",
          "text": [
            "1000 loops, best of 5: 1.3 ms per loop\n",
            "1000 loops, best of 5: 390 µs per loop\n"
          ],
          "name": "stdout"
        }
      ]
    },
    {
      "cell_type": "code",
      "metadata": {
        "id": "fCoIuieZ50jU"
      },
      "source": [
        ""
      ],
      "execution_count": null,
      "outputs": []
    }
  ]
}