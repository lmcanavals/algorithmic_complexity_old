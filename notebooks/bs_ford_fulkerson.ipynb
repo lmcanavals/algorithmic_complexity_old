{
  "nbformat": 4,
  "nbformat_minor": 0,
  "metadata": {
    "colab": {
      "name": "bs_ford_fulkerson.ipynb",
      "provenance": [],
      "authorship_tag": "ABX9TyOQxj6TGGD9BFyC1OXOYPE2",
      "include_colab_link": true
    },
    "kernelspec": {
      "name": "python3",
      "display_name": "Python 3"
    },
    "language_info": {
      "name": "python"
    }
  },
  "cells": [
    {
      "cell_type": "markdown",
      "metadata": {
        "id": "view-in-github",
        "colab_type": "text"
      },
      "source": [
        "<a href=\"https://colab.research.google.com/github/lmcanavals/algorithmic_complexity/blob/main/notebooks/bs_ford_fulkerson.ipynb\" target=\"_parent\"><img src=\"https://colab.research.google.com/assets/colab-badge.svg\" alt=\"Open In Colab\"/></a>"
      ]
    },
    {
      "cell_type": "code",
      "metadata": {
        "colab": {
          "base_uri": "https://localhost:8080/"
        },
        "id": "mmHU8WqamaVD",
        "outputId": "a540bd2a-b8bf-4433-c03d-2b679db18428"
      },
      "source": [
        "!git clone https://github.com/lmcanavals/algorithmic_complexity.git"
      ],
      "execution_count": null,
      "outputs": [
        {
          "output_type": "stream",
          "text": [
            "Cloning into 'algorithmic_complexity'...\n",
            "remote: Enumerating objects: 438, done.\u001b[K\n",
            "remote: Counting objects: 100% (438/438), done.\u001b[K\n",
            "remote: Compressing objects: 100% (407/407), done.\u001b[K\n",
            "remote: Total 438 (delta 245), reused 52 (delta 16), pack-reused 0\u001b[K\n",
            "Receiving objects: 100% (438/438), 508.88 KiB | 9.79 MiB/s, done.\n",
            "Resolving deltas: 100% (245/245), done.\n"
          ],
          "name": "stdout"
        }
      ]
    },
    {
      "cell_type": "code",
      "metadata": {
        "id": "rWiDhwV_mqNl"
      },
      "source": [
        "from algorithmic_complexity.aclib import graphstuff as gs\n",
        "import networkx as nx\n",
        "import numpy as np"
      ],
      "execution_count": null,
      "outputs": []
    },
    {
      "cell_type": "code",
      "metadata": {
        "id": "gZkf-rO5mx50"
      },
      "source": [
        "def dfs(G, u, t, visited):\n",
        "  visited[u] = True\n",
        "  if u == t:\n",
        "    return [u], np.Inf\n",
        "  else:\n",
        "    n = len(G)\n",
        "    for v in range(n):\n",
        "      if G[u][v] > 0 and not visited[v]:\n",
        "        path, mind = dfs(G, v, t, visited)\n",
        "        if path != None:\n",
        "          return [u] + path, mind if mind < G[u, v] else G[u, v]\n",
        "\n",
        "    return None, 0"
      ],
      "execution_count": null,
      "outputs": []
    },
    {
      "cell_type": "code",
      "metadata": {
        "id": "IvSamUlwtFPk"
      },
      "source": [
        "def fordFulkerson(G, s, t):\n",
        "  n = len(G)\n",
        "  Gres = G.copy()\n",
        "  Gflow = np.zeros((n, n))\n",
        "  \n",
        "  while True:\n",
        "    path, bottleneck = dfs(Gres, s, t, [False]*n)\n",
        "\n",
        "    if path != None:\n",
        "      for i in range(1, len(path)):\n",
        "        u = path[i - 1]\n",
        "        v = path[i]\n",
        "        Gres[u][v] -= bottleneck\n",
        "        Gres[v][u] += bottleneck\n",
        "        Gflow[u][v] = Gflow[u][v] - Gflow[v][u] + bottleneck\n",
        "    else:\n",
        "      break\n",
        "\n",
        "  return Gflow, np.sum(Gflow[s])"
      ],
      "execution_count": null,
      "outputs": []
    },
    {
      "cell_type": "markdown",
      "metadata": {
        "id": "8TEfn9ejoZ6q"
      },
      "source": [
        "Node | Number\n",
        "-- | --\n",
        "S | 0\n",
        "a | 1\n",
        "b | 2\n",
        "c | 3\n",
        "d | 4\n",
        "t | 5"
      ]
    },
    {
      "cell_type": "code",
      "metadata": {
        "colab": {
          "base_uri": "https://localhost:8080/"
        },
        "id": "b61_7vU8oP7s",
        "outputId": "aa913bb0-cf23-4cc0-e3f6-f5cf1c1874f9"
      },
      "source": [
        "%%file 1.adjmatrix\n",
        "0 16  0 13  0  0\n",
        "0  0 12 10  0  0\n",
        "0  0  0  9  0 20\n",
        "0  4  0  0 14  0\n",
        "0  0  7  0  0  4 \n",
        "0  0  0  0  0  0"
      ],
      "execution_count": null,
      "outputs": [
        {
          "output_type": "stream",
          "text": [
            "Writing 1.adjmatrix\n"
          ],
          "name": "stdout"
        }
      ]
    },
    {
      "cell_type": "code",
      "metadata": {
        "colab": {
          "base_uri": "https://localhost:8080/"
        },
        "id": "XKfHyM-fpbFU",
        "outputId": "bf85d131-2453-4f14-ba2f-bb4d7ddbdec2"
      },
      "source": [
        "G = np.fromfile(\"1.adjmatrix\", sep=\" \").reshape((6, 6))\n",
        "G"
      ],
      "execution_count": null,
      "outputs": [
        {
          "output_type": "execute_result",
          "data": {
            "text/plain": [
              "array([[ 0., 16.,  0., 13.,  0.,  0.],\n",
              "       [ 0.,  0., 12., 10.,  0.,  0.],\n",
              "       [ 0.,  0.,  0.,  9.,  0., 20.],\n",
              "       [ 0.,  4.,  0.,  0., 14.,  0.],\n",
              "       [ 0.,  0.,  7.,  0.,  0.,  4.],\n",
              "       [ 0.,  0.,  0.,  0.,  0.,  0.]])"
            ]
          },
          "metadata": {
            "tags": []
          },
          "execution_count": 5
        }
      ]
    },
    {
      "cell_type": "code",
      "metadata": {
        "colab": {
          "base_uri": "https://localhost:8080/",
          "height": 209
        },
        "id": "JJh0qv0mpniL",
        "outputId": "83fa512d-3e01-494a-98b1-24a209f7baf0"
      },
      "source": [
        "Gnx = nx.from_numpy_matrix(G, create_using=nx.DiGraph)\n",
        "gs.nx2gv(Gnx, weighted=True)"
      ],
      "execution_count": null,
      "outputs": [
        {
          "output_type": "execute_result",
          "data": {
            "text/plain": [
              "<graphviz.dot.Digraph at 0x7f0a0df38550>"
            ],
            "image/svg+xml": "<?xml version=\"1.0\" encoding=\"UTF-8\" standalone=\"no\"?>\n<!DOCTYPE svg PUBLIC \"-//W3C//DTD SVG 1.1//EN\"\n \"http://www.w3.org/Graphics/SVG/1.1/DTD/svg11.dtd\">\n<!-- Generated by graphviz version 2.40.1 (20161225.0304)\n -->\n<!-- Title: G Pages: 1 -->\n<svg width=\"432pt\" height=\"142pt\"\n viewBox=\"0.00 0.00 432.00 142.40\" xmlns=\"http://www.w3.org/2000/svg\" xmlns:xlink=\"http://www.w3.org/1999/xlink\">\n<g id=\"graph0\" class=\"graph\" transform=\"scale(.6846 .6846) rotate(0) translate(4 204)\">\n<title>G</title>\n<polygon fill=\"#ffffff\" stroke=\"transparent\" points=\"-4,4 -4,-204 627,-204 627,4 -4,4\"/>\n<!-- 0 -->\n<g id=\"node1\" class=\"node\">\n<title>0</title>\n<ellipse fill=\"none\" stroke=\"#000000\" cx=\"27\" cy=\"-182\" rx=\"27\" ry=\"18\"/>\n<text text-anchor=\"middle\" x=\"27\" y=\"-178.3\" font-family=\"Times,serif\" font-size=\"14.00\" fill=\"#000000\">0</text>\n</g>\n<!-- 1 -->\n<g id=\"node2\" class=\"node\">\n<title>1</title>\n<ellipse fill=\"none\" stroke=\"#000000\" cx=\"144\" cy=\"-135\" rx=\"27\" ry=\"18\"/>\n<text text-anchor=\"middle\" x=\"144\" y=\"-131.3\" font-family=\"Times,serif\" font-size=\"14.00\" fill=\"#000000\">1</text>\n</g>\n<!-- 0&#45;&gt;1 -->\n<g id=\"edge1\" class=\"edge\">\n<title>0&#45;&gt;1</title>\n<path fill=\"none\" stroke=\"#000000\" d=\"M50.3955,-172.6018C67.8523,-165.5892 91.9271,-155.9182 111.2895,-148.1401\"/>\n<polygon fill=\"#000000\" stroke=\"#000000\" points=\"112.6704,-151.3573 120.6451,-144.3819 110.0611,-144.8618 112.6704,-151.3573\"/>\n<text text-anchor=\"middle\" x=\"85.5\" y=\"-165.8\" font-family=\"Times,serif\" font-size=\"14.00\" fill=\"#000000\">16.0</text>\n</g>\n<!-- 3 -->\n<g id=\"node4\" class=\"node\">\n<title>3</title>\n<ellipse fill=\"none\" stroke=\"#000000\" cx=\"370\" cy=\"-111\" rx=\"27\" ry=\"18\"/>\n<text text-anchor=\"middle\" x=\"370\" y=\"-107.3\" font-family=\"Times,serif\" font-size=\"14.00\" fill=\"#000000\">3</text>\n</g>\n<!-- 0&#45;&gt;3 -->\n<g id=\"edge2\" class=\"edge\">\n<title>0&#45;&gt;3</title>\n<path fill=\"none\" stroke=\"#000000\" d=\"M54.0479,-182.4419C67.5681,-182.4551 84.1687,-182.1576 99,-181 183.5955,-174.3973 205.8233,-175.142 288,-154 305.0278,-149.6192 309.3011,-147.9172 325,-140 330.8817,-137.0338 336.9558,-133.4872 342.665,-129.9089\"/>\n<polygon fill=\"#000000\" stroke=\"#000000\" points=\"344.7695,-132.7157 351.2561,-124.3387 340.9613,-126.8422 344.7695,-132.7157\"/>\n<text text-anchor=\"middle\" x=\"202.5\" y=\"-176.8\" font-family=\"Times,serif\" font-size=\"14.00\" fill=\"#000000\">13.0</text>\n</g>\n<!-- 2 -->\n<g id=\"node3\" class=\"node\">\n<title>2</title>\n<ellipse fill=\"none\" stroke=\"#000000\" cx=\"261\" cy=\"-53\" rx=\"27\" ry=\"18\"/>\n<text text-anchor=\"middle\" x=\"261\" y=\"-49.3\" font-family=\"Times,serif\" font-size=\"14.00\" fill=\"#000000\">2</text>\n</g>\n<!-- 1&#45;&gt;2 -->\n<g id=\"edge3\" class=\"edge\">\n<title>1&#45;&gt;2</title>\n<path fill=\"none\" stroke=\"#000000\" d=\"M154.903,-118.305C163.121,-106.8098 175.2944,-91.8858 189,-82 200.1249,-73.9757 213.786,-67.7477 226.2075,-63.1562\"/>\n<polygon fill=\"#000000\" stroke=\"#000000\" points=\"227.5284,-66.4027 235.8315,-59.8217 225.2367,-59.7885 227.5284,-66.4027\"/>\n<text text-anchor=\"middle\" x=\"202.5\" y=\"-85.8\" font-family=\"Times,serif\" font-size=\"14.00\" fill=\"#000000\">12.0</text>\n</g>\n<!-- 1&#45;&gt;3 -->\n<g id=\"edge4\" class=\"edge\">\n<title>1&#45;&gt;3</title>\n<path fill=\"none\" stroke=\"#000000\" d=\"M171.0509,-136.2157C206.7614,-137.2079 271.3816,-136.8759 325,-125 328.6496,-124.1916 332.4299,-123.2259 336.1778,-122.1847\"/>\n<polygon fill=\"#000000\" stroke=\"#000000\" points=\"337.3133,-125.4989 345.9117,-119.3087 335.3297,-118.7858 337.3133,-125.4989\"/>\n<text text-anchor=\"middle\" x=\"261\" y=\"-138.8\" font-family=\"Times,serif\" font-size=\"14.00\" fill=\"#000000\">10.0</text>\n</g>\n<!-- 2&#45;&gt;3 -->\n<g id=\"edge5\" class=\"edge\">\n<title>2&#45;&gt;3</title>\n<path fill=\"none\" stroke=\"#000000\" d=\"M284.2058,-62.5355C296.536,-67.8452 311.825,-74.8203 325,-82 330.7842,-85.1521 336.8148,-88.7816 342.5121,-92.3827\"/>\n<polygon fill=\"#000000\" stroke=\"#000000\" points=\"340.8103,-95.4503 351.1072,-97.9453 344.6136,-89.5737 340.8103,-95.4503\"/>\n<text text-anchor=\"middle\" x=\"315.5\" y=\"-85.8\" font-family=\"Times,serif\" font-size=\"14.00\" fill=\"#000000\">9.0</text>\n</g>\n<!-- 5 -->\n<g id=\"node6\" class=\"node\">\n<title>5</title>\n<ellipse fill=\"none\" stroke=\"#000000\" cx=\"596\" cy=\"-18\" rx=\"27\" ry=\"18\"/>\n<text text-anchor=\"middle\" x=\"596\" y=\"-14.3\" font-family=\"Times,serif\" font-size=\"14.00\" fill=\"#000000\">5</text>\n</g>\n<!-- 2&#45;&gt;5 -->\n<g id=\"edge6\" class=\"edge\">\n<title>2&#45;&gt;5</title>\n<path fill=\"none\" stroke=\"#000000\" d=\"M286.9329,-47.6601C324.7781,-40.1345 397.447,-26.6921 460,-21 493.2215,-17.9769 531.186,-17.3766 558.5456,-17.4457\"/>\n<polygon fill=\"#000000\" stroke=\"#000000\" points=\"558.8247,-20.9473 568.8445,-17.5046 558.8647,-13.9474 558.8247,-20.9473\"/>\n<text text-anchor=\"middle\" x=\"428.5\" y=\"-30.8\" font-family=\"Times,serif\" font-size=\"14.00\" fill=\"#000000\">20.0</text>\n</g>\n<!-- 3&#45;&gt;1 -->\n<g id=\"edge7\" class=\"edge\">\n<title>3&#45;&gt;1</title>\n<path fill=\"none\" stroke=\"#000000\" d=\"M343.0325,-109.2818C315.498,-107.9759 271.5831,-107.1332 234,-112 215.325,-114.4183 194.9621,-119.4155 178.3364,-124.1359\"/>\n<polygon fill=\"#000000\" stroke=\"#000000\" points=\"177.128,-120.8428 168.5159,-127.0138 179.0966,-127.5603 177.128,-120.8428\"/>\n<text text-anchor=\"middle\" x=\"261\" y=\"-115.8\" font-family=\"Times,serif\" font-size=\"14.00\" fill=\"#000000\">4.0</text>\n</g>\n<!-- 4 -->\n<g id=\"node5\" class=\"node\">\n<title>4</title>\n<ellipse fill=\"none\" stroke=\"#000000\" cx=\"487\" cy=\"-48\" rx=\"27\" ry=\"18\"/>\n<text text-anchor=\"middle\" x=\"487\" y=\"-44.3\" font-family=\"Times,serif\" font-size=\"14.00\" fill=\"#000000\">4</text>\n</g>\n<!-- 3&#45;&gt;4 -->\n<g id=\"edge8\" class=\"edge\">\n<title>3&#45;&gt;4</title>\n<path fill=\"none\" stroke=\"#000000\" d=\"M391.1878,-99.5912C409.5759,-89.6899 436.4053,-75.2433 456.9992,-64.1543\"/>\n<polygon fill=\"#000000\" stroke=\"#000000\" points=\"458.8245,-67.1467 465.9698,-59.3239 455.5057,-60.9833 458.8245,-67.1467\"/>\n<text text-anchor=\"middle\" x=\"428.5\" y=\"-88.8\" font-family=\"Times,serif\" font-size=\"14.00\" fill=\"#000000\">14.0</text>\n</g>\n<!-- 4&#45;&gt;2 -->\n<g id=\"edge9\" class=\"edge\">\n<title>4&#45;&gt;2</title>\n<path fill=\"none\" stroke=\"#000000\" d=\"M459.9942,-48.5975C419.7361,-49.4881 343.8542,-51.1669 298.3183,-52.1744\"/>\n<polygon fill=\"#000000\" stroke=\"#000000\" points=\"298.181,-48.6765 288.2609,-52.3969 298.3359,-55.6747 298.181,-48.6765\"/>\n<text text-anchor=\"middle\" x=\"370\" y=\"-55.8\" font-family=\"Times,serif\" font-size=\"14.00\" fill=\"#000000\">7.0</text>\n</g>\n<!-- 4&#45;&gt;5 -->\n<g id=\"edge10\" class=\"edge\">\n<title>4&#45;&gt;5</title>\n<path fill=\"none\" stroke=\"#000000\" d=\"M512.0068,-41.1174C526.4433,-37.1441 544.8307,-32.0833 560.7188,-27.7104\"/>\n<polygon fill=\"#000000\" stroke=\"#000000\" points=\"562.0194,-30.9827 570.7321,-24.9545 560.1618,-24.2336 562.0194,-30.9827\"/>\n<text text-anchor=\"middle\" x=\"541.5\" y=\"-38.8\" font-family=\"Times,serif\" font-size=\"14.00\" fill=\"#000000\">4.0</text>\n</g>\n</g>\n</svg>\n"
          },
          "metadata": {
            "tags": []
          },
          "execution_count": 6
        }
      ]
    },
    {
      "cell_type": "code",
      "metadata": {
        "colab": {
          "base_uri": "https://localhost:8080/"
        },
        "id": "1ahyTikYpzBe",
        "outputId": "394251b5-cb34-4fc9-f49c-9857deee0366"
      },
      "source": [
        "dfs(G, 0, 5, [False]*6)"
      ],
      "execution_count": null,
      "outputs": [
        {
          "output_type": "execute_result",
          "data": {
            "text/plain": [
              "([0, 1, 2, 3, 4, 5], 4.0)"
            ]
          },
          "metadata": {
            "tags": []
          },
          "execution_count": 7
        }
      ]
    },
    {
      "cell_type": "code",
      "metadata": {
        "colab": {
          "base_uri": "https://localhost:8080/",
          "height": 182
        },
        "id": "JSQ8KJBcqRW1",
        "outputId": "2d7aeb47-3736-494f-e7c6-d51ae26ddda8"
      },
      "source": [
        "Gf, fm = fordFulkerson(G, 0, 5)\n",
        "print(fm)\n",
        "Gnx = nx.from_numpy_matrix(Gf, create_using=nx.DiGraph)\n",
        "gs.nx2gv(Gnx, weighted=True)"
      ],
      "execution_count": null,
      "outputs": [
        {
          "output_type": "stream",
          "text": [
            "23.0\n"
          ],
          "name": "stdout"
        },
        {
          "output_type": "execute_result",
          "data": {
            "text/plain": [
              "<graphviz.dot.Digraph at 0x7f0a09b861d0>"
            ],
            "image/svg+xml": "<?xml version=\"1.0\" encoding=\"UTF-8\" standalone=\"no\"?>\n<!DOCTYPE svg PUBLIC \"-//W3C//DTD SVG 1.1//EN\"\n \"http://www.w3.org/Graphics/SVG/1.1/DTD/svg11.dtd\">\n<!-- Generated by graphviz version 2.40.1 (20161225.0304)\n -->\n<!-- Title: G Pages: 1 -->\n<svg width=\"432pt\" height=\"108pt\"\n viewBox=\"0.00 0.00 432.00 108.17\" xmlns=\"http://www.w3.org/2000/svg\" xmlns:xlink=\"http://www.w3.org/1999/xlink\">\n<g id=\"graph0\" class=\"graph\" transform=\"scale(.6846 .6846) rotate(0) translate(4 154)\">\n<title>G</title>\n<polygon fill=\"#ffffff\" stroke=\"transparent\" points=\"-4,4 -4,-154 627,-154 627,4 -4,4\"/>\n<!-- 0 -->\n<g id=\"node1\" class=\"node\">\n<title>0</title>\n<ellipse fill=\"none\" stroke=\"#000000\" cx=\"27\" cy=\"-131\" rx=\"27\" ry=\"18\"/>\n<text text-anchor=\"middle\" x=\"27\" y=\"-127.3\" font-family=\"Times,serif\" font-size=\"14.00\" fill=\"#000000\">0</text>\n</g>\n<!-- 1 -->\n<g id=\"node2\" class=\"node\">\n<title>1</title>\n<ellipse fill=\"none\" stroke=\"#000000\" cx=\"144\" cy=\"-108\" rx=\"27\" ry=\"18\"/>\n<text text-anchor=\"middle\" x=\"144\" y=\"-104.3\" font-family=\"Times,serif\" font-size=\"14.00\" fill=\"#000000\">1</text>\n</g>\n<!-- 0&#45;&gt;1 -->\n<g id=\"edge1\" class=\"edge\">\n<title>0&#45;&gt;1</title>\n<path fill=\"none\" stroke=\"#000000\" d=\"M52.9661,-125.8956C69.0614,-122.7315 89.9746,-118.6204 107.6967,-115.1366\"/>\n<polygon fill=\"#000000\" stroke=\"#000000\" points=\"108.5648,-118.533 117.7019,-113.1697 107.2146,-111.6644 108.5648,-118.533\"/>\n<text text-anchor=\"middle\" x=\"85.5\" y=\"-124.8\" font-family=\"Times,serif\" font-size=\"14.00\" fill=\"#000000\">16.0</text>\n</g>\n<!-- 3 -->\n<g id=\"node4\" class=\"node\">\n<title>3</title>\n<ellipse fill=\"none\" stroke=\"#000000\" cx=\"370\" cy=\"-105\" rx=\"27\" ry=\"18\"/>\n<text text-anchor=\"middle\" x=\"370\" y=\"-101.3\" font-family=\"Times,serif\" font-size=\"14.00\" fill=\"#000000\">3</text>\n</g>\n<!-- 0&#45;&gt;3 -->\n<g id=\"edge2\" class=\"edge\">\n<title>0&#45;&gt;3</title>\n<path fill=\"none\" stroke=\"#000000\" d=\"M52.5692,-137.022C58.8842,-138.2575 65.6572,-139.3719 72,-140 83.9416,-141.1825 87.0072,-140.4159 99,-140 183.2135,-137.0794 204.3726,-135.3394 288,-125 304.5334,-122.9559 308.784,-122.8173 325,-119 328.6386,-118.1435 332.4118,-117.1468 336.1555,-116.0872\"/>\n<polygon fill=\"#000000\" stroke=\"#000000\" points=\"337.2999,-119.3983 345.8843,-113.1887 335.3012,-112.6897 337.2999,-119.3983\"/>\n<text text-anchor=\"middle\" x=\"202.5\" y=\"-138.8\" font-family=\"Times,serif\" font-size=\"14.00\" fill=\"#000000\">7.0</text>\n</g>\n<!-- 2 -->\n<g id=\"node3\" class=\"node\">\n<title>2</title>\n<ellipse fill=\"none\" stroke=\"#000000\" cx=\"261\" cy=\"-53\" rx=\"27\" ry=\"18\"/>\n<text text-anchor=\"middle\" x=\"261\" y=\"-49.3\" font-family=\"Times,serif\" font-size=\"14.00\" fill=\"#000000\">2</text>\n</g>\n<!-- 1&#45;&gt;2 -->\n<g id=\"edge3\" class=\"edge\">\n<title>1&#45;&gt;2</title>\n<path fill=\"none\" stroke=\"#000000\" d=\"M163.8324,-95.7338C171.556,-91.1721 180.5645,-86.1104 189,-82 201.331,-75.9915 215.239,-70.1764 227.5204,-65.3507\"/>\n<polygon fill=\"#000000\" stroke=\"#000000\" points=\"228.8906,-68.5736 236.96,-61.708 226.3704,-62.043 228.8906,-68.5736\"/>\n<text text-anchor=\"middle\" x=\"202.5\" y=\"-85.8\" font-family=\"Times,serif\" font-size=\"14.00\" fill=\"#000000\">12.0</text>\n</g>\n<!-- 1&#45;&gt;3 -->\n<g id=\"edge4\" class=\"edge\">\n<title>1&#45;&gt;3</title>\n<path fill=\"none\" stroke=\"#000000\" d=\"M171.2609,-107.6381C211.6689,-107.1017 287.5616,-106.0943 332.9693,-105.4916\"/>\n<polygon fill=\"#000000\" stroke=\"#000000\" points=\"333.0416,-108.991 342.9942,-105.3585 332.9486,-101.9916 333.0416,-108.991\"/>\n<text text-anchor=\"middle\" x=\"261\" y=\"-109.8\" font-family=\"Times,serif\" font-size=\"14.00\" fill=\"#000000\">4.0</text>\n</g>\n<!-- 2&#45;&gt;3 -->\n<g id=\"edge5\" class=\"edge\">\n<title>2&#45;&gt;3</title>\n<path fill=\"none\" stroke=\"#000000\" d=\"M283.6304,-62.9429C295.9314,-68.4255 311.3729,-75.4346 325,-82 329.7203,-84.2742 334.6872,-86.739 339.5287,-89.1817\"/>\n<polygon fill=\"#000000\" stroke=\"#000000\" points=\"338.0875,-92.3755 348.5867,-93.7959 341.2649,-86.1381 338.0875,-92.3755\"/>\n<text text-anchor=\"middle\" x=\"315.5\" y=\"-85.8\" font-family=\"Times,serif\" font-size=\"14.00\" fill=\"#000000\">4.0</text>\n</g>\n<!-- 5 -->\n<g id=\"node6\" class=\"node\">\n<title>5</title>\n<ellipse fill=\"none\" stroke=\"#000000\" cx=\"596\" cy=\"-18\" rx=\"27\" ry=\"18\"/>\n<text text-anchor=\"middle\" x=\"596\" y=\"-14.3\" font-family=\"Times,serif\" font-size=\"14.00\" fill=\"#000000\">5</text>\n</g>\n<!-- 2&#45;&gt;5 -->\n<g id=\"edge6\" class=\"edge\">\n<title>2&#45;&gt;5</title>\n<path fill=\"none\" stroke=\"#000000\" d=\"M286.9329,-47.6601C324.7781,-40.1345 397.447,-26.6921 460,-21 493.2215,-17.9769 531.186,-17.3766 558.5456,-17.4457\"/>\n<polygon fill=\"#000000\" stroke=\"#000000\" points=\"558.8247,-20.9473 568.8445,-17.5046 558.8647,-13.9474 558.8247,-20.9473\"/>\n<text text-anchor=\"middle\" x=\"428.5\" y=\"-30.8\" font-family=\"Times,serif\" font-size=\"14.00\" fill=\"#000000\">19.0</text>\n</g>\n<!-- 4 -->\n<g id=\"node5\" class=\"node\">\n<title>4</title>\n<ellipse fill=\"none\" stroke=\"#000000\" cx=\"487\" cy=\"-48\" rx=\"27\" ry=\"18\"/>\n<text text-anchor=\"middle\" x=\"487\" y=\"-44.3\" font-family=\"Times,serif\" font-size=\"14.00\" fill=\"#000000\">4</text>\n</g>\n<!-- 3&#45;&gt;4 -->\n<g id=\"edge7\" class=\"edge\">\n<title>3&#45;&gt;4</title>\n<path fill=\"none\" stroke=\"#000000\" d=\"M392.0068,-94.2787C410.0647,-85.4813 435.8468,-72.9208 455.9958,-63.1046\"/>\n<polygon fill=\"#000000\" stroke=\"#000000\" points=\"457.6349,-66.1994 465.0919,-58.6732 454.5691,-59.9065 457.6349,-66.1994\"/>\n<text text-anchor=\"middle\" x=\"428.5\" y=\"-84.8\" font-family=\"Times,serif\" font-size=\"14.00\" fill=\"#000000\">11.0</text>\n</g>\n<!-- 4&#45;&gt;2 -->\n<g id=\"edge8\" class=\"edge\">\n<title>4&#45;&gt;2</title>\n<path fill=\"none\" stroke=\"#000000\" d=\"M459.9942,-48.5975C419.7361,-49.4881 343.8542,-51.1669 298.3183,-52.1744\"/>\n<polygon fill=\"#000000\" stroke=\"#000000\" points=\"298.181,-48.6765 288.2609,-52.3969 298.3359,-55.6747 298.181,-48.6765\"/>\n<text text-anchor=\"middle\" x=\"370\" y=\"-55.8\" font-family=\"Times,serif\" font-size=\"14.00\" fill=\"#000000\">7.0</text>\n</g>\n<!-- 4&#45;&gt;5 -->\n<g id=\"edge9\" class=\"edge\">\n<title>4&#45;&gt;5</title>\n<path fill=\"none\" stroke=\"#000000\" d=\"M512.0068,-41.1174C526.4433,-37.1441 544.8307,-32.0833 560.7188,-27.7104\"/>\n<polygon fill=\"#000000\" stroke=\"#000000\" points=\"562.0194,-30.9827 570.7321,-24.9545 560.1618,-24.2336 562.0194,-30.9827\"/>\n<text text-anchor=\"middle\" x=\"541.5\" y=\"-38.8\" font-family=\"Times,serif\" font-size=\"14.00\" fill=\"#000000\">4.0</text>\n</g>\n</g>\n</svg>\n"
          },
          "metadata": {
            "tags": []
          },
          "execution_count": 21
        }
      ]
    },
    {
      "cell_type": "code",
      "metadata": {
        "id": "xwF3X-otvHGM"
      },
      "source": [
        ""
      ],
      "execution_count": null,
      "outputs": []
    }
  ]
}