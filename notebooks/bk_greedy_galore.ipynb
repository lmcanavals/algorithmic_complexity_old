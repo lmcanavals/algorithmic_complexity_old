{
  "nbformat": 4,
  "nbformat_minor": 0,
  "metadata": {
    "colab": {
      "name": "bk_greedy_galore.ipynb",
      "provenance": [],
      "authorship_tag": "ABX9TyMKbJT6Lxg4JKW/ohbTOode",
      "include_colab_link": true
    },
    "kernelspec": {
      "name": "python3",
      "display_name": "Python 3"
    },
    "language_info": {
      "name": "python"
    }
  },
  "cells": [
    {
      "cell_type": "markdown",
      "metadata": {
        "id": "view-in-github",
        "colab_type": "text"
      },
      "source": [
        "<a href=\"https://colab.research.google.com/github/lmcanavals/algorithmic_complexity/blob/main/notebooks/bk_greedy_galore.ipynb\" target=\"_parent\"><img src=\"https://colab.research.google.com/assets/colab-badge.svg\" alt=\"Open In Colab\"/></a>"
      ]
    },
    {
      "cell_type": "markdown",
      "metadata": {
        "id": "RddhxqsYItRJ"
      },
      "source": [
        "# Greedy algorithms"
      ]
    },
    {
      "cell_type": "code",
      "metadata": {
        "id": "SZ7Ex6CZIU5R"
      },
      "source": [
        "def coins(D, p):\n",
        "  c = 0\n",
        "  s = dict()\n",
        "  while p > 0:\n",
        "    for di in reversed(D):\n",
        "      if di <= p:\n",
        "        s[di] = p // di\n",
        "        p = p % di\n",
        "        c += s[di]\n",
        "\n",
        "  return c, s"
      ],
      "execution_count": 3,
      "outputs": []
    },
    {
      "cell_type": "code",
      "metadata": {
        "colab": {
          "base_uri": "https://localhost:8080/"
        },
        "id": "FR2jDycqI1b0",
        "outputId": "9f60d077-8398-499e-a58b-f05df61264d9"
      },
      "source": [
        "print(coins([1, 5, 10, 20, 50], 40))\n",
        "print(coins([1, 5, 10, 20, 50], 85))"
      ],
      "execution_count": 4,
      "outputs": [
        {
          "output_type": "stream",
          "text": [
            "(2, {20: 2})\n",
            "(4, {50: 1, 20: 1, 10: 1, 5: 1})\n"
          ],
          "name": "stdout"
        }
      ]
    },
    {
      "cell_type": "code",
      "metadata": {
        "colab": {
          "base_uri": "https://localhost:8080/"
        },
        "id": "BuugF3Q_JcX3",
        "outputId": "19e2b6bf-2ca1-49e7-a2f2-c8e91cd1125d"
      },
      "source": [
        "print(coins([1, 5, 10, 20, 25, 50], 40))\n",
        "print(coins([1, 5, 10, 20, 25, 50], 85))"
      ],
      "execution_count": 5,
      "outputs": [
        {
          "output_type": "stream",
          "text": [
            "(3, {25: 1, 10: 1, 5: 1})\n",
            "(3, {50: 1, 25: 1, 10: 1})\n"
          ],
          "name": "stdout"
        }
      ]
    },
    {
      "cell_type": "code",
      "metadata": {
        "colab": {
          "base_uri": "https://localhost:8080/"
        },
        "id": "5PkHOsLzJpDM",
        "outputId": "02351f36-a745-4b27-9f0c-78d0e8e2674c"
      },
      "source": [
        "%timeit coins([1, 5, 10, 20, 50], 40)"
      ],
      "execution_count": 6,
      "outputs": [
        {
          "output_type": "stream",
          "text": [
            "The slowest run took 9.77 times longer than the fastest. This could mean that an intermediate result is being cached.\n",
            "1000000 loops, best of 5: 866 ns per loop\n"
          ],
          "name": "stdout"
        }
      ]
    },
    {
      "cell_type": "code",
      "metadata": {
        "id": "7CsyvjZVJ6VF"
      },
      "source": [
        ""
      ],
      "execution_count": null,
      "outputs": []
    }
  ]
}