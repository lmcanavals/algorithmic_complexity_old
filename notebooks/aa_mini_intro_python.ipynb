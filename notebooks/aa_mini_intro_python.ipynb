{
  "nbformat": 4,
  "nbformat_minor": 0,
  "metadata": {
    "colab": {
      "name": "aa-mini_intro_python.ipynb",
      "provenance": [],
      "authorship_tag": "ABX9TyPXg+a42HVBo19l6d65PQ7X",
      "include_colab_link": true
    },
    "kernelspec": {
      "name": "python3",
      "display_name": "Python 3"
    },
    "language_info": {
      "name": "python"
    }
  },
  "cells": [
    {
      "cell_type": "markdown",
      "metadata": {
        "id": "view-in-github",
        "colab_type": "text"
      },
      "source": [
        "<a href=\"https://colab.research.google.com/github/lmcanavals/algorithmic-complexity/blob/main/aa_mini_intro_python.ipynb\" target=\"_parent\"><img src=\"https://colab.research.google.com/assets/colab-badge.svg\" alt=\"Open In Colab\"/></a>"
      ]
    },
    {
      "cell_type": "markdown",
      "metadata": {
        "id": "72QhRsq5dTb8"
      },
      "source": [
        "# Introducción a Python\n",
        "\n",
        "Ésto es [Markdown](https://www.markdownguide.org/cheat-sheet/)\n",
        "\n",
        "* Esto\n",
        "* es\n",
        "* una\n",
        "* lista\n",
        "* sin orden\n",
        "\n",
        "1. esto\n",
        "1. es \n",
        "1. una\n",
        "1. lista\n",
        "1. ordenada\n",
        "\n",
        "\n",
        "## Hola Mundo en Python"
      ]
    },
    {
      "cell_type": "code",
      "metadata": {
        "colab": {
          "base_uri": "https://localhost:8080/"
        },
        "id": "IMW3gQNfdMpD",
        "outputId": "d1a3606d-245c-41f9-b297-18b985a43208"
      },
      "source": [
        "print(\"Hola, Mundo!\")"
      ],
      "execution_count": null,
      "outputs": [
        {
          "output_type": "stream",
          "text": [
            "Hola, Mundo!\n"
          ],
          "name": "stdout"
        }
      ]
    },
    {
      "cell_type": "markdown",
      "metadata": {
        "id": "wHtNddO1eSDo"
      },
      "source": [
        "¿Qué versión de python usamos?"
      ]
    },
    {
      "cell_type": "code",
      "metadata": {
        "colab": {
          "base_uri": "https://localhost:8080/"
        },
        "id": "d03aGO2Dd8hK",
        "outputId": "e05e4bba-b837-4a85-feff-276eb91c0053"
      },
      "source": [
        "import sys\n",
        "\n",
        "print(sys.version)"
      ],
      "execution_count": null,
      "outputs": [
        {
          "output_type": "stream",
          "text": [
            "3.7.10 (default, Feb 20 2021, 21:17:23) \n",
            "[GCC 7.5.0]\n"
          ],
          "name": "stdout"
        }
      ]
    },
    {
      "cell_type": "markdown",
      "metadata": {
        "id": "6PBPkHr2ei8e"
      },
      "source": [
        "## Comentarios"
      ]
    },
    {
      "cell_type": "code",
      "metadata": {
        "colab": {
          "base_uri": "https://localhost:8080/"
        },
        "id": "BJwXqvrSecir",
        "outputId": "57c99820-e718-4855-889f-8449d012016e"
      },
      "source": [
        "# Ésto es un comentario\n",
        "\n",
        "print(\"Ésto no es un comentario\") # ésto también es un comentario\n",
        "\n",
        "\"\"\"\n",
        "ésto no es un comentario pero será ignorado al ejecutar, se llama docstring\n",
        "\"\"\"\n",
        "\n",
        "print(\":)\")"
      ],
      "execution_count": null,
      "outputs": [
        {
          "output_type": "stream",
          "text": [
            "Ésto no es un comentario\n",
            ":)\n"
          ],
          "name": "stdout"
        }
      ]
    },
    {
      "cell_type": "markdown",
      "metadata": {
        "id": "i5_aCYURfOmR"
      },
      "source": [
        "# Errores en python"
      ]
    },
    {
      "cell_type": "code",
      "metadata": {
        "colab": {
          "base_uri": "https://localhost:8080/",
          "height": 226
        },
        "id": "sr-aCsXkexkp",
        "outputId": "ab6aad5c-8a14-4eea-e944-530377ef3059"
      },
      "source": [
        "print(\"Hola\")\n",
        "frint(\"Mundo!\")\n",
        "print(\":)\")"
      ],
      "execution_count": null,
      "outputs": [
        {
          "output_type": "stream",
          "text": [
            "Hola\n"
          ],
          "name": "stdout"
        },
        {
          "output_type": "error",
          "ename": "NameError",
          "evalue": "ignored",
          "traceback": [
            "\u001b[0;31m---------------------------------------------------------------------------\u001b[0m",
            "\u001b[0;31mNameError\u001b[0m                                 Traceback (most recent call last)",
            "\u001b[0;32m<ipython-input-4-40e86fe19ea0>\u001b[0m in \u001b[0;36m<module>\u001b[0;34m()\u001b[0m\n\u001b[1;32m      1\u001b[0m \u001b[0mprint\u001b[0m\u001b[0;34m(\u001b[0m\u001b[0;34m\"Hola\"\u001b[0m\u001b[0;34m)\u001b[0m\u001b[0;34m\u001b[0m\u001b[0;34m\u001b[0m\u001b[0m\n\u001b[0;32m----> 2\u001b[0;31m \u001b[0mfrint\u001b[0m\u001b[0;34m(\u001b[0m\u001b[0;34m\"Mundo!\"\u001b[0m\u001b[0;34m)\u001b[0m\u001b[0;34m\u001b[0m\u001b[0;34m\u001b[0m\u001b[0m\n\u001b[0m\u001b[1;32m      3\u001b[0m \u001b[0mprint\u001b[0m\u001b[0;34m(\u001b[0m\u001b[0;34m\":)\"\u001b[0m\u001b[0;34m)\u001b[0m\u001b[0;34m\u001b[0m\u001b[0;34m\u001b[0m\u001b[0m\n",
            "\u001b[0;31mNameError\u001b[0m: name 'frint' is not defined"
          ]
        }
      ]
    },
    {
      "cell_type": "markdown",
      "metadata": {
        "id": "ZlR8AQWhfrAB"
      },
      "source": [
        "## Tipos de datos en python"
      ]
    },
    {
      "cell_type": "code",
      "metadata": {
        "colab": {
          "base_uri": "https://localhost:8080/"
        },
        "id": "xAbr6amue6Gh",
        "outputId": "c3fb6e04-c3ec-4cc5-fb5e-bddf81d0732e"
      },
      "source": [
        "print(10, 23.4, \"Hola\", True)"
      ],
      "execution_count": null,
      "outputs": [
        {
          "output_type": "stream",
          "text": [
            "10 23.4 Hola True\n"
          ],
          "name": "stdout"
        }
      ]
    },
    {
      "cell_type": "code",
      "metadata": {
        "colab": {
          "base_uri": "https://localhost:8080/"
        },
        "id": "yoZQ3i6Pf3jJ",
        "outputId": "563b820d-55d8-4fd9-f9d5-d602657d3a02"
      },
      "source": [
        "print(type(10), type(23.4), type(\"Hola\"), type(True))"
      ],
      "execution_count": null,
      "outputs": [
        {
          "output_type": "stream",
          "text": [
            "<class 'int'> <class 'float'> <class 'str'> <class 'bool'>\n"
          ],
          "name": "stdout"
        }
      ]
    },
    {
      "cell_type": "code",
      "metadata": {
        "colab": {
          "base_uri": "https://localhost:8080/"
        },
        "id": "sjtGGXeygBKq",
        "outputId": "99aa73f7-2014-4861-ce8f-7b5db3bae4da"
      },
      "source": [
        "print(int(12.5), float(\"16.7\"))"
      ],
      "execution_count": null,
      "outputs": [
        {
          "output_type": "stream",
          "text": [
            "12 16.7\n"
          ],
          "name": "stdout"
        }
      ]
    },
    {
      "cell_type": "code",
      "metadata": {
        "colab": {
          "base_uri": "https://localhost:8080/",
          "height": 172
        },
        "id": "82-1ZyF3gKah",
        "outputId": "0513f4c4-f3c2-4cbf-e6c7-bc7bfe4a4083"
      },
      "source": [
        "float(\"esto es un error\")"
      ],
      "execution_count": null,
      "outputs": [
        {
          "output_type": "error",
          "ename": "ValueError",
          "evalue": "ignored",
          "traceback": [
            "\u001b[0;31m---------------------------------------------------------------------------\u001b[0m",
            "\u001b[0;31mValueError\u001b[0m                                Traceback (most recent call last)",
            "\u001b[0;32m<ipython-input-9-b53f9cc09ebc>\u001b[0m in \u001b[0;36m<module>\u001b[0;34m()\u001b[0m\n\u001b[0;32m----> 1\u001b[0;31m \u001b[0mfloat\u001b[0m\u001b[0;34m(\u001b[0m\u001b[0;34m\"esto es un error\"\u001b[0m\u001b[0;34m)\u001b[0m\u001b[0;34m\u001b[0m\u001b[0;34m\u001b[0m\u001b[0m\n\u001b[0m",
            "\u001b[0;31mValueError\u001b[0m: could not convert string to float: 'esto es un error'"
          ]
        }
      ]
    },
    {
      "cell_type": "code",
      "metadata": {
        "colab": {
          "base_uri": "https://localhost:8080/",
          "height": 35
        },
        "id": "MGPX8QypgNml",
        "outputId": "57e7da36-03ed-4864-f45d-c4c3efa7352d"
      },
      "source": [
        "str(10)"
      ],
      "execution_count": null,
      "outputs": [
        {
          "output_type": "execute_result",
          "data": {
            "application/vnd.google.colaboratory.intrinsic+json": {
              "type": "string"
            },
            "text/plain": [
              "'10'"
            ]
          },
          "metadata": {
            "tags": []
          },
          "execution_count": 10
        }
      ]
    },
    {
      "cell_type": "markdown",
      "metadata": {
        "id": "Chl-MfQugbKS"
      },
      "source": [
        "## Expresiones"
      ]
    },
    {
      "cell_type": "code",
      "metadata": {
        "colab": {
          "base_uri": "https://localhost:8080/"
        },
        "id": "4bhWnP0LgRgZ",
        "outputId": "e8aacc27-4a43-4d48-87e6-f22d3ab95ba4"
      },
      "source": [
        "10 + 5 * 2"
      ],
      "execution_count": null,
      "outputs": [
        {
          "output_type": "execute_result",
          "data": {
            "text/plain": [
              "20"
            ]
          },
          "metadata": {
            "tags": []
          },
          "execution_count": 11
        }
      ]
    },
    {
      "cell_type": "code",
      "metadata": {
        "colab": {
          "base_uri": "https://localhost:8080/"
        },
        "id": "VXlxaBwYggBU",
        "outputId": "d139e983-0b43-4ef4-c4d7-01c9d2cf68f1"
      },
      "source": [
        "(10 + 5) * 2"
      ],
      "execution_count": null,
      "outputs": [
        {
          "output_type": "execute_result",
          "data": {
            "text/plain": [
              "30"
            ]
          },
          "metadata": {
            "tags": []
          },
          "execution_count": 12
        }
      ]
    },
    {
      "cell_type": "code",
      "metadata": {
        "colab": {
          "base_uri": "https://localhost:8080/"
        },
        "id": "5nMrqYLigkMv",
        "outputId": "0a7e7bc6-e50e-49a1-8ea4-a742df18aca0"
      },
      "source": [
        "7 / 3"
      ],
      "execution_count": null,
      "outputs": [
        {
          "output_type": "execute_result",
          "data": {
            "text/plain": [
              "2.3333333333333335"
            ]
          },
          "metadata": {
            "tags": []
          },
          "execution_count": 13
        }
      ]
    },
    {
      "cell_type": "code",
      "metadata": {
        "colab": {
          "base_uri": "https://localhost:8080/"
        },
        "id": "TJP86NLmgl2T",
        "outputId": "605d1af7-b974-4ba9-d44b-b9368991d879"
      },
      "source": [
        "7 // 3"
      ],
      "execution_count": null,
      "outputs": [
        {
          "output_type": "execute_result",
          "data": {
            "text/plain": [
              "2"
            ]
          },
          "metadata": {
            "tags": []
          },
          "execution_count": 14
        }
      ]
    },
    {
      "cell_type": "code",
      "metadata": {
        "colab": {
          "base_uri": "https://localhost:8080/"
        },
        "id": "YHV---u2gnrW",
        "outputId": "1f08a48d-4da8-4cb7-a476-abb6e04571c3"
      },
      "source": [
        "7 % 3"
      ],
      "execution_count": null,
      "outputs": [
        {
          "output_type": "execute_result",
          "data": {
            "text/plain": [
              "1"
            ]
          },
          "metadata": {
            "tags": []
          },
          "execution_count": 15
        }
      ]
    },
    {
      "cell_type": "markdown",
      "metadata": {
        "id": "nuJ2dpO8gs41"
      },
      "source": [
        "## Variables"
      ]
    },
    {
      "cell_type": "code",
      "metadata": {
        "colab": {
          "base_uri": "https://localhost:8080/"
        },
        "id": "bL3T094Pg1eB",
        "outputId": "1f7efd66-b6ce-4b28-f9b4-b0894374d647"
      },
      "source": [
        "var1 = 1981\n",
        "var2 = var1 / 100\n",
        "print(var1, var2)"
      ],
      "execution_count": null,
      "outputs": [
        {
          "output_type": "stream",
          "text": [
            "1981 19.81\n"
          ],
          "name": "stdout"
        }
      ]
    },
    {
      "cell_type": "code",
      "metadata": {
        "colab": {
          "base_uri": "https://localhost:8080/",
          "height": 172
        },
        "id": "wlc3M-scg24S",
        "outputId": "9450b154-b7f0-4977-8475-ecd37c3d9c74"
      },
      "source": [
        "var3 = var4"
      ],
      "execution_count": null,
      "outputs": [
        {
          "output_type": "error",
          "ename": "NameError",
          "evalue": "ignored",
          "traceback": [
            "\u001b[0;31m---------------------------------------------------------------------------\u001b[0m",
            "\u001b[0;31mNameError\u001b[0m                                 Traceback (most recent call last)",
            "\u001b[0;32m<ipython-input-17-621f1c192df3>\u001b[0m in \u001b[0;36m<module>\u001b[0;34m()\u001b[0m\n\u001b[0;32m----> 1\u001b[0;31m \u001b[0mvar3\u001b[0m \u001b[0;34m=\u001b[0m \u001b[0mvar4\u001b[0m\u001b[0;34m\u001b[0m\u001b[0;34m\u001b[0m\u001b[0m\n\u001b[0m",
            "\u001b[0;31mNameError\u001b[0m: name 'var4' is not defined"
          ]
        }
      ]
    },
    {
      "cell_type": "code",
      "metadata": {
        "colab": {
          "base_uri": "https://localhost:8080/"
        },
        "id": "FF4ACNT7g-p5",
        "outputId": "d0a3ee06-c1a8-4ca8-afbd-383dd0f4ad0c"
      },
      "source": [
        "var3 = var1 ** 2\n",
        "print(var3)"
      ],
      "execution_count": null,
      "outputs": [
        {
          "output_type": "stream",
          "text": [
            "3924361\n"
          ],
          "name": "stdout"
        }
      ]
    },
    {
      "cell_type": "markdown",
      "metadata": {
        "id": "6-dVVYdviBm9"
      },
      "source": [
        "## Tuplas"
      ]
    },
    {
      "cell_type": "code",
      "metadata": {
        "id": "UV9Jhn03hHRz"
      },
      "source": [
        "t1 = (1, 2, 3, 4, 5, 6, 7, 8, 9, 10)\n",
        "t2 = (10, 20.3, \"Hola\", True)"
      ],
      "execution_count": null,
      "outputs": []
    },
    {
      "cell_type": "code",
      "metadata": {
        "colab": {
          "base_uri": "https://localhost:8080/"
        },
        "id": "X12OV3bNyOFw",
        "outputId": "691383ae-e779-4c17-a3a1-5db52449cd08"
      },
      "source": [
        "print(t1[0])"
      ],
      "execution_count": null,
      "outputs": [
        {
          "output_type": "stream",
          "text": [
            "1\n"
          ],
          "name": "stdout"
        }
      ]
    },
    {
      "cell_type": "code",
      "metadata": {
        "colab": {
          "base_uri": "https://localhost:8080/",
          "height": 172
        },
        "id": "k9RemjdLyl1r",
        "outputId": "613a0148-aaba-48a3-e268-37a90ce5fc21"
      },
      "source": [
        "t1[2] = 100"
      ],
      "execution_count": null,
      "outputs": [
        {
          "output_type": "error",
          "ename": "TypeError",
          "evalue": "ignored",
          "traceback": [
            "\u001b[0;31m---------------------------------------------------------------------------\u001b[0m",
            "\u001b[0;31mTypeError\u001b[0m                                 Traceback (most recent call last)",
            "\u001b[0;32m<ipython-input-22-81d77586bc77>\u001b[0m in \u001b[0;36m<module>\u001b[0;34m()\u001b[0m\n\u001b[0;32m----> 1\u001b[0;31m \u001b[0mt1\u001b[0m\u001b[0;34m[\u001b[0m\u001b[0;36m2\u001b[0m\u001b[0;34m]\u001b[0m \u001b[0;34m=\u001b[0m \u001b[0;36m100\u001b[0m\u001b[0;34m\u001b[0m\u001b[0;34m\u001b[0m\u001b[0m\n\u001b[0m",
            "\u001b[0;31mTypeError\u001b[0m: 'tuple' object does not support item assignment"
          ]
        }
      ]
    },
    {
      "cell_type": "code",
      "metadata": {
        "colab": {
          "base_uri": "https://localhost:8080/"
        },
        "id": "L2YosQQPiG__",
        "outputId": "d293fc19-ea1b-4d09-ca2c-37a88ef65121"
      },
      "source": [
        "print(t2[0])\n",
        "print(t2[1])\n",
        "print(t2[2])\n",
        "print(t2[3])\n",
        "print(t1[-1])\n",
        "print(t1[-2])\n",
        "print(t1[-10])"
      ],
      "execution_count": null,
      "outputs": [
        {
          "output_type": "stream",
          "text": [
            "10\n",
            "20.3\n",
            "Hola\n",
            "True\n",
            "10\n",
            "9\n",
            "1\n"
          ],
          "name": "stdout"
        }
      ]
    },
    {
      "cell_type": "code",
      "metadata": {
        "colab": {
          "base_uri": "https://localhost:8080/"
        },
        "id": "OKPNA-6Yie_X",
        "outputId": "94b9b171-80c4-440f-acd7-b4aa542c46b5"
      },
      "source": [
        "print(t1[3:6])\n",
        "print(t1[0:6])\n",
        "print(t1[:6])\n",
        "print(t1[3:10])\n",
        "print(t1[3:])\n",
        "print(t1[:])\n",
        "print(t1)"
      ],
      "execution_count": null,
      "outputs": [
        {
          "output_type": "stream",
          "text": [
            "(4, 5, 6)\n",
            "(1, 2, 3, 4, 5, 6)\n",
            "(1, 2, 3, 4, 5, 6)\n",
            "(4, 5, 6, 7, 8, 9, 10)\n",
            "(4, 5, 6, 7, 8, 9, 10)\n",
            "(1, 2, 3, 4, 5, 6, 7, 8, 9, 10)\n",
            "(1, 2, 3, 4, 5, 6, 7, 8, 9, 10)\n"
          ],
          "name": "stdout"
        }
      ]
    },
    {
      "cell_type": "markdown",
      "metadata": {
        "id": "mOaUtFzyjFyv"
      },
      "source": [
        "## Listas"
      ]
    },
    {
      "cell_type": "code",
      "metadata": {
        "colab": {
          "base_uri": "https://localhost:8080/"
        },
        "id": "S44b5V1li3S2",
        "outputId": "78e6d361-9741-4a0c-d165-0d8bbe8837b2"
      },
      "source": [
        "l1 = [1, 2, 3, 4, 5, 6, 7, 8, 9, 10]\n",
        "l2 = [100, 3.1416, \"pi\", False, None]\n",
        "print(l1)\n",
        "print(l2)\n",
        "l1[3] = 100\n",
        "print(l1)"
      ],
      "execution_count": null,
      "outputs": [
        {
          "output_type": "stream",
          "text": [
            "[1, 2, 3, 4, 5, 6, 7, 8, 9, 10]\n",
            "[100, 3.1416, 'pi', False, None]\n",
            "[1, 2, 3, 100, 5, 6, 7, 8, 9, 10]\n"
          ],
          "name": "stdout"
        }
      ]
    },
    {
      "cell_type": "code",
      "metadata": {
        "colab": {
          "base_uri": "https://localhost:8080/"
        },
        "id": "Seiw5umEztWt",
        "outputId": "f139be01-3242-4e62-c8c1-6d287a2a8aa5"
      },
      "source": [
        "l1.append(200)\n",
        "print(l1)"
      ],
      "execution_count": null,
      "outputs": [
        {
          "output_type": "stream",
          "text": [
            "[1, 2, 3, 100, 5, 6, 7, 8, 9, 10, 200]\n"
          ],
          "name": "stdout"
        }
      ]
    },
    {
      "cell_type": "code",
      "metadata": {
        "colab": {
          "base_uri": "https://localhost:8080/"
        },
        "id": "r5u3QZuZz0ib",
        "outputId": "75f1cba6-9120-492a-ba61-b16594eb7479"
      },
      "source": [
        "len(l1)"
      ],
      "execution_count": null,
      "outputs": [
        {
          "output_type": "execute_result",
          "data": {
            "text/plain": [
              "11"
            ]
          },
          "metadata": {
            "tags": []
          },
          "execution_count": 26
        }
      ]
    },
    {
      "cell_type": "code",
      "metadata": {
        "colab": {
          "base_uri": "https://localhost:8080/"
        },
        "id": "suRQ_e1lz3Yb",
        "outputId": "3019b681-d3e3-4083-9c1c-58b2739c9057"
      },
      "source": [
        "del l1[3]\n",
        "print(l1, len(l1))"
      ],
      "execution_count": null,
      "outputs": [
        {
          "output_type": "stream",
          "text": [
            "[1, 2, 3, 6, 7, 8, 9, 10, 200] 9\n"
          ],
          "name": "stdout"
        }
      ]
    },
    {
      "cell_type": "code",
      "metadata": {
        "colab": {
          "base_uri": "https://localhost:8080/"
        },
        "id": "G2nGkJTSz8FR",
        "outputId": "c8dc9508-2a35-44a7-a1b0-4ad9ca8bd10b"
      },
      "source": [
        "l1.remove(8)\n",
        "print(l1, len(l1))"
      ],
      "execution_count": null,
      "outputs": [
        {
          "output_type": "stream",
          "text": [
            "[1, 2, 3, 6, 7, 9, 10, 200] 8\n"
          ],
          "name": "stdout"
        }
      ]
    },
    {
      "cell_type": "code",
      "metadata": {
        "colab": {
          "base_uri": "https://localhost:8080/"
        },
        "id": "h1ew24NO0IPT",
        "outputId": "6c2d8fac-99f9-4171-e3a8-fe6a24f3b112"
      },
      "source": [
        "l1.append(6)\n",
        "l1.append(300)\n",
        "l1.append(9)\n",
        "l1.append(100)\n",
        "print(l1, len(l1))"
      ],
      "execution_count": null,
      "outputs": [
        {
          "output_type": "stream",
          "text": [
            "[1, 2, 3, 6, 7, 9, 10, 200, 6, 300, 9, 100] 12\n"
          ],
          "name": "stdout"
        }
      ]
    },
    {
      "cell_type": "code",
      "metadata": {
        "colab": {
          "base_uri": "https://localhost:8080/"
        },
        "id": "jphRv-W-0SKl",
        "outputId": "70c897ad-6802-4c4a-8317-c4dc87e9b96d"
      },
      "source": [
        "l1.remove(9)\n",
        "print(l1, len(l1))"
      ],
      "execution_count": null,
      "outputs": [
        {
          "output_type": "stream",
          "text": [
            "[1, 2, 3, 6, 7, 10, 200, 6, 300, 9, 100] 11\n"
          ],
          "name": "stdout"
        }
      ]
    },
    {
      "cell_type": "markdown",
      "metadata": {
        "id": "7XF4mUdE0c-x"
      },
      "source": [
        "## Sets (conjuntos)"
      ]
    },
    {
      "cell_type": "code",
      "metadata": {
        "colab": {
          "base_uri": "https://localhost:8080/",
          "height": 244
        },
        "id": "jvcVPnjo0WHr",
        "outputId": "c7a89aac-5be6-449e-fa69-dc40efd8e49f"
      },
      "source": [
        "s1 = {1, 2, 3, 4, 5, 6, 7, 8, 9, 10}\n",
        "s2 = {100, 3.1416, \"pi\", False, None}\n",
        "print(s1)\n",
        "print(s2)\n",
        "print(s1[4])"
      ],
      "execution_count": null,
      "outputs": [
        {
          "output_type": "stream",
          "text": [
            "{1, 2, 3, 4, 5, 6, 7, 8, 9, 10}\n",
            "{False, 3.1416, 100, 'pi', None}\n"
          ],
          "name": "stdout"
        },
        {
          "output_type": "error",
          "ename": "TypeError",
          "evalue": "ignored",
          "traceback": [
            "\u001b[0;31m---------------------------------------------------------------------------\u001b[0m",
            "\u001b[0;31mTypeError\u001b[0m                                 Traceback (most recent call last)",
            "\u001b[0;32m<ipython-input-33-e0b80c56c8f1>\u001b[0m in \u001b[0;36m<module>\u001b[0;34m()\u001b[0m\n\u001b[1;32m      3\u001b[0m \u001b[0mprint\u001b[0m\u001b[0;34m(\u001b[0m\u001b[0ms1\u001b[0m\u001b[0;34m)\u001b[0m\u001b[0;34m\u001b[0m\u001b[0;34m\u001b[0m\u001b[0m\n\u001b[1;32m      4\u001b[0m \u001b[0mprint\u001b[0m\u001b[0;34m(\u001b[0m\u001b[0ms2\u001b[0m\u001b[0;34m)\u001b[0m\u001b[0;34m\u001b[0m\u001b[0;34m\u001b[0m\u001b[0m\n\u001b[0;32m----> 5\u001b[0;31m \u001b[0mprint\u001b[0m\u001b[0;34m(\u001b[0m\u001b[0ms1\u001b[0m\u001b[0;34m[\u001b[0m\u001b[0;36m4\u001b[0m\u001b[0;34m]\u001b[0m\u001b[0;34m)\u001b[0m\u001b[0;34m\u001b[0m\u001b[0;34m\u001b[0m\u001b[0m\n\u001b[0m",
            "\u001b[0;31mTypeError\u001b[0m: 'set' object is not subscriptable"
          ]
        }
      ]
    },
    {
      "cell_type": "code",
      "metadata": {
        "colab": {
          "base_uri": "https://localhost:8080/"
        },
        "id": "XHLwaFSZ0pue",
        "outputId": "a65ef465-6a55-4114-db27-87ed371720c2"
      },
      "source": [
        "s1.add(6)\n",
        "s1.add(300)\n",
        "s1.add(9)\n",
        "s1.add(100)\n",
        "print(s1, len(s1))"
      ],
      "execution_count": null,
      "outputs": [
        {
          "output_type": "stream",
          "text": [
            "{1, 2, 3, 4, 5, 6, 7, 8, 9, 10, 100, 300} 12\n"
          ],
          "name": "stdout"
        }
      ]
    },
    {
      "cell_type": "code",
      "metadata": {
        "colab": {
          "base_uri": "https://localhost:8080/"
        },
        "id": "P7s9Mkmc01Mz",
        "outputId": "916edd8d-08a2-4167-a2d5-08139b5b3032"
      },
      "source": [
        "s1.remove(100)\n",
        "print(s1)"
      ],
      "execution_count": null,
      "outputs": [
        {
          "output_type": "stream",
          "text": [
            "{1, 2, 3, 4, 5, 6, 7, 8, 9, 10, 300}\n"
          ],
          "name": "stdout"
        }
      ]
    },
    {
      "cell_type": "code",
      "metadata": {
        "colab": {
          "base_uri": "https://localhost:8080/"
        },
        "id": "KVn3_Eoy08k6",
        "outputId": "fe345d30-3a7b-4bf4-f0bf-bee820a409d6"
      },
      "source": [
        "print(list(s1))"
      ],
      "execution_count": null,
      "outputs": [
        {
          "output_type": "stream",
          "text": [
            "[1, 2, 3, 4, 5, 6, 7, 8, 9, 10, 300]\n"
          ],
          "name": "stdout"
        }
      ]
    },
    {
      "cell_type": "markdown",
      "metadata": {
        "id": "oNR5Ie_L2Vxq"
      },
      "source": [
        "## Estructuras de control!\n",
        "\n",
        "### Condiciononales"
      ]
    },
    {
      "cell_type": "code",
      "metadata": {
        "colab": {
          "base_uri": "https://localhost:8080/"
        },
        "id": "te5T4l6-1ZK7",
        "outputId": "7129734e-e4ed-45c8-d40c-c9c95268b80c"
      },
      "source": [
        "a = 5\n",
        "if a < 2:\n",
        "    print(\"menor que 2\")\n",
        "    print(\":)\")\n",
        "\n",
        "print(\"Salimos!\")"
      ],
      "execution_count": null,
      "outputs": [
        {
          "output_type": "stream",
          "text": [
            "Salimos!\n"
          ],
          "name": "stdout"
        }
      ]
    },
    {
      "cell_type": "code",
      "metadata": {
        "colab": {
          "base_uri": "https://localhost:8080/"
        },
        "id": "PQy5sQSf2qLa",
        "outputId": "3941e095-7ea7-4b05-e432-ef9d058a1fb0"
      },
      "source": [
        "a = 5\n",
        "if a < 2:\n",
        "    print(\"menor que 2\")\n",
        "    print(\":)\")\n",
        "elif a < 4:\n",
        "    print(\"menor que 4\")\n",
        "    print(\":|\")\n",
        "elif a < 6:\n",
        "    print(\"menor que 6\")\n",
        "    print(\":O\")\n",
        "else:\n",
        "    print(\"No esperaba esto\")\n",
        "    print(\":(\")\n",
        "\n",
        "print(\"Salimos!\")"
      ],
      "execution_count": null,
      "outputs": [
        {
          "output_type": "stream",
          "text": [
            "menor que 6\n",
            ":O\n",
            "Salimos!\n"
          ],
          "name": "stdout"
        }
      ]
    },
    {
      "cell_type": "markdown",
      "metadata": {
        "id": "7-PsHgmT3JTo"
      },
      "source": [
        "### Repetitivas"
      ]
    },
    {
      "cell_type": "code",
      "metadata": {
        "colab": {
          "base_uri": "https://localhost:8080/"
        },
        "id": "eorf6a2525JE",
        "outputId": "37bdab36-1104-4ac6-8bbe-7ad59d7c7ebb"
      },
      "source": [
        "n = 5\n",
        "while n > 0:\n",
        "    print(n)\n",
        "    n -= 1\n",
        "\n",
        "print(\"Fin del while!!\")"
      ],
      "execution_count": null,
      "outputs": [
        {
          "output_type": "stream",
          "text": [
            "5\n",
            "4\n",
            "3\n",
            "2\n",
            "1\n",
            "Fin del while!!\n"
          ],
          "name": "stdout"
        }
      ]
    },
    {
      "cell_type": "code",
      "metadata": {
        "colab": {
          "base_uri": "https://localhost:8080/"
        },
        "id": "Zk-5Xlae3Vu-",
        "outputId": "735bb97d-b501-46c8-faa1-8bf1d7a43626"
      },
      "source": [
        "for i in range(10):\n",
        "    print(i)"
      ],
      "execution_count": null,
      "outputs": [
        {
          "output_type": "stream",
          "text": [
            "0\n",
            "1\n",
            "2\n",
            "3\n",
            "4\n",
            "5\n",
            "6\n",
            "7\n",
            "8\n",
            "9\n"
          ],
          "name": "stdout"
        }
      ]
    },
    {
      "cell_type": "code",
      "metadata": {
        "colab": {
          "base_uri": "https://localhost:8080/"
        },
        "id": "l5hrzUUD3b_8",
        "outputId": "60094633-5af4-4924-dec1-3e3fb62e90f1"
      },
      "source": [
        "for i in range(5, 10):\n",
        "    print(i)"
      ],
      "execution_count": null,
      "outputs": [
        {
          "output_type": "stream",
          "text": [
            "5\n",
            "6\n",
            "7\n",
            "8\n",
            "9\n"
          ],
          "name": "stdout"
        }
      ]
    },
    {
      "cell_type": "code",
      "metadata": {
        "colab": {
          "base_uri": "https://localhost:8080/"
        },
        "id": "v-1hjLxw3kck",
        "outputId": "fa4871fb-6651-43d8-c4b3-ffe274c39f30"
      },
      "source": [
        "for i in range(6, 1000, 112):\n",
        "    print(i)"
      ],
      "execution_count": null,
      "outputs": [
        {
          "output_type": "stream",
          "text": [
            "6\n",
            "118\n",
            "230\n",
            "342\n",
            "454\n",
            "566\n",
            "678\n",
            "790\n",
            "902\n"
          ],
          "name": "stdout"
        }
      ]
    },
    {
      "cell_type": "code",
      "metadata": {
        "colab": {
          "base_uri": "https://localhost:8080/"
        },
        "id": "-703dFT43pIS",
        "outputId": "ddadd72a-0ec0-4d10-9f5d-1ffdf5689518"
      },
      "source": [
        "for i in range(10, 0, -1):\n",
        "    print(i)"
      ],
      "execution_count": null,
      "outputs": [
        {
          "output_type": "stream",
          "text": [
            "10\n",
            "9\n",
            "8\n",
            "7\n",
            "6\n",
            "5\n",
            "4\n",
            "3\n",
            "2\n",
            "1\n"
          ],
          "name": "stdout"
        }
      ]
    },
    {
      "cell_type": "code",
      "metadata": {
        "colab": {
          "base_uri": "https://localhost:8080/"
        },
        "id": "_xiUFxFg3wuH",
        "outputId": "ea330683-33fd-40d2-aa73-b437bd8210a8"
      },
      "source": [
        "for e in l1:\n",
        "    print(e)"
      ],
      "execution_count": null,
      "outputs": [
        {
          "output_type": "stream",
          "text": [
            "1\n",
            "2\n",
            "3\n",
            "6\n",
            "7\n",
            "10\n",
            "200\n",
            "6\n",
            "300\n",
            "9\n",
            "100\n"
          ],
          "name": "stdout"
        }
      ]
    },
    {
      "cell_type": "code",
      "metadata": {
        "colab": {
          "base_uri": "https://localhost:8080/"
        },
        "id": "uNS1CwRk3z_t",
        "outputId": "72d491a8-b685-43f5-e0ee-1f8592f27bcb"
      },
      "source": [
        "for e in reversed(l1):\n",
        "    print(e)"
      ],
      "execution_count": null,
      "outputs": [
        {
          "output_type": "stream",
          "text": [
            "100\n",
            "9\n",
            "300\n",
            "6\n",
            "200\n",
            "10\n",
            "7\n",
            "6\n",
            "3\n",
            "2\n",
            "1\n"
          ],
          "name": "stdout"
        }
      ]
    },
    {
      "cell_type": "code",
      "metadata": {
        "colab": {
          "base_uri": "https://localhost:8080/"
        },
        "id": "Ct8CcsIB36DG",
        "outputId": "248ebdbd-8f3d-47a4-fd6b-51e234cea289"
      },
      "source": [
        "for c in \"JALADOS\":\n",
        "    print(c)"
      ],
      "execution_count": null,
      "outputs": [
        {
          "output_type": "stream",
          "text": [
            "J\n",
            "A\n",
            "L\n",
            "A\n",
            "D\n",
            "O\n",
            "S\n"
          ],
          "name": "stdout"
        }
      ]
    },
    {
      "cell_type": "code",
      "metadata": {
        "colab": {
          "base_uri": "https://localhost:8080/"
        },
        "id": "-r_zubbR4ITE",
        "outputId": "6f69ce46-f7f4-4311-9afb-740cb30f75db"
      },
      "source": [
        "m = []\n",
        "for i in range(4):\n",
        "    m.append([])\n",
        "    for j in range(5):\n",
        "        m[i].append(i * j + 1)\n",
        "\n",
        "print(m)"
      ],
      "execution_count": null,
      "outputs": [
        {
          "output_type": "stream",
          "text": [
            "[[1, 1, 1, 1, 1], [1, 2, 3, 4, 5], [1, 3, 5, 7, 9], [1, 4, 7, 10, 13]]\n"
          ],
          "name": "stdout"
        }
      ]
    },
    {
      "cell_type": "code",
      "metadata": {
        "colab": {
          "base_uri": "https://localhost:8080/"
        },
        "id": "SIYTKp2i4Ygs",
        "outputId": "fbc73c2d-313c-48a8-ff41-cb34e547a7ee"
      },
      "source": [
        "for l in m:\n",
        "    print(l)"
      ],
      "execution_count": null,
      "outputs": [
        {
          "output_type": "stream",
          "text": [
            "[1, 1, 1, 1, 1]\n",
            "[1, 2, 3, 4, 5]\n",
            "[1, 3, 5, 7, 9]\n",
            "[1, 4, 7, 10, 13]\n"
          ],
          "name": "stdout"
        }
      ]
    },
    {
      "cell_type": "code",
      "metadata": {
        "colab": {
          "base_uri": "https://localhost:8080/"
        },
        "id": "XOt70wz14kj_",
        "outputId": "8d3ca1a0-917a-4ea4-b6f4-0276aef7406d"
      },
      "source": [
        "m2 = [[i * j + 1 for j in range(5)] for i in range(4)]\n",
        "for l in m2:\n",
        "    print(l)"
      ],
      "execution_count": null,
      "outputs": [
        {
          "output_type": "stream",
          "text": [
            "[1, 1, 1, 1, 1]\n",
            "[1, 2, 3, 4, 5]\n",
            "[1, 3, 5, 7, 9]\n",
            "[1, 4, 7, 10, 13]\n"
          ],
          "name": "stdout"
        }
      ]
    },
    {
      "cell_type": "code",
      "metadata": {
        "id": "Y2wWoBq84sQy"
      },
      "source": [
        ""
      ],
      "execution_count": null,
      "outputs": []
    }
  ]
}
