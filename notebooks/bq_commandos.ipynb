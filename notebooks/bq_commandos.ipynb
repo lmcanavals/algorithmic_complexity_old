{
  "nbformat": 4,
  "nbformat_minor": 0,
  "metadata": {
    "colab": {
      "name": "commandos.ipynb",
      "provenance": [],
      "authorship_tag": "ABX9TyNT3vpLCjz0IyW6oyjFoV+6",
      "include_colab_link": true
    },
    "kernelspec": {
      "name": "python3",
      "display_name": "Python 3"
    },
    "language_info": {
      "name": "python"
    }
  },
  "cells": [
    {
      "cell_type": "markdown",
      "metadata": {
        "id": "view-in-github",
        "colab_type": "text"
      },
      "source": [
        "<a href=\"https://colab.research.google.com/github/lmcanavals/algorithmic_complexity/blob/main/notebooks/commandos.ipynb\" target=\"_parent\"><img src=\"https://colab.research.google.com/assets/colab-badge.svg\" alt=\"Open In Colab\"/></a>"
      ]
    },
    {
      "cell_type": "markdown",
      "metadata": {
        "id": "xFjj1ZHPeaos"
      },
      "source": [
        "# [Commandos](https://onlinejudge.org/external/114/11463.pdf)"
      ]
    },
    {
      "cell_type": "code",
      "metadata": {
        "id": "MS3AFZlQd0sg"
      },
      "source": [
        "import math\n",
        "import numpy as np"
      ],
      "execution_count": null,
      "outputs": []
    },
    {
      "cell_type": "code",
      "metadata": {
        "id": "OG6qLiGzd-Xu"
      },
      "source": [
        "def relax(cost, path, cost_uv, path_kj, u, v):\n",
        "  if cost[u] + cost_uv < cost[v]:\n",
        "    cost[v] = cost[u] + cost_uv\n",
        "    path[v] = path_kj\n",
        "\n",
        "def floydWarshall(G):\n",
        "  n = len(G)\n",
        "  cost = G.copy()\n",
        "  path = np.full((n, n), -1)\n",
        "\n",
        "  for (i, j), _ in np.ndenumerate(path):\n",
        "    path[i, j] = i if G[i, j] != np.Inf else -1;\n",
        "\n",
        "  for k in range(n):\n",
        "    for i in range(n):\n",
        "      for j in range(n):\n",
        "        if i != j and i != k and k != j:\n",
        "          relax(cost[i], path[i], cost[k, j], path[k, j], k, j)\n",
        "  \n",
        "  return cost, path"
      ],
      "execution_count": null,
      "outputs": []
    },
    {
      "cell_type": "code",
      "metadata": {
        "colab": {
          "base_uri": "https://localhost:8080/"
        },
        "id": "iil2Rrp9d--4",
        "outputId": "5eed1a54-66fe-4782-9dc4-53494d724b98"
      },
      "source": [
        "%%file 1.in\n",
        "3\n",
        "4\n",
        "3\n",
        "0 1\n",
        "2 1\n",
        "1 3\n",
        "0 3\n",
        "2\n",
        "1\n",
        "0 1\n",
        "1 0\n",
        "6\n",
        "5\n",
        "0 1\n",
        "1 2\n",
        "2 3\n",
        "2 4\n",
        "4 5\n",
        "0 5"
      ],
      "execution_count": null,
      "outputs": [
        {
          "output_type": "stream",
          "text": [
            "Overwriting 1.in\n"
          ],
          "name": "stdout"
        }
      ]
    },
    {
      "cell_type": "code",
      "metadata": {
        "colab": {
          "base_uri": "https://localhost:8080/"
        },
        "id": "0qsX1j7rfdWH",
        "outputId": "191cec7e-ef86-4a8e-ab1d-e1dc14c1dfc8"
      },
      "source": [
        "def isInPath(path, x, s, d):\n",
        "  while path[d] > 0:\n",
        "    if x == d:\n",
        "      return True\n",
        "    else:\n",
        "      d = path[d]\n",
        "\n",
        "  return False\n",
        "\n",
        "def maxi(cost):\n",
        "  pos = 0\n",
        "  m = cost[0]\n",
        "  for i in range(1, len(cost)):\n",
        "    if cost[i] > m:\n",
        "      m = cost[i]\n",
        "      pos = i\n",
        "  return pos, m\n",
        "\n",
        "with open(\"1.in\") as f:\n",
        "  T = int(f.readline())\n",
        "  case = 0\n",
        "  while case < T:\n",
        "    case += 1\n",
        "    N = int(f.readline())\n",
        "    R = int(f.readline())\n",
        "    G = np.full((N, N), np.Inf)\n",
        "    for _ in range(R):\n",
        "      u, v = list(map(int, f.readline().split()))\n",
        "      G[u, v] = 1\n",
        "      G[v, u] = 1\n",
        "\n",
        "    s, d = list(map(int, f.readline().split()))\n",
        "    \n",
        "    cost, path = floydWarshall(G)\n",
        "    cost[cost == np.Inf] = 0\n",
        "    cont = 0\n",
        "    top = 0\n",
        "    while cont < N:\n",
        "      cont += 1\n",
        "      x, val = maxi(cost[s])\n",
        "      top = val if val > top else top\n",
        "      if isInPath(path[s], x, s, d):\n",
        "        cost[s, x] = 0\n",
        "      else:\n",
        "        break\n",
        "    if cont < N:\n",
        "      ans = val\n",
        "    else:\n",
        "      ans = top\n",
        "\n",
        "    ans += cost[x, d]\n",
        "\n",
        "    print(f\"Case {case}: {int(ans)}\")"
      ],
      "execution_count": null,
      "outputs": [
        {
          "output_type": "stream",
          "text": [
            "Case 1: 4\n",
            "Case 2: 1\n",
            "Case 3: 6\n"
          ],
          "name": "stdout"
        }
      ]
    },
    {
      "cell_type": "code",
      "metadata": {
        "id": "yPsvIhRKpKtn"
      },
      "source": [
        ""
      ],
      "execution_count": null,
      "outputs": []
    }
  ]
}
