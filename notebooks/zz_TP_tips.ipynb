{
  "nbformat": 4,
  "nbformat_minor": 0,
  "metadata": {
    "colab": {
      "name": "zz_TP_tips.ipynb",
      "provenance": [],
      "authorship_tag": "ABX9TyNwvGOG7TwVLvD4x5CWP0l4",
      "include_colab_link": true
    },
    "kernelspec": {
      "name": "python3",
      "display_name": "Python 3"
    },
    "language_info": {
      "name": "python"
    }
  },
  "cells": [
    {
      "cell_type": "markdown",
      "metadata": {
        "id": "view-in-github",
        "colab_type": "text"
      },
      "source": [
        "<a href=\"https://colab.research.google.com/github/lmcanavals/algorithmic_complexity/blob/main/notebooks/zz_TP_tips.ipynb\" target=\"_parent\"><img src=\"https://colab.research.google.com/assets/colab-badge.svg\" alt=\"Open In Colab\"/></a>"
      ]
    },
    {
      "cell_type": "code",
      "metadata": {
        "colab": {
          "base_uri": "https://localhost:8080/"
        },
        "id": "0V0aB-VMLEAN",
        "outputId": "b43d8c37-9ecd-485f-c612-0be86d8c8dcb"
      },
      "source": [
        "!git clone https://github.com/lmcanavals/algorithmic_complexity.git"
      ],
      "execution_count": 1,
      "outputs": [
        {
          "output_type": "stream",
          "text": [
            "fatal: destination path 'algorithmic_complexity' already exists and is not an empty directory.\n"
          ],
          "name": "stdout"
        }
      ]
    },
    {
      "cell_type": "code",
      "metadata": {
        "id": "6QB84qTBMqna"
      },
      "source": [
        "from algorithmic_complexity.aclib import graphstuff as gs"
      ],
      "execution_count": 2,
      "outputs": []
    },
    {
      "cell_type": "code",
      "metadata": {
        "id": "UeYt39Q_FLlP"
      },
      "source": [
        "import pandas as pd\n",
        "import numpy as np\n",
        "import networkx as nx\n",
        "import math"
      ],
      "execution_count": 3,
      "outputs": []
    },
    {
      "cell_type": "code",
      "metadata": {
        "id": "v6Cbr_XnFejJ"
      },
      "source": [
        "url  = \"https://raw.githubusercontent.com/lmcanavals/\"\n",
        "url += \"algorithmic_complexity/main/data/poblaciones.csv\"\n",
        "poblacionesDF = pd.read_csv(url)"
      ],
      "execution_count": 4,
      "outputs": []
    },
    {
      "cell_type": "code",
      "metadata": {
        "colab": {
          "base_uri": "https://localhost:8080/",
          "height": 222
        },
        "id": "p2ndJFNHFuFR",
        "outputId": "99958267-ad90-411d-9f05-3811c2a5813c"
      },
      "source": [
        "print(len(poblacionesDF))\n",
        "poblacionesDF.head()"
      ],
      "execution_count": 5,
      "outputs": [
        {
          "output_type": "stream",
          "text": [
            "3757\n"
          ],
          "name": "stdout"
        },
        {
          "output_type": "execute_result",
          "data": {
            "text/html": [
              "<div>\n",
              "<style scoped>\n",
              "    .dataframe tbody tr th:only-of-type {\n",
              "        vertical-align: middle;\n",
              "    }\n",
              "\n",
              "    .dataframe tbody tr th {\n",
              "        vertical-align: top;\n",
              "    }\n",
              "\n",
              "    .dataframe thead th {\n",
              "        text-align: right;\n",
              "    }\n",
              "</style>\n",
              "<table border=\"1\" class=\"dataframe\">\n",
              "  <thead>\n",
              "    <tr style=\"text-align: right;\">\n",
              "      <th></th>\n",
              "      <th>DEPARTAMENTO</th>\n",
              "      <th>PROVINCIA</th>\n",
              "      <th>DISTRITO</th>\n",
              "      <th>CENTRO POBLADO</th>\n",
              "      <th>LATITUD</th>\n",
              "      <th>LONGITUD</th>\n",
              "      <th>NMI1</th>\n",
              "      <th>NMI2</th>\n",
              "    </tr>\n",
              "  </thead>\n",
              "  <tbody>\n",
              "    <tr>\n",
              "      <th>0</th>\n",
              "      <td>AMAZONAS</td>\n",
              "      <td>BAGUA</td>\n",
              "      <td>ARAMANGO</td>\n",
              "      <td>EL MUYO (C.P.L.)</td>\n",
              "      <td>-5.422545</td>\n",
              "      <td>-78.45299</td>\n",
              "      <td>311</td>\n",
              "      <td>1206</td>\n",
              "    </tr>\n",
              "    <tr>\n",
              "      <th>1</th>\n",
              "      <td>AMAZONAS</td>\n",
              "      <td>BAGUA</td>\n",
              "      <td>ARAMANGO</td>\n",
              "      <td>RESERVA UJUCANO</td>\n",
              "      <td>-5.427565</td>\n",
              "      <td>-78.444372</td>\n",
              "      <td>44</td>\n",
              "      <td>129</td>\n",
              "    </tr>\n",
              "    <tr>\n",
              "      <th>2</th>\n",
              "      <td>AMAZONAS</td>\n",
              "      <td>BAGUA</td>\n",
              "      <td>ARAMANGO</td>\n",
              "      <td>TUTUMBEROS</td>\n",
              "      <td>-5.327317</td>\n",
              "      <td>-78.44472</td>\n",
              "      <td>49</td>\n",
              "      <td>179</td>\n",
              "    </tr>\n",
              "    <tr>\n",
              "      <th>3</th>\n",
              "      <td>AMAZONAS</td>\n",
              "      <td>BAGUA</td>\n",
              "      <td>BAGUA</td>\n",
              "      <td>ALENYA BAJO</td>\n",
              "      <td>-5.682439</td>\n",
              "      <td>-78.495229</td>\n",
              "      <td>3</td>\n",
              "      <td>8</td>\n",
              "    </tr>\n",
              "    <tr>\n",
              "      <th>4</th>\n",
              "      <td>AMAZONAS</td>\n",
              "      <td>BONGARA</td>\n",
              "      <td>CUISPES</td>\n",
              "      <td>MITOPAMPA</td>\n",
              "      <td>-5.93856</td>\n",
              "      <td>-77.965302</td>\n",
              "      <td>1</td>\n",
              "      <td>4</td>\n",
              "    </tr>\n",
              "  </tbody>\n",
              "</table>\n",
              "</div>"
            ],
            "text/plain": [
              "  DEPARTAMENTO PROVINCIA  DISTRITO  ...    LONGITUD NMI1  NMI2\n",
              "0     AMAZONAS     BAGUA  ARAMANGO  ...   -78.45299  311  1206\n",
              "1     AMAZONAS     BAGUA  ARAMANGO  ...  -78.444372   44   129\n",
              "2     AMAZONAS     BAGUA  ARAMANGO  ...   -78.44472   49   179\n",
              "3     AMAZONAS     BAGUA     BAGUA  ...  -78.495229    3     8\n",
              "4     AMAZONAS   BONGARA   CUISPES  ...  -77.965302    1     4\n",
              "\n",
              "[5 rows x 8 columns]"
            ]
          },
          "metadata": {
            "tags": []
          },
          "execution_count": 5
        }
      ]
    },
    {
      "cell_type": "code",
      "metadata": {
        "colab": {
          "base_uri": "https://localhost:8080/"
        },
        "id": "_jtz3oJzFvx5",
        "outputId": "59175666-33c3-4c02-ee64-40a5bc0c1849"
      },
      "source": [
        "nomprovincias = poblacionesDF['PROVINCIA'].unique()\n",
        "print(len(nomprovincias))\n",
        "nomprovincias"
      ],
      "execution_count": 6,
      "outputs": [
        {
          "output_type": "stream",
          "text": [
            "157\n"
          ],
          "name": "stdout"
        },
        {
          "output_type": "execute_result",
          "data": {
            "text/plain": [
              "array(['BAGUA', 'BONGARA', 'CHACHAPOYAS', 'UTCUBAMBA', 'ANTONIO RAYMONDI',\n",
              "       'BOLOGNESI', 'CARHUAZ', 'CASMA', 'HUARAZ', 'HUARI', 'HUAYLAS',\n",
              "       'OCROS', 'POMABAMBA', 'RECUAY', 'SANTA', 'SIHUAS', 'YUNGAY',\n",
              "       'ABANCAY', 'ANDAHUAYLAS', 'ANTABAMBA', 'AYMARAES', 'CHINCHEROS',\n",
              "       'GRAU', 'AREQUIPA', 'CAMANA', 'CARAVELI', 'CASTILLA', 'CAYLLOMA',\n",
              "       'CONDESUYOS', 'CANGALLO', 'HUAMANGA', 'HUANCA SANCOS', 'HUANTA',\n",
              "       'LUCANAS', 'PARINACOCHAS', 'VICTOR FAJARDO', 'CAJABAMBA',\n",
              "       'CAJAMARCA', 'CELENDIN', 'CHOTA', 'CONTUMAZA', 'CUTERVO', 'JAEN',\n",
              "       'SAN IGNACIO', 'SAN MARCOS', 'SAN MIGUEL', 'SAN MIMGUEL',\n",
              "       'SANTA CRUZ', 'ACOMAYO', 'CALCA', 'CANAS', 'CANCHIS',\n",
              "       'CHUMBIVILCAS', 'LA CONVENCION', 'PARURO', 'QUISPICANCHI',\n",
              "       'PROVINCIA', 'CASTROVIRREYNA', 'CHURCAMPA', 'HUANCAVELICA',\n",
              "       'HUAYTARA', 'TAYACAJA', 'AMBO', 'DOS DE MAYO', 'DOSDEMAYO',\n",
              "       'HUAMALIES', 'HUANUCO SANTA', 'HUANUCO', 'LAURICOCHA',\n",
              "       'LEONCIO PRADO', 'MARAÑON', 'PUERTO INCA', 'CHINCHA', 'ICA',\n",
              "       'NASCA', 'PALPA', 'PISCO', 'CHANCHAMAYO', 'CHUPACA', 'CONCEPCION',\n",
              "       'HUANCAYO', 'JAUJA', 'JUNIN', 'SATIPO', 'TARMA', 'ASCOPE',\n",
              "       'BOLIVAR', 'CHEPEN', 'GRAN CHIMU', 'JULCAN', 'OTUZCO', 'PACASMAYO',\n",
              "       'PATAZ', 'SANCHEZ CARRION', 'SANTIAGO DE CHUCO', 'TRUJILLO',\n",
              "       'VIRU', 'CHICLAYO', 'FERREÑAFE', 'LAMBAYEQUE', 'BARRANCA',\n",
              "       'CAJATAMBO', 'CAÑETE', 'HUARAL', 'HUAROCHIRI', 'HUAURA', 'LIMA',\n",
              "       'OYON', 'YAUYOS', 'ALTO AMAZONAS', 'LORETO',\n",
              "       'MARISCAL RAMON CASTILLA', 'MAYNAS', 'PUTUMAYO   10', 'REQUENA',\n",
              "       'UCAYALI', 'MANU', 'TAMBOPATA', 'GENERAL SANCHEZ CERRO',\n",
              "       'MARISCAL NIETO', 'DANIEL ALCIDES CARRION', 'OXAPAMPA', 'PASCO',\n",
              "       'AYABACA', 'HUANCABAMBA', 'MORROPON', 'PAITA', 'PIURA', 'SECHURA',\n",
              "       'SULLANA', 'TALARA', 'AZANGARO', 'CARABAYA', 'CHUCUITO',\n",
              "       'EL COLLAO', 'LAMPA', 'MELGAR', 'PUNO', 'SANDIA', 'BELLAVISTA',\n",
              "       'HUALLAGA', 'LAMAS', 'MARISCAL CACERES', 'MOYOBAMBA', 'PICOTA',\n",
              "       'RIOJA', 'SAN MARTIN', 'TOCACHE', 'CANDARAVE', 'JORGE BASADRE',\n",
              "       'TACNA', 'TARATA', 'CONTRALMIRANTE VILLAR', 'TUMBES', 'ZARUMILLA',\n",
              "       'CORONEL PORTILLO', 'PADRE ABAD'], dtype=object)"
            ]
          },
          "metadata": {
            "tags": []
          },
          "execution_count": 6
        }
      ]
    },
    {
      "cell_type": "code",
      "metadata": {
        "id": "lfoWvNkpHFqa"
      },
      "source": [
        "provincias = dict()\n",
        "for nom in nomprovincias:\n",
        "  provincias[nom] = poblacionesDF[poblacionesDF['PROVINCIA'] == nom]\n",
        "  print(nom, len(provincias[nom]))"
      ],
      "execution_count": null,
      "outputs": []
    },
    {
      "cell_type": "code",
      "metadata": {
        "id": "At5jaHdEfhPh"
      },
      "source": [
        "#@title Provincia \n",
        "#@markdown Ingrese la provincia\n",
        "\n",
        "no_type_checking = ''\n",
        "nom_distrito = 'PASCO' #@param {type:\"string\"}"
      ],
      "execution_count": 8,
      "outputs": []
    },
    {
      "cell_type": "code",
      "metadata": {
        "colab": {
          "base_uri": "https://localhost:8080/"
        },
        "id": "grj4ds1TJbfW",
        "outputId": "5c382862-453d-4d15-da59-c44e49b6f833"
      },
      "source": [
        "nomdistritos = provincias[nom_distrito]['DISTRITO'].unique()\n",
        "print(len(nomdistritos))\n",
        "nomdistritos"
      ],
      "execution_count": 9,
      "outputs": [
        {
          "output_type": "stream",
          "text": [
            "6\n"
          ],
          "name": "stdout"
        },
        {
          "output_type": "execute_result",
          "data": {
            "text/plain": [
              "array(['HUACHON', 'HUARIACA', 'NINACACA', 'PAUCARTAMBO', 'TICLACAYAN',\n",
              "       'YANACANCHA'], dtype=object)"
            ]
          },
          "metadata": {
            "tags": []
          },
          "execution_count": 9
        }
      ]
    },
    {
      "cell_type": "code",
      "metadata": {
        "colab": {
          "base_uri": "https://localhost:8080/"
        },
        "id": "uEV2ipmgJeLB",
        "outputId": "551955f6-db84-4506-a431-a5a54e93f852"
      },
      "source": [
        "distritos = dict()\n",
        "provincia = provincias[nom_distrito]\n",
        "for nom in nomdistritos:\n",
        "  distritos[nom] = provincia[provincia['DISTRITO'] == nom]\n",
        "  print(nom, len(distritos[nom]))"
      ],
      "execution_count": 10,
      "outputs": [
        {
          "output_type": "stream",
          "text": [
            "HUACHON 2\n",
            "HUARIACA 5\n",
            "NINACACA 1\n",
            "PAUCARTAMBO 11\n",
            "TICLACAYAN 5\n",
            "YANACANCHA 9\n"
          ],
          "name": "stdout"
        }
      ]
    },
    {
      "cell_type": "code",
      "metadata": {
        "id": "0hgswhW7KJcm"
      },
      "source": [
        "distrito = distritos['TICLACAYAN']"
      ],
      "execution_count": 11,
      "outputs": []
    },
    {
      "cell_type": "code",
      "metadata": {
        "id": "jfopAswNMIjf"
      },
      "source": [
        "def haversine(cp1, cp2):\n",
        "  la1, lo1 = float(cp1['LATITUD']), float(cp1['LONGITUD'])\n",
        "  la2, lo2 = float(cp2['LATITUD']), float(cp2['LONGITUD'])\n",
        "  \n",
        "  lo1, la1, lo2, la2 = map(math.radians, [lo1, la1, lo2, la2])\n",
        "  dlo = lo2 - lo1\n",
        "  dla = la2 - la1\n",
        "  a = math.sin(dla/2)**2 + math.cos(la1) * math.cos(la2) * math.sin(dlo/2)**2\n",
        "  c = 2 * math.asin(math.sqrt(a))\n",
        "  r = 6371\n",
        "\n",
        "  return round(c * r, 2)"
      ],
      "execution_count": 12,
      "outputs": []
    },
    {
      "cell_type": "code",
      "metadata": {
        "id": "gUUDbAzQKix0"
      },
      "source": [
        "G = nx.Graph()\n",
        "col = 'CENTRO POBLADO'\n",
        "for i, cp1 in distrito.iterrows():\n",
        "  G.add_node(i, label=cp1[col])\n",
        "\n",
        "for i, cp1 in distrito.iterrows():\n",
        "  for j, cp2 in distrito.iterrows():\n",
        "    if cp1[col] != cp2[col]:\n",
        "      G.add_edge(i, j, weight=haversine(cp1, cp2))"
      ],
      "execution_count": 13,
      "outputs": []
    },
    {
      "cell_type": "code",
      "metadata": {
        "colab": {
          "base_uri": "https://localhost:8080/",
          "height": 543
        },
        "id": "FoJt-MwFMwGc",
        "outputId": "18dac4e3-30d1-4023-9fca-6a086251110c"
      },
      "source": [
        "gs.nx2gv(G, weighted=True, params={'size':'15'}, nodeinfo=True)"
      ],
      "execution_count": 14,
      "outputs": [
        {
          "output_type": "execute_result",
          "data": {
            "text/plain": [
              "<graphviz.dot.Graph at 0x7fd09de7be50>"
            ],
            "image/svg+xml": "<?xml version=\"1.0\" encoding=\"UTF-8\" standalone=\"no\"?>\n<!DOCTYPE svg PUBLIC \"-//W3C//DTD SVG 1.1//EN\"\n \"http://www.w3.org/Graphics/SVG/1.1/DTD/svg11.dtd\">\n<!-- Generated by graphviz version 2.40.1 (20161225.0304)\n -->\n<!-- Title: G Pages: 1 -->\n<svg width=\"322pt\" height=\"392pt\"\n viewBox=\"0.00 0.00 321.89 392.00\" xmlns=\"http://www.w3.org/2000/svg\" xmlns:xlink=\"http://www.w3.org/1999/xlink\">\n<g id=\"graph0\" class=\"graph\" transform=\"scale(1 1) rotate(0) translate(4 388)\">\n<title>G</title>\n<polygon fill=\"#ffffff\" stroke=\"transparent\" points=\"-4,4 -4,-388 317.8939,-388 317.8939,4 -4,4\"/>\n<!-- 2820 -->\n<g id=\"node1\" class=\"node\">\n<title>2820</title>\n<ellipse fill=\"none\" stroke=\"#000000\" cx=\"101\" cy=\"-366\" rx=\"83.6854\" ry=\"18\"/>\n<text text-anchor=\"middle\" x=\"101\" y=\"-362.3\" font-family=\"Times,serif\" font-size=\"14.00\" fill=\"#000000\">ACAPA CANCHA</text>\n</g>\n<!-- 2821 -->\n<g id=\"node2\" class=\"node\">\n<title>2821</title>\n<ellipse fill=\"none\" stroke=\"#000000\" cx=\"157\" cy=\"-279\" rx=\"65.7887\" ry=\"18\"/>\n<text text-anchor=\"middle\" x=\"157\" y=\"-275.3\" font-family=\"Times,serif\" font-size=\"14.00\" fill=\"#000000\">MACHALAN</text>\n</g>\n<!-- 2820&#45;&#45;2821 -->\n<g id=\"edge1\" class=\"edge\">\n<title>2820&#45;&#45;2821</title>\n<path fill=\"none\" stroke=\"#000000\" d=\"M112.6032,-347.9735C122.2142,-333.0422 135.8048,-311.9283 145.4116,-297.0034\"/>\n<text text-anchor=\"middle\" x=\"145.5\" y=\"-318.8\" font-family=\"Times,serif\" font-size=\"14.00\" fill=\"#000000\">4.97</text>\n</g>\n<!-- 2822 -->\n<g id=\"node3\" class=\"node\">\n<title>2822</title>\n<ellipse fill=\"none\" stroke=\"#000000\" cx=\"157\" cy=\"-192\" rx=\"67.6881\" ry=\"18\"/>\n<text text-anchor=\"middle\" x=\"157\" y=\"-188.3\" font-family=\"Times,serif\" font-size=\"14.00\" fill=\"#000000\">MARCAPATA</text>\n</g>\n<!-- 2820&#45;&#45;2822 -->\n<g id=\"edge2\" class=\"edge\">\n<title>2820&#45;&#45;2822</title>\n<path fill=\"none\" stroke=\"#000000\" d=\"M83.2088,-348.1551C64.3283,-326.9516 39.2298,-290.7077 55,-261 68.3825,-235.7901 95.546,-218.1091 118.478,-206.9603\"/>\n<text text-anchor=\"middle\" x=\"68.5\" y=\"-275.3\" font-family=\"Times,serif\" font-size=\"14.00\" fill=\"#000000\">0.23</text>\n</g>\n<!-- 2823 -->\n<g id=\"node4\" class=\"node\">\n<title>2823</title>\n<ellipse fill=\"none\" stroke=\"#000000\" cx=\"245\" cy=\"-105\" rx=\"68.7879\" ry=\"18\"/>\n<text text-anchor=\"middle\" x=\"245\" y=\"-101.3\" font-family=\"Times,serif\" font-size=\"14.00\" fill=\"#000000\">PUCURHUAY</text>\n</g>\n<!-- 2820&#45;&#45;2823 -->\n<g id=\"edge3\" class=\"edge\">\n<title>2820&#45;&#45;2823</title>\n<path fill=\"none\" stroke=\"#000000\" d=\"M145.5183,-350.731C173.1942,-339.4165 207.9596,-321.6677 232,-297 272.4186,-255.5269 286.54,-230.7495 275,-174 271.3038,-155.8234 262.4777,-136.5816 255.35,-123.0489\"/>\n<text text-anchor=\"middle\" x=\"289.5\" y=\"-231.8\" font-family=\"Times,serif\" font-size=\"14.00\" fill=\"#000000\">0.79</text>\n</g>\n<!-- 2824 -->\n<g id=\"node5\" class=\"node\">\n<title>2824</title>\n<ellipse fill=\"none\" stroke=\"#000000\" cx=\"88\" cy=\"-18\" rx=\"70.3881\" ry=\"18\"/>\n<text text-anchor=\"middle\" x=\"88\" y=\"-14.3\" font-family=\"Times,serif\" font-size=\"14.00\" fill=\"#000000\">TICLACAYAN</text>\n</g>\n<!-- 2820&#45;&#45;2824 -->\n<g id=\"edge4\" class=\"edge\">\n<title>2820&#45;&#45;2824</title>\n<path fill=\"none\" stroke=\"#000000\" d=\"M60.7919,-350.1866C32.6263,-336.1732 0,-312.6732 0,-279 0,-279 0,-279 0,-105 0,-72.882 30.0113,-48.6065 54.9817,-33.9672\"/>\n<text text-anchor=\"middle\" x=\"13.5\" y=\"-188.3\" font-family=\"Times,serif\" font-size=\"14.00\" fill=\"#000000\">5.02</text>\n</g>\n<!-- 2821&#45;&#45;2822 -->\n<g id=\"edge5\" class=\"edge\">\n<title>2821&#45;&#45;2822</title>\n<path fill=\"none\" stroke=\"#000000\" d=\"M157,-260.9735C157,-246.0422 157,-224.9283 157,-210.0034\"/>\n<text text-anchor=\"middle\" x=\"170.5\" y=\"-231.8\" font-family=\"Times,serif\" font-size=\"14.00\" fill=\"#000000\">4.91</text>\n</g>\n<!-- 2821&#45;&#45;2823 -->\n<g id=\"edge6\" class=\"edge\">\n<title>2821&#45;&#45;2823</title>\n<path fill=\"none\" stroke=\"#000000\" d=\"M184.1945,-262.329C201.5477,-250.1211 222.8133,-231.8999 234,-210 248.1743,-182.2514 248.3741,-145.0536 246.9088,-123.1929\"/>\n<text text-anchor=\"middle\" x=\"257.5\" y=\"-188.3\" font-family=\"Times,serif\" font-size=\"14.00\" fill=\"#000000\">4.67</text>\n</g>\n<!-- 2821&#45;&#45;2824 -->\n<g id=\"edge7\" class=\"edge\">\n<title>2821&#45;&#45;2824</title>\n<path fill=\"none\" stroke=\"#000000\" d=\"M129.0551,-262.688C111.3761,-250.6359 90.029,-232.4536 80,-210 53.6726,-151.0565 71.7154,-71.5249 82.0946,-36.2044\"/>\n<text text-anchor=\"middle\" x=\"79.5\" y=\"-144.8\" font-family=\"Times,serif\" font-size=\"14.00\" fill=\"#000000\">0.48</text>\n</g>\n<!-- 2822&#45;&#45;2823 -->\n<g id=\"edge8\" class=\"edge\">\n<title>2822&#45;&#45;2823</title>\n<path fill=\"none\" stroke=\"#000000\" d=\"M174.8081,-174.3943C190.0757,-159.3001 211.9584,-137.6661 227.2184,-122.5796\"/>\n<text text-anchor=\"middle\" x=\"219.5\" y=\"-144.8\" font-family=\"Times,serif\" font-size=\"14.00\" fill=\"#000000\">0.56</text>\n</g>\n<!-- 2822&#45;&#45;2824 -->\n<g id=\"edge9\" class=\"edge\">\n<title>2822&#45;&#45;2824</title>\n<path fill=\"none\" stroke=\"#000000\" d=\"M149.8757,-174.0343C136.6536,-140.6918 108.4596,-69.5937 95.1889,-36.1286\"/>\n<text text-anchor=\"middle\" x=\"142.5\" y=\"-101.3\" font-family=\"Times,serif\" font-size=\"14.00\" fill=\"#000000\">4.97</text>\n</g>\n<!-- 2823&#45;&#45;2824 -->\n<g id=\"edge10\" class=\"edge\">\n<title>2823&#45;&#45;2824</title>\n<path fill=\"none\" stroke=\"#000000\" d=\"M215.4695,-88.636C187.4892,-73.131 145.6889,-49.9677 117.6646,-34.4383\"/>\n<text text-anchor=\"middle\" x=\"188.5\" y=\"-57.8\" font-family=\"Times,serif\" font-size=\"14.00\" fill=\"#000000\">4.79</text>\n</g>\n</g>\n</svg>\n"
          },
          "metadata": {
            "tags": []
          },
          "execution_count": 14
        }
      ]
    }
  ]
}