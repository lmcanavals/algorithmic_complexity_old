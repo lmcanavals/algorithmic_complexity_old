{
  "nbformat": 4,
  "nbformat_minor": 0,
  "metadata": {
    "colab": {
      "name": "ai_graphs_representations.ipynb",
      "provenance": [],
      "authorship_tag": "ABX9TyPRd7bzof3o1QKki3/SE5V4",
      "include_colab_link": true
    },
    "kernelspec": {
      "name": "python3",
      "display_name": "Python 3"
    },
    "language_info": {
      "name": "python"
    }
  },
  "cells": [
    {
      "cell_type": "markdown",
      "metadata": {
        "id": "view-in-github",
        "colab_type": "text"
      },
      "source": [
        "<a href=\"https://colab.research.google.com/github/lmcanavals/algorithmic_complexity/blob/main/notebooks/ai_graphs_representations.ipynb\" target=\"_parent\"><img src=\"https://colab.research.google.com/assets/colab-badge.svg\" alt=\"Open In Colab\"/></a>"
      ]
    },
    {
      "cell_type": "markdown",
      "metadata": {
        "id": "aNqXvt5EKc4K"
      },
      "source": [
        "# Graph representations"
      ]
    },
    {
      "cell_type": "code",
      "metadata": {
        "id": "fcxQ2N3oK0lc"
      },
      "source": [
        "!git clone https://github.com/lmcanavals/algorithmic_complexity.git 2>/dev/null"
      ],
      "execution_count": 1,
      "outputs": []
    },
    {
      "cell_type": "code",
      "metadata": {
        "id": "P4erlFiz2hx2"
      },
      "source": [
        "import random\n",
        "import numpy as np\n",
        "import networkx as nx\n",
        "\n",
        "from algorithmic_complexity.aclib import graphstuff as gs"
      ],
      "execution_count": 2,
      "outputs": []
    },
    {
      "cell_type": "markdown",
      "metadata": {
        "id": "sU3PoHRYKfi5"
      },
      "source": [
        "## Adjacency Matrix"
      ]
    },
    {
      "cell_type": "markdown",
      "metadata": {
        "id": "_fiDFNn_KiJ9"
      },
      "source": [
        "Generate random adjacency matrix with n vertices y m edges"
      ]
    },
    {
      "cell_type": "code",
      "metadata": {
        "id": "mLmo_tbY2p2O"
      },
      "source": [
        "def genAdjMatrix(n, m: int):\n",
        "  mat = [[0]*n for _ in range(n)]\n",
        "\n",
        "  temp = [1]*m\n",
        "  temp += [0]*(n**2 - m)\n",
        "\n",
        "  random.shuffle(temp)\n",
        "\n",
        "  for i in range(n):\n",
        "    for j in range(n):\n",
        "      mat[i][j] = temp[i*n + j]\n",
        "\n",
        "  return mat"
      ],
      "execution_count": 3,
      "outputs": []
    },
    {
      "cell_type": "code",
      "metadata": {
        "colab": {
          "base_uri": "https://localhost:8080/"
        },
        "id": "uzETeLYY3fbd",
        "outputId": "d55cfa1a-6620-40c7-d890-7c7846258546"
      },
      "source": [
        "G = genAdjMatrix(7, 13)\n",
        "G"
      ],
      "execution_count": 4,
      "outputs": [
        {
          "output_type": "execute_result",
          "data": {
            "text/plain": [
              "[[0, 0, 0, 0, 1, 0, 0],\n",
              " [0, 0, 1, 0, 0, 1, 0],\n",
              " [0, 0, 1, 1, 0, 0, 1],\n",
              " [0, 0, 1, 0, 0, 1, 0],\n",
              " [0, 0, 0, 1, 0, 0, 1],\n",
              " [1, 0, 0, 0, 0, 0, 0],\n",
              " [0, 1, 1, 0, 0, 0, 0]]"
            ]
          },
          "metadata": {
            "tags": []
          },
          "execution_count": 4
        }
      ]
    },
    {
      "cell_type": "markdown",
      "metadata": {
        "id": "TPLQ0ameKnNH"
      },
      "source": [
        "The same but using numpy"
      ]
    },
    {
      "cell_type": "code",
      "metadata": {
        "id": "DMHO4B4u3iQt"
      },
      "source": [
        "def genAdjMatrixnp(n, m: int):\n",
        "  mat = np.zeros(n*n)\n",
        "  mat[:m] = 1\n",
        "  np.random.shuffle(mat)\n",
        "  return mat.reshape((n, n))"
      ],
      "execution_count": 5,
      "outputs": []
    },
    {
      "cell_type": "code",
      "metadata": {
        "colab": {
          "base_uri": "https://localhost:8080/"
        },
        "id": "eDCmLpGi6Vbx",
        "outputId": "84fe3651-92fc-41e3-e5fb-03b871186932"
      },
      "source": [
        "Gnp = genAdjMatrixnp(7, 13)\n",
        "print(Gnp)"
      ],
      "execution_count": 6,
      "outputs": [
        {
          "output_type": "stream",
          "text": [
            "[[0. 0. 1. 0. 0. 0. 0.]\n",
            " [0. 0. 0. 0. 1. 1. 0.]\n",
            " [0. 1. 0. 0. 0. 0. 0.]\n",
            " [1. 0. 1. 0. 1. 0. 0.]\n",
            " [1. 0. 0. 0. 0. 0. 1.]\n",
            " [0. 0. 1. 0. 1. 1. 0.]\n",
            " [0. 0. 0. 0. 1. 0. 0.]]\n"
          ],
          "name": "stdout"
        }
      ]
    },
    {
      "cell_type": "code",
      "metadata": {
        "colab": {
          "base_uri": "https://localhost:8080/",
          "height": 655
        },
        "id": "CLL1hKv46Xyh",
        "outputId": "7ac89801-9975-49e0-a1be-0c1f9f37b633"
      },
      "source": [
        "G = nx.from_numpy_matrix(Gnp, create_using=nx.DiGraph)\n",
        "gs.as_gv(G)"
      ],
      "execution_count": 7,
      "outputs": [
        {
          "output_type": "execute_result",
          "data": {
            "text/plain": [
              "<graphviz.dot.Digraph at 0x7f20d1b4c210>"
            ],
            "image/svg+xml": "<?xml version=\"1.0\" encoding=\"UTF-8\" standalone=\"no\"?>\n<!DOCTYPE svg PUBLIC \"-//W3C//DTD SVG 1.1//EN\"\n \"http://www.w3.org/Graphics/SVG/1.1/DTD/svg11.dtd\">\n<!-- Generated by graphviz version 2.40.1 (20161225.0304)\n -->\n<!-- Title: %3 Pages: 1 -->\n<svg width=\"200pt\" height=\"476pt\"\n viewBox=\"0.00 0.00 200.00 476.00\" xmlns=\"http://www.w3.org/2000/svg\" xmlns:xlink=\"http://www.w3.org/1999/xlink\">\n<g id=\"graph0\" class=\"graph\" transform=\"scale(1 1) rotate(0) translate(4 472)\">\n<title>%3</title>\n<polygon fill=\"#ffffff\" stroke=\"transparent\" points=\"-4,4 -4,-472 196,-472 196,4 -4,4\"/>\n<!-- 0 -->\n<g id=\"node1\" class=\"node\">\n<title>0</title>\n<ellipse fill=\"none\" stroke=\"#000000\" cx=\"137\" cy=\"-378\" rx=\"27\" ry=\"18\"/>\n<text text-anchor=\"middle\" x=\"137\" y=\"-374.3\" font-family=\"Times,serif\" font-size=\"14.00\" fill=\"#000000\">0</text>\n</g>\n<!-- 2 -->\n<g id=\"node2\" class=\"node\">\n<title>2</title>\n<ellipse fill=\"none\" stroke=\"#000000\" cx=\"82\" cy=\"-306\" rx=\"27\" ry=\"18\"/>\n<text text-anchor=\"middle\" x=\"82\" y=\"-302.3\" font-family=\"Times,serif\" font-size=\"14.00\" fill=\"#000000\">2</text>\n</g>\n<!-- 0&#45;&gt;2 -->\n<g id=\"edge1\" class=\"edge\">\n<title>0&#45;&gt;2</title>\n<path fill=\"none\" stroke=\"#000000\" d=\"M124.5196,-361.6621C117.4876,-352.4564 108.5653,-340.7764 100.7117,-330.4953\"/>\n<polygon fill=\"#000000\" stroke=\"#000000\" points=\"103.2828,-328.0953 94.431,-322.2733 97.72,-332.3446 103.2828,-328.0953\"/>\n</g>\n<!-- 1 -->\n<g id=\"node3\" class=\"node\">\n<title>1</title>\n<ellipse fill=\"none\" stroke=\"#000000\" cx=\"27\" cy=\"-234\" rx=\"27\" ry=\"18\"/>\n<text text-anchor=\"middle\" x=\"27\" y=\"-230.3\" font-family=\"Times,serif\" font-size=\"14.00\" fill=\"#000000\">1</text>\n</g>\n<!-- 2&#45;&gt;1 -->\n<g id=\"edge4\" class=\"edge\">\n<title>2&#45;&gt;1</title>\n<path fill=\"none\" stroke=\"#000000\" d=\"M69.5196,-289.6621C62.4876,-280.4564 53.5653,-268.7764 45.7117,-258.4953\"/>\n<polygon fill=\"#000000\" stroke=\"#000000\" points=\"48.2828,-256.0953 39.431,-250.2733 42.72,-260.3446 48.2828,-256.0953\"/>\n</g>\n<!-- 4 -->\n<g id=\"node4\" class=\"node\">\n<title>4</title>\n<ellipse fill=\"none\" stroke=\"#000000\" cx=\"117\" cy=\"-90\" rx=\"27\" ry=\"18\"/>\n<text text-anchor=\"middle\" x=\"117\" y=\"-86.3\" font-family=\"Times,serif\" font-size=\"14.00\" fill=\"#000000\">4</text>\n</g>\n<!-- 1&#45;&gt;4 -->\n<g id=\"edge2\" class=\"edge\">\n<title>1&#45;&gt;4</title>\n<path fill=\"none\" stroke=\"#000000\" d=\"M26.9178,-215.6968C27.6411,-196.4521 31.1519,-165.9734 45,-144 55.0035,-128.127 71.4635,-115.264 86.1222,-106.0795\"/>\n<polygon fill=\"#000000\" stroke=\"#000000\" points=\"88.1312,-108.9571 94.9428,-100.8421 84.5573,-102.9382 88.1312,-108.9571\"/>\n</g>\n<!-- 5 -->\n<g id=\"node5\" class=\"node\">\n<title>5</title>\n<ellipse fill=\"none\" stroke=\"#000000\" cx=\"81\" cy=\"-162\" rx=\"27\" ry=\"18\"/>\n<text text-anchor=\"middle\" x=\"81\" y=\"-158.3\" font-family=\"Times,serif\" font-size=\"14.00\" fill=\"#000000\">5</text>\n</g>\n<!-- 1&#45;&gt;5 -->\n<g id=\"edge3\" class=\"edge\">\n<title>1&#45;&gt;5</title>\n<path fill=\"none\" stroke=\"#000000\" d=\"M39.2534,-217.6621C46.1577,-208.4564 54.9177,-196.7764 62.6285,-186.4953\"/>\n<polygon fill=\"#000000\" stroke=\"#000000\" points=\"65.595,-188.3733 68.7951,-178.2733 59.995,-184.1733 65.595,-188.3733\"/>\n</g>\n<!-- 4&#45;&gt;0 -->\n<g id=\"edge8\" class=\"edge\">\n<title>4&#45;&gt;0</title>\n<path fill=\"none\" stroke=\"#000000\" d=\"M124.4404,-107.6422C128.4205,-118.023 132.9205,-131.523 135,-144 147.2479,-217.4871 142.975,-305.7639 139.5652,-349.9337\"/>\n<polygon fill=\"#000000\" stroke=\"#000000\" points=\"136.0748,-349.6751 138.7492,-359.9268 143.0516,-350.2449 136.0748,-349.6751\"/>\n</g>\n<!-- 6 -->\n<g id=\"node7\" class=\"node\">\n<title>6</title>\n<ellipse fill=\"none\" stroke=\"#000000\" cx=\"117\" cy=\"-18\" rx=\"27\" ry=\"18\"/>\n<text text-anchor=\"middle\" x=\"117\" y=\"-14.3\" font-family=\"Times,serif\" font-size=\"14.00\" fill=\"#000000\">6</text>\n</g>\n<!-- 4&#45;&gt;6 -->\n<g id=\"edge9\" class=\"edge\">\n<title>4&#45;&gt;6</title>\n<path fill=\"none\" stroke=\"#000000\" d=\"M111.0843,-72.2022C110.2798,-64.1807 110.0571,-54.5231 110.4162,-45.5957\"/>\n<polygon fill=\"#000000\" stroke=\"#000000\" points=\"113.9097,-45.8099 111.105,-35.593 106.9262,-45.3289 113.9097,-45.8099\"/>\n</g>\n<!-- 5&#45;&gt;2 -->\n<g id=\"edge10\" class=\"edge\">\n<title>5&#45;&gt;2</title>\n<path fill=\"none\" stroke=\"#000000\" d=\"M81.1256,-180.0896C81.2956,-204.5727 81.6008,-248.5174 81.8019,-277.4713\"/>\n<polygon fill=\"#000000\" stroke=\"#000000\" points=\"78.3039,-277.7869 81.8733,-287.7623 85.3037,-277.7382 78.3039,-277.7869\"/>\n</g>\n<!-- 5&#45;&gt;4 -->\n<g id=\"edge11\" class=\"edge\">\n<title>5&#45;&gt;4</title>\n<path fill=\"none\" stroke=\"#000000\" d=\"M89.7146,-144.5708C93.9597,-136.0807 99.1536,-125.6929 103.8663,-116.2674\"/>\n<polygon fill=\"#000000\" stroke=\"#000000\" points=\"107.024,-117.7782 108.3657,-107.2687 100.763,-114.6477 107.024,-117.7782\"/>\n</g>\n<!-- 5&#45;&gt;5 -->\n<g id=\"edge12\" class=\"edge\">\n<title>5&#45;&gt;5</title>\n<path fill=\"none\" stroke=\"#000000\" d=\"M100.895,-174.4321C113.688,-177.6753 126,-173.5313 126,-162 126,-153.6218 119.5006,-149.1433 111.0395,-148.5644\"/>\n<polygon fill=\"#000000\" stroke=\"#000000\" points=\"110.5019,-145.1004 100.895,-149.5679 111.191,-152.0665 110.5019,-145.1004\"/>\n</g>\n<!-- 3 -->\n<g id=\"node6\" class=\"node\">\n<title>3</title>\n<ellipse fill=\"none\" stroke=\"#000000\" cx=\"137\" cy=\"-450\" rx=\"27\" ry=\"18\"/>\n<text text-anchor=\"middle\" x=\"137\" y=\"-446.3\" font-family=\"Times,serif\" font-size=\"14.00\" fill=\"#000000\">3</text>\n</g>\n<!-- 3&#45;&gt;0 -->\n<g id=\"edge5\" class=\"edge\">\n<title>3&#45;&gt;0</title>\n<path fill=\"none\" stroke=\"#000000\" d=\"M137,-431.8314C137,-424.131 137,-414.9743 137,-406.4166\"/>\n<polygon fill=\"#000000\" stroke=\"#000000\" points=\"140.5001,-406.4132 137,-396.4133 133.5001,-406.4133 140.5001,-406.4132\"/>\n</g>\n<!-- 3&#45;&gt;2 -->\n<g id=\"edge6\" class=\"edge\">\n<title>3&#45;&gt;2</title>\n<path fill=\"none\" stroke=\"#000000\" d=\"M123.9011,-433.9153C116.1559,-423.6387 106.7648,-409.7102 101,-396 92.6694,-376.1876 87.8467,-352.3321 85.1459,-334.1605\"/>\n<polygon fill=\"#000000\" stroke=\"#000000\" points=\"88.6059,-333.6289 83.7905,-324.1917 81.6698,-334.5721 88.6059,-333.6289\"/>\n</g>\n<!-- 3&#45;&gt;4 -->\n<g id=\"edge7\" class=\"edge\">\n<title>3&#45;&gt;4</title>\n<path fill=\"none\" stroke=\"#000000\" d=\"M150.0989,-433.9153C157.8441,-423.6387 167.2352,-409.7102 173,-396 188.8458,-358.3142 192,-346.8816 192,-306 192,-306 192,-306 192,-234 192,-186.9971 160.1791,-140.1303 137.9914,-113.1646\"/>\n<polygon fill=\"#000000\" stroke=\"#000000\" points=\"140.5956,-110.8239 131.4608,-105.4568 135.2548,-115.349 140.5956,-110.8239\"/>\n</g>\n<!-- 6&#45;&gt;4 -->\n<g id=\"edge13\" class=\"edge\">\n<title>6&#45;&gt;4</title>\n<path fill=\"none\" stroke=\"#000000\" d=\"M122.895,-35.593C123.7094,-43.5865 123.942,-53.2363 123.5928,-62.1759\"/>\n<polygon fill=\"#000000\" stroke=\"#000000\" points=\"120.0976,-61.9891 122.9157,-72.2022 127.0817,-62.4608 120.0976,-61.9891\"/>\n</g>\n</g>\n</svg>\n"
          },
          "metadata": {
            "tags": []
          },
          "execution_count": 7
        }
      ]
    },
    {
      "cell_type": "markdown",
      "metadata": {
        "id": "ZnTFksooNmat"
      },
      "source": [
        "# Adjacency List"
      ]
    },
    {
      "cell_type": "markdown",
      "metadata": {
        "id": "S6jz6LiYNpYo"
      },
      "source": [
        "Random adjacency list with n vertices and m edges"
      ]
    },
    {
      "cell_type": "code",
      "metadata": {
        "id": "P4urLo8DBRZE"
      },
      "source": [
        "def genAdjList(n, m: int):\n",
        "  L = [[] for _ in range(n)]\n",
        "  cont = 0\n",
        "  while cont < m:\n",
        "    u = random.randint(0, n-1)\n",
        "    v = random.randint(0, n-1)\n",
        "    if u != v and v not in L[u]:\n",
        "      L[u].append(v)\n",
        "      cont += 1\n",
        "    \n",
        "  return L"
      ],
      "execution_count": 8,
      "outputs": []
    },
    {
      "cell_type": "code",
      "metadata": {
        "colab": {
          "base_uri": "https://localhost:8080/"
        },
        "id": "-ACNXpp-FImu",
        "outputId": "bb9aab17-c40e-4952-d5c9-ff8d1300643f"
      },
      "source": [
        "Gal = genAdjList(7, 13)\n",
        "for u, edges in enumerate(Gal):\n",
        "  print(u, *edges)"
      ],
      "execution_count": 9,
      "outputs": [
        {
          "output_type": "stream",
          "text": [
            "0 3\n",
            "1 3 2\n",
            "2 0\n",
            "3 0 2\n",
            "4 0 5 1 3\n",
            "5 6\n",
            "6 2 1\n"
          ],
          "name": "stdout"
        }
      ]
    },
    {
      "cell_type": "code",
      "metadata": {
        "colab": {
          "base_uri": "https://localhost:8080/"
        },
        "id": "J_ALAeXrFQac",
        "outputId": "5f37b809-15dd-4425-933a-b1b8eed4fc8c"
      },
      "source": [
        "%%file 1.adjlist\n",
        "0 3\n",
        "1 3 2\n",
        "2 0\n",
        "3 0 2\n",
        "4 0 5 1 3\n",
        "5 6\n",
        "6 2 1"
      ],
      "execution_count": 10,
      "outputs": [
        {
          "output_type": "stream",
          "text": [
            "Overwriting 1.adjlist\n"
          ],
          "name": "stdout"
        }
      ]
    },
    {
      "cell_type": "code",
      "metadata": {
        "colab": {
          "base_uri": "https://localhost:8080/",
          "height": 559
        },
        "id": "y5mJKH0iFmPL",
        "outputId": "c6c8e70d-eecf-4706-f2d4-12642467401e"
      },
      "source": [
        "G = nx.read_adjlist('1.adjlist', create_using=nx.DiGraph)\n",
        "gs.as_gv(G)"
      ],
      "execution_count": 12,
      "outputs": [
        {
          "output_type": "execute_result",
          "data": {
            "text/plain": [
              "<graphviz.dot.Digraph at 0x7f20c0cc8990>"
            ],
            "image/svg+xml": "<?xml version=\"1.0\" encoding=\"UTF-8\" standalone=\"no\"?>\n<!DOCTYPE svg PUBLIC \"-//W3C//DTD SVG 1.1//EN\"\n \"http://www.w3.org/Graphics/SVG/1.1/DTD/svg11.dtd\">\n<!-- Generated by graphviz version 2.40.1 (20161225.0304)\n -->\n<!-- Title: %3 Pages: 1 -->\n<svg width=\"210pt\" height=\"404pt\"\n viewBox=\"0.00 0.00 210.00 404.00\" xmlns=\"http://www.w3.org/2000/svg\" xmlns:xlink=\"http://www.w3.org/1999/xlink\">\n<g id=\"graph0\" class=\"graph\" transform=\"scale(1 1) rotate(0) translate(4 400)\">\n<title>%3</title>\n<polygon fill=\"#ffffff\" stroke=\"transparent\" points=\"-4,4 -4,-400 206,-400 206,4 -4,4\"/>\n<!-- 0 -->\n<g id=\"node1\" class=\"node\">\n<title>0</title>\n<ellipse fill=\"none\" stroke=\"#000000\" cx=\"27\" cy=\"-306\" rx=\"27\" ry=\"18\"/>\n<text text-anchor=\"middle\" x=\"27\" y=\"-302.3\" font-family=\"Times,serif\" font-size=\"14.00\" fill=\"#000000\">0</text>\n</g>\n<!-- 3 -->\n<g id=\"node2\" class=\"node\">\n<title>3</title>\n<ellipse fill=\"none\" stroke=\"#000000\" cx=\"82\" cy=\"-90\" rx=\"27\" ry=\"18\"/>\n<text text-anchor=\"middle\" x=\"82\" y=\"-86.3\" font-family=\"Times,serif\" font-size=\"14.00\" fill=\"#000000\">3</text>\n</g>\n<!-- 0&#45;&gt;3 -->\n<g id=\"edge1\" class=\"edge\">\n<title>0&#45;&gt;3</title>\n<path fill=\"none\" stroke=\"#000000\" d=\"M25.9683,-288.012C30.0332,-258.106 45.609,-196.2739 59,-144 61.3148,-134.964 63.8694,-125.0837 66.635,-116.2735\"/>\n<polygon fill=\"#000000\" stroke=\"#000000\" points=\"70.0408,-117.1319 69.9768,-106.5373 63.4199,-114.8594 70.0408,-117.1319\"/>\n</g>\n<!-- 3&#45;&gt;0 -->\n<g id=\"edge2\" class=\"edge\">\n<title>3&#45;&gt;0</title>\n<path fill=\"none\" stroke=\"#000000\" d=\"M85.1823,-107.9933C83.5763,-118.491 80.0763,-131.991 77,-144 64.7867,-191.6763 50.7562,-247.3032 40.061,-279.4082\"/>\n<polygon fill=\"#000000\" stroke=\"#000000\" points=\"36.7159,-278.3707 36.7122,-288.9655 43.3221,-280.6855 36.7159,-278.3707\"/>\n</g>\n<!-- 2 -->\n<g id=\"node3\" class=\"node\">\n<title>2</title>\n<ellipse fill=\"none\" stroke=\"#000000\" cx=\"109\" cy=\"-18\" rx=\"27\" ry=\"18\"/>\n<text text-anchor=\"middle\" x=\"109\" y=\"-14.3\" font-family=\"Times,serif\" font-size=\"14.00\" fill=\"#000000\">2</text>\n</g>\n<!-- 3&#45;&gt;2 -->\n<g id=\"edge3\" class=\"edge\">\n<title>3&#45;&gt;2</title>\n<path fill=\"none\" stroke=\"#000000\" d=\"M88.6742,-72.2022C91.7476,-64.0064 95.4616,-54.1024 98.8695,-45.0145\"/>\n<polygon fill=\"#000000\" stroke=\"#000000\" points=\"102.1685,-46.1853 102.4026,-35.593 95.6142,-43.7274 102.1685,-46.1853\"/>\n</g>\n<!-- 2&#45;&gt;0 -->\n<g id=\"edge6\" class=\"edge\">\n<title>2&#45;&gt;0</title>\n<path fill=\"none\" stroke=\"#000000\" d=\"M88.176,-29.7469C73.6605,-39.1555 55.2932,-53.777 46,-72 11.629,-139.3977 17.1121,-232.0803 22.725,-277.9477\"/>\n<polygon fill=\"#000000\" stroke=\"#000000\" points=\"19.2784,-278.5832 24.0569,-288.0393 26.2182,-277.6672 19.2784,-278.5832\"/>\n</g>\n<!-- 1 -->\n<g id=\"node4\" class=\"node\">\n<title>1</title>\n<ellipse fill=\"none\" stroke=\"#000000\" cx=\"137\" cy=\"-162\" rx=\"27\" ry=\"18\"/>\n<text text-anchor=\"middle\" x=\"137\" y=\"-158.3\" font-family=\"Times,serif\" font-size=\"14.00\" fill=\"#000000\">1</text>\n</g>\n<!-- 1&#45;&gt;3 -->\n<g id=\"edge4\" class=\"edge\">\n<title>1&#45;&gt;3</title>\n<path fill=\"none\" stroke=\"#000000\" d=\"M124.5196,-145.6621C117.4876,-136.4564 108.5653,-124.7764 100.7117,-114.4953\"/>\n<polygon fill=\"#000000\" stroke=\"#000000\" points=\"103.2828,-112.0953 94.431,-106.2733 97.72,-116.3446 103.2828,-112.0953\"/>\n</g>\n<!-- 1&#45;&gt;2 -->\n<g id=\"edge5\" class=\"edge\">\n<title>1&#45;&gt;2</title>\n<path fill=\"none\" stroke=\"#000000\" d=\"M133.5104,-144.0535C128.7317,-119.4774 120.1029,-75.1008 114.4634,-46.0974\"/>\n<polygon fill=\"#000000\" stroke=\"#000000\" points=\"117.878,-45.3208 112.5336,-36.1727 111.0067,-46.6569 117.878,-45.3208\"/>\n</g>\n<!-- 4 -->\n<g id=\"node5\" class=\"node\">\n<title>4</title>\n<ellipse fill=\"none\" stroke=\"#000000\" cx=\"101\" cy=\"-378\" rx=\"27\" ry=\"18\"/>\n<text text-anchor=\"middle\" x=\"101\" y=\"-374.3\" font-family=\"Times,serif\" font-size=\"14.00\" fill=\"#000000\">4</text>\n</g>\n<!-- 4&#45;&gt;0 -->\n<g id=\"edge7\" class=\"edge\">\n<title>4&#45;&gt;0</title>\n<path fill=\"none\" stroke=\"#000000\" d=\"M85.6672,-363.0816C75.249,-352.945 61.2922,-339.3654 49.6053,-327.9944\"/>\n<polygon fill=\"#000000\" stroke=\"#000000\" points=\"51.9212,-325.3644 42.3132,-320.8993 47.0397,-330.3815 51.9212,-325.3644\"/>\n</g>\n<!-- 4&#45;&gt;3 -->\n<g id=\"edge10\" class=\"edge\">\n<title>4&#45;&gt;3</title>\n<path fill=\"none\" stroke=\"#000000\" d=\"M99.8115,-359.9843C96.5993,-311.2939 87.7261,-176.7961 83.851,-118.0573\"/>\n<polygon fill=\"#000000\" stroke=\"#000000\" points=\"87.3389,-117.7568 83.1881,-108.0089 80.3541,-118.2176 87.3389,-117.7568\"/>\n</g>\n<!-- 4&#45;&gt;1 -->\n<g id=\"edge9\" class=\"edge\">\n<title>4&#45;&gt;1</title>\n<path fill=\"none\" stroke=\"#000000\" d=\"M104.0074,-359.9555C110.2809,-322.3144 124.8022,-235.1867 132.3126,-190.1246\"/>\n<polygon fill=\"#000000\" stroke=\"#000000\" points=\"135.7841,-190.5844 133.9758,-180.1451 128.8794,-189.4336 135.7841,-190.5844\"/>\n</g>\n<!-- 5 -->\n<g id=\"node6\" class=\"node\">\n<title>5</title>\n<ellipse fill=\"none\" stroke=\"#000000\" cx=\"175\" cy=\"-306\" rx=\"27\" ry=\"18\"/>\n<text text-anchor=\"middle\" x=\"175\" y=\"-302.3\" font-family=\"Times,serif\" font-size=\"14.00\" fill=\"#000000\">5</text>\n</g>\n<!-- 4&#45;&gt;5 -->\n<g id=\"edge8\" class=\"edge\">\n<title>4&#45;&gt;5</title>\n<path fill=\"none\" stroke=\"#000000\" d=\"M116.3328,-363.0816C126.751,-352.945 140.7078,-339.3654 152.3947,-327.9944\"/>\n<polygon fill=\"#000000\" stroke=\"#000000\" points=\"154.9603,-330.3815 159.6868,-320.8993 150.0788,-325.3644 154.9603,-330.3815\"/>\n</g>\n<!-- 6 -->\n<g id=\"node7\" class=\"node\">\n<title>6</title>\n<ellipse fill=\"none\" stroke=\"#000000\" cx=\"175\" cy=\"-234\" rx=\"27\" ry=\"18\"/>\n<text text-anchor=\"middle\" x=\"175\" y=\"-230.3\" font-family=\"Times,serif\" font-size=\"14.00\" fill=\"#000000\">6</text>\n</g>\n<!-- 5&#45;&gt;6 -->\n<g id=\"edge11\" class=\"edge\">\n<title>5&#45;&gt;6</title>\n<path fill=\"none\" stroke=\"#000000\" d=\"M175,-287.8314C175,-280.131 175,-270.9743 175,-262.4166\"/>\n<polygon fill=\"#000000\" stroke=\"#000000\" points=\"178.5001,-262.4132 175,-252.4133 171.5001,-262.4133 178.5001,-262.4132\"/>\n</g>\n<!-- 6&#45;&gt;2 -->\n<g id=\"edge12\" class=\"edge\">\n<title>6&#45;&gt;2</title>\n<path fill=\"none\" stroke=\"#000000\" d=\"M176.9049,-215.7631C178.2927,-197.3602 179.0153,-168.2719 173,-144 163.737,-106.623 141.7762,-67.7167 126.169,-43.2052\"/>\n<polygon fill=\"#000000\" stroke=\"#000000\" points=\"128.9249,-41.023 120.5381,-34.5489 123.0571,-44.84 128.9249,-41.023\"/>\n</g>\n<!-- 6&#45;&gt;1 -->\n<g id=\"edge13\" class=\"edge\">\n<title>6&#45;&gt;1</title>\n<path fill=\"none\" stroke=\"#000000\" d=\"M165.9945,-216.937C161.5172,-208.4537 156.0048,-198.0092 150.993,-188.513\"/>\n<polygon fill=\"#000000\" stroke=\"#000000\" points=\"153.9678,-186.6509 146.2048,-179.4407 147.7771,-189.9182 153.9678,-186.6509\"/>\n</g>\n</g>\n</svg>\n"
          },
          "metadata": {
            "tags": []
          },
          "execution_count": 12
        }
      ]
    }
  ]
}
