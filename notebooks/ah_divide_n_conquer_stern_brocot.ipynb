{
  "nbformat": 4,
  "nbformat_minor": 0,
  "metadata": {
    "colab": {
      "name": "ah_divide_n_conquer_stern_brocot.ipynb",
      "provenance": [],
      "collapsed_sections": [],
      "authorship_tag": "ABX9TyMGFw4Y9bAtwEk+Ved5M/Hg",
      "include_colab_link": true
    },
    "kernelspec": {
      "name": "python3",
      "display_name": "Python 3"
    },
    "language_info": {
      "name": "python"
    }
  },
  "cells": [
    {
      "cell_type": "markdown",
      "metadata": {
        "id": "view-in-github",
        "colab_type": "text"
      },
      "source": [
        "<a href=\"https://colab.research.google.com/github/lmcanavals/algorithmic_complexity/blob/main/notebooks/ah_divide_n_conquer_stern_brocot.ipynb\" target=\"_parent\"><img src=\"https://colab.research.google.com/assets/colab-badge.svg\" alt=\"Open In Colab\"/></a>"
      ]
    },
    {
      "cell_type": "markdown",
      "metadata": {
        "id": "sp072CL3MVXe"
      },
      "source": [
        "# [10077 - The Stern-Brocot Number System](https://onlinejudge.org/index.php?option=onlinejudge&Itemid=8&page=show_problem&problem=1018)"
      ]
    },
    {
      "cell_type": "markdown",
      "metadata": {
        "id": "KHaHbMNLNy3R"
      },
      "source": [
        "Tips and tricks at the end"
      ]
    },
    {
      "cell_type": "markdown",
      "metadata": {
        "id": "B5RWVCf-JOeZ"
      },
      "source": [
        "## Input"
      ]
    },
    {
      "cell_type": "code",
      "metadata": {
        "colab": {
          "base_uri": "https://localhost:8080/"
        },
        "id": "ha7tiIIOJIzH",
        "outputId": "55f08581-8448-47e2-f7ba-15b0317594c6"
      },
      "source": [
        "%%file 1.in\n",
        "5 7\n",
        "878 323\n",
        "1 1"
      ],
      "execution_count": null,
      "outputs": [
        {
          "output_type": "stream",
          "text": [
            "Writing 1.in\n"
          ],
          "name": "stdout"
        }
      ]
    },
    {
      "cell_type": "markdown",
      "metadata": {
        "id": "uYEFAyAxNH4D"
      },
      "source": [
        "The programming contest way?"
      ]
    },
    {
      "cell_type": "code",
      "metadata": {
        "colab": {
          "base_uri": "https://localhost:8080/"
        },
        "id": "CkKtCflmIdd3",
        "outputId": "4cb79883-6832-4ae6-b329-bd28b2543264"
      },
      "source": [
        "%%file 1.py\n",
        "\n",
        "# This is pretty much binary search\n",
        "def solve(m, n, ml, nl, mr, nr):\n",
        "  mc, nc = ml + mr, nl + nr\n",
        "  if m == mc and n == nc:\n",
        "    print()\n",
        "    return\n",
        "\n",
        "  if m/n > mc/nc:\n",
        "    print(\"R\", end='')\n",
        "    solve(m, n, mc, nc, mr, nr)\n",
        "  else:\n",
        "    print(\"L\", end='')\n",
        "    solve(m, n, ml, nl, mc, nc)\n",
        "\n",
        "def main():\n",
        "  while True:\n",
        "    m, n = map(int, input().split())\n",
        "    if m == 1 and n == 1:\n",
        "      break\n",
        "    solve(m, n, 0, 1, 1, 0)\n",
        "\n",
        "if __name__ == \"__main__\":\n",
        "    main()"
      ],
      "execution_count": null,
      "outputs": [
        {
          "output_type": "stream",
          "text": [
            "Overwriting 1.py\n"
          ],
          "name": "stdout"
        }
      ]
    },
    {
      "cell_type": "code",
      "metadata": {
        "colab": {
          "base_uri": "https://localhost:8080/"
        },
        "id": "7o8a_a8mKUJm",
        "outputId": "80fd9d44-c307-4700-b37f-4b7d0b7e4320"
      },
      "source": [
        "!python 1.py < 1.in"
      ],
      "execution_count": null,
      "outputs": [
        {
          "output_type": "stream",
          "text": [
            "LRRL\n",
            "RRLRRLRLLLLRLRRR\n"
          ],
          "name": "stdout"
        }
      ]
    },
    {
      "cell_type": "markdown",
      "metadata": {
        "id": "Mt85aiz2NMUL"
      },
      "source": [
        "The ipynb way"
      ]
    },
    {
      "cell_type": "code",
      "metadata": {
        "id": "Jp0-SCxuHicU"
      },
      "source": [
        "def solve(m, n, ml, nl, mr, nr):\n",
        "  mc, nc = ml + mr, nl + nr       # 4\n",
        "  if m == mc and n == nc:         # 3\n",
        "    print()                       # 1\n",
        "    return\n",
        "\n",
        "  if m/n > mc/nc:                 # 3 + max(then, else)\n",
        "    print(\"R\", end='')            # 2\n",
        "    solve(m, n, mc, nc, mr, nr)   # T(n/2)\n",
        "  else:\n",
        "    print(\"L\", end='')            # 2\n",
        "    solve(m, n, ml, nl, mc, nc)   # T(n/2)"
      ],
      "execution_count": null,
      "outputs": []
    },
    {
      "cell_type": "markdown",
      "metadata": {
        "id": "lKmfcWNZXi2I"
      },
      "source": [
        "$ T(n) = 4 + 3 + 1 + 3 + 2 + T(n/2) $\n",
        "\n",
        "$ T(n) = T(n/2) + 13 $\n",
        "\n",
        "$ T(n) = T(n/2) + O(1) $\n",
        "\n",
        "$ a = 1, b = 2, k = 0 $\n",
        "\n",
        "$ T(n) = O(n^0 log(n)) $\n",
        "\n",
        "$ T(n) = O(log (n)) $"
      ]
    },
    {
      "cell_type": "code",
      "metadata": {
        "colab": {
          "base_uri": "https://localhost:8080/"
        },
        "id": "omINmf-FNSAc",
        "outputId": "26eebd92-31ee-4e69-9e05-10de35a127da"
      },
      "source": [
        "with open('1.in') as file:\n",
        "  for line in file:\n",
        "    m, n = map(int, line.split())\n",
        "    if not (m == 1 and n == 1):\n",
        "      solve(m, n, 0, 1, 1, 0)"
      ],
      "execution_count": null,
      "outputs": [
        {
          "output_type": "stream",
          "text": [
            "LRRL\n",
            "RRLRRLRLLLLRLRRR\n"
          ],
          "name": "stdout"
        }
      ]
    },
    {
      "cell_type": "markdown",
      "metadata": {
        "id": "af3QOJWzN3ZE"
      },
      "source": [
        "## Tips and tricks"
      ]
    },
    {
      "cell_type": "markdown",
      "metadata": {
        "id": "LcbDH6H6N8cG"
      },
      "source": [
        "Supress the `newline` at the end from print"
      ]
    },
    {
      "cell_type": "code",
      "metadata": {
        "colab": {
          "base_uri": "https://localhost:8080/"
        },
        "id": "wOrd7scNN6VV",
        "outputId": "398f87a7-19f1-4485-f02e-579779308d3f"
      },
      "source": [
        "print(\"Hey! there's a newline or ascii \\\\n at the end automátically\")\n",
        "print(\"see?\")\n",
        "\n",
        "print(\"Now, with end='' we skip the newline\", end='')\n",
        "print(\"<- See?\")"
      ],
      "execution_count": null,
      "outputs": [
        {
          "output_type": "stream",
          "text": [
            "Hey! there's a newline or ascii \\n at the end automátically\n",
            "see?\n",
            "Now, with end='' we skip the newline<- See?\n"
          ],
          "name": "stdout"
        }
      ]
    },
    {
      "cell_type": "markdown",
      "metadata": {
        "id": "JVVucKb8OoG_"
      },
      "source": [
        "Reading input, aptly known as standard input or stdin for short."
      ]
    },
    {
      "cell_type": "code",
      "metadata": {
        "colab": {
          "base_uri": "https://localhost:8080/"
        },
        "id": "nYh5yeE0ONkq",
        "outputId": "cfc257dc-6694-4704-caa8-f62ba5654cd2"
      },
      "source": [
        "var = input(\"Come on! try typing something and then press enter\")\n",
        "print(\"This is what you wrote (very creative... I see):\", var)"
      ],
      "execution_count": null,
      "outputs": [
        {
          "output_type": "stream",
          "text": [
            "Come on! try typing something and then press enterasdfdalsdk asdf\n",
            "This is what you wrote (very creative... I see): asdfdalsdk asdf\n"
          ],
          "name": "stdout"
        }
      ]
    },
    {
      "cell_type": "markdown",
      "metadata": {
        "id": "RCqrPMg6PDTd"
      },
      "source": [
        "Now how about we read a couple of integers. First, `input()` always reads the whole line as a string. So we need to `split()` it and convert every element into the desired type. However if all the elements are of the same type, we can use the `map()` function. Here try typing `1 2` and then hit enter\""
      ]
    },
    {
      "cell_type": "code",
      "metadata": {
        "colab": {
          "base_uri": "https://localhost:8080/"
        },
        "id": "WUYORVmFPsPm",
        "outputId": "82c71166-065d-434a-f5e9-bffb478c09a4"
      },
      "source": [
        "a, b = map(int, input().split())\n",
        "print(f\"{a}+{b}={a+b}\")"
      ],
      "execution_count": null,
      "outputs": [
        {
          "output_type": "stream",
          "text": [
            "1 2\n",
            "1+2=3\n"
          ],
          "name": "stdout"
        }
      ]
    }
  ]
}