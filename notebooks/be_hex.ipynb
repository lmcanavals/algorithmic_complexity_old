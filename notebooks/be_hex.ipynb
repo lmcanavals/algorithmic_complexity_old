{
  "nbformat": 4,
  "nbformat_minor": 0,
  "metadata": {
    "colab": {
      "name": "be_hex.ipynb",
      "provenance": [],
      "authorship_tag": "ABX9TyMEHHPifD6FYidR1b/c2be7",
      "include_colab_link": true
    },
    "kernelspec": {
      "name": "python3",
      "display_name": "Python 3"
    },
    "language_info": {
      "name": "python"
    }
  },
  "cells": [
    {
      "cell_type": "markdown",
      "metadata": {
        "id": "view-in-github",
        "colab_type": "text"
      },
      "source": [
        "<a href=\"https://colab.research.google.com/github/lmcanavals/algorithmic_complexity/blob/main/notebooks/be_hex.ipynb\" target=\"_parent\"><img src=\"https://colab.research.google.com/assets/colab-badge.svg\" alt=\"Open In Colab\"/></a>"
      ]
    },
    {
      "cell_type": "code",
      "metadata": {
        "colab": {
          "base_uri": "https://localhost:8080/"
        },
        "id": "lp1lYnUbC100",
        "outputId": "33ab7416-e5dc-4a36-b005-db2d89f9c42d"
      },
      "source": [
        "!git clone https://github.com/lmcanavals/algorithmic_complexity.git"
      ],
      "execution_count": 1,
      "outputs": [
        {
          "output_type": "stream",
          "text": [
            "fatal: destination path 'algorithmic_complexity' already exists and is not an empty directory.\n"
          ],
          "name": "stdout"
        }
      ]
    },
    {
      "cell_type": "code",
      "metadata": {
        "id": "23cEtaMtC-xu"
      },
      "source": [
        "from algorithmic_complexity.aclib.ds import DisjointSet\n",
        "import numpy as np\n",
        "import matplotlib.pyplot as plt"
      ],
      "execution_count": 2,
      "outputs": []
    },
    {
      "cell_type": "code",
      "metadata": {
        "id": "TtFfAxUTDLCP"
      },
      "source": [
        "EMPTY = 2\n",
        "BLACK = 0\n",
        "WHITE = 3\n",
        "\n",
        "class Hex:\n",
        "  def __init__(self, n):\n",
        "    self.n = n + 2\n",
        "    self.board = np.ones((self.n, self.n)) + 1\n",
        "    self.whites = DisjointSet(self.n**2)\n",
        "    self.blacks = DisjointSet(self.n**2)\n",
        "\n",
        "  def move(self, i, j, token):\n",
        "    i += 1\n",
        "    j += 1\n",
        "    if self.board[i][j] == EMPTY:\n",
        "      self.board[i][j] = token\n",
        "      ds = self.blacks if token == BLACK else self.whites\n",
        "      self.__save(ds, i, j, token)\n",
        "      return True\n",
        "    else:\n",
        "      return False\n",
        "\n",
        "  def __save(self, ds, i, j, token):\n",
        "    neighbors = [(i-1, j-1), (i-1, j), (i, j-1), (i, j+1), (i+1, j), (i+1, j+1)]\n",
        "    for p, q in neighbors:\n",
        "      if self.board[p][q] == token:\n",
        "        ds.union(i*self.n + j, p*self.n + q)\n",
        "\n",
        "  def winner(self):\n",
        "    for p in range(1, self.n-1):\n",
        "      if self.board[p][1] == WHITE:\n",
        "        for q in range(1, self.n-1):\n",
        "          if self.board[q][self.n-2] == WHITE:\n",
        "            a = p*self.n + 1\n",
        "            b = q*self.n + self.n - 2\n",
        "            if self.whites.isSameSet(a, b):\n",
        "              return \"Whites!\"\n",
        "\n",
        "      if self.board[1][p] == BLACK:\n",
        "        for q in range(1, self.n-1):\n",
        "          if self.board[self.n-2][q] == BLACK:\n",
        "            a = self.n + p\n",
        "            b = (self.n-2)*self.n + q\n",
        "            if self.blacks.isSameSet(a, b):\n",
        "              return \"Blacks!\"\n",
        "\n",
        "    return \"Nadie\"\n",
        "\n",
        "  def show(self):\n",
        "    n = self.n - 2\n",
        "    shift = n-1\n",
        "    tempboard = np.ones((n*2, n*2+shift))\n",
        "    for i in range(n):\n",
        "      for j in range(n):\n",
        "        tempboard[i*2:(i+1)*2, j*2+shift:(j+1)*2+shift] = self.board[i+1][j+1]\n",
        "      shift -=1\n",
        "    plt.imshow(tempboard, cmap='gray')\n",
        "    plt.axis('off')\n",
        "    plt.show()"
      ],
      "execution_count": 3,
      "outputs": []
    },
    {
      "cell_type": "code",
      "metadata": {
        "id": "71dZ-WrPHkrE"
      },
      "source": [
        "import random"
      ],
      "execution_count": 4,
      "outputs": []
    },
    {
      "cell_type": "code",
      "metadata": {
        "colab": {
          "base_uri": "https://localhost:8080/",
          "height": 266
        },
        "id": "WakxhYnhIEgY",
        "outputId": "218bda2c-cac8-4e07-82e4-f9b088e13ddd"
      },
      "source": [
        "n = 10\n",
        "jonah = Hex(n)\n",
        "jugadas = [None]*(n**2)\n",
        "for i in range(n):\n",
        "  for j in range(n):\n",
        "    jugadas[i*n + j] = (i, j)\n",
        "\n",
        "random.shuffle(jugadas)\n",
        "while jugadas and jonah.winner() == \"Nadie\":\n",
        "  i, j = jugadas.pop()\n",
        "  jonah.move(i, j, BLACK)\n",
        "  i, j = jugadas.pop()\n",
        "  jonah.move(i, j, WHITE)\n",
        "\n",
        "print(jonah.winner())\n",
        "jonah.show()"
      ],
      "execution_count": 5,
      "outputs": [
        {
          "output_type": "stream",
          "text": [
            "Whites!\n"
          ],
          "name": "stdout"
        },
        {
          "output_type": "display_data",
          "data": {
            "image/png": "[encoded data removed]",
            "text/plain": [
              "<Figure size 432x288 with 1 Axes>"
            ]
          },
          "metadata": {
            "tags": [],
            "needs_background": "light"
          }
        }
      ]
    }
  ]
}