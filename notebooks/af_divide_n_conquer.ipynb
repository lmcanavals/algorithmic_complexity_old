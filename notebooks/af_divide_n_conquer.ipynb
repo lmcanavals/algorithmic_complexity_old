{
  "nbformat": 4,
  "nbformat_minor": 0,
  "metadata": {
    "colab": {
      "name": "af_divide_n_conquer.ipynb",
      "provenance": [],
      "authorship_tag": "ABX9TyNXoT+kI8wTufvw9/mKCX6m",
      "include_colab_link": true
    },
    "kernelspec": {
      "name": "python3",
      "display_name": "Python 3"
    },
    "language_info": {
      "name": "python"
    }
  },
  "cells": [
    {
      "cell_type": "markdown",
      "metadata": {
        "id": "view-in-github",
        "colab_type": "text"
      },
      "source": [
        "<a href=\"https://colab.research.google.com/github/lmcanavals/algorithmic_complexity/blob/main/notebooks/af_divide_n_conquer.ipynb\" target=\"_parent\"><img src=\"https://colab.research.google.com/assets/colab-badge.svg\" alt=\"Open In Colab\"/></a>"
      ]
    },
    {
      "cell_type": "markdown",
      "metadata": {
        "id": "-BPAvdZxtmuQ"
      },
      "source": [
        "# Divide and Conquer"
      ]
    },
    {
      "cell_type": "code",
      "metadata": {
        "id": "itTsmizKtq7C"
      },
      "source": [
        "import random\n",
        "import numpy as np"
      ],
      "execution_count": 7,
      "outputs": []
    },
    {
      "cell_type": "markdown",
      "metadata": {
        "id": "oQO81E6YyAe8"
      },
      "source": [
        "## Find the largest element in a list"
      ]
    },
    {
      "cell_type": "code",
      "metadata": {
        "id": "-XfG0Gv5tPjj"
      },
      "source": [
        "def getMax(a, i, j):\n",
        "  if i == j:\n",
        "    return a[i]\n",
        "\n",
        "  med = (i + j) // 2\n",
        "  maxi = getMax(a, i, med)\n",
        "  maxd = getMax(a, med + 1, j)\n",
        "  return maxi if maxi > maxd else maxd"
      ],
      "execution_count": 3,
      "outputs": []
    },
    {
      "cell_type": "code",
      "metadata": {
        "colab": {
          "base_uri": "https://localhost:8080/"
        },
        "id": "S8PxP7C5ttAq",
        "outputId": "836b5aa4-0b71-429b-87bf-919b23e58590"
      },
      "source": [
        "arr = [random.randint(1, 100) for _ in range(20)]\n",
        "print(arr)\n",
        "maxim = getMax(arr, 0, len(arr)-1)\n",
        "assert maxim == max(arr)\n",
        "print(maxim)"
      ],
      "execution_count": 4,
      "outputs": [
        {
          "output_type": "stream",
          "text": [
            "[59, 1, 67, 71, 62, 12, 38, 99, 63, 88, 58, 77, 84, 99, 94, 1, 55, 72, 37, 100]\n",
            "100\n"
          ],
          "name": "stdout"
        }
      ]
    },
    {
      "cell_type": "markdown",
      "metadata": {
        "id": "gsoR7N90yF0i"
      },
      "source": [
        "## Miltiply 2 numbers"
      ]
    },
    {
      "cell_type": "code",
      "metadata": {
        "id": "MhfPaTgivVvv"
      },
      "source": [
        "def mult(a, b, n):\n",
        "  if n == 1:\n",
        "    return a * b\n",
        "\n",
        "  ai = a // 10**(n//2)\n",
        "  ad = a % 10**(n//2)\n",
        "  bi = b // 10**(n//2)\n",
        "  bd = b % 10**(n//2)\n",
        "  z1 = mult(ai, bi, n//2) * 10**n\n",
        "  z2 = (mult(ai, bd, n//2) + mult(ad, bi, n//2)) * 10**(n//2)\n",
        "  z3 = mult(ad, bd, n//2)\n",
        "  \n",
        "  return z1 + z2 + z3"
      ],
      "execution_count": 5,
      "outputs": []
    },
    {
      "cell_type": "code",
      "metadata": {
        "colab": {
          "base_uri": "https://localhost:8080/"
        },
        "id": "ooOOmtX1ys9K",
        "outputId": "89d85f21-1e55-4e2f-bdea-dd655cb75c60"
      },
      "source": [
        "a = 548929495\n",
        "b = 102043934\n",
        "n = 16\n",
        "res = mult(a, b, n)\n",
        "assert res == a * b\n",
        "print(res)"
      ],
      "execution_count": 6,
      "outputs": [
        {
          "output_type": "stream",
          "text": [
            "56014925158433330\n"
          ],
          "name": "stdout"
        }
      ]
    },
    {
      "cell_type": "markdown",
      "metadata": {
        "id": "OvEzJKja5tlS"
      },
      "source": [
        "## Matrix Multiplication"
      ]
    },
    {
      "cell_type": "code",
      "metadata": {
        "id": "YGgzufRAzEHh"
      },
      "source": [
        "def matmul(a, b, c, i, ii, j, jj):\n",
        "  if i == ii:\n",
        "    temp = 0\n",
        "    for k in range(len(a)):\n",
        "      temp += a[i][k] * b[k][j]\n",
        "    c[i][j] = temp\n",
        "  else:\n",
        "    imid = (i + ii) // 2\n",
        "    jmid = (j + jj) // 2\n",
        "    matmul(a, b, c,        i, imid,        j, jmid)\n",
        "    matmul(a, b, c, imid + 1,   ii,        j, jmid)\n",
        "    matmul(a, b, c,        i, imid, jmid + 1, jj)\n",
        "    matmul(a, b, c, imid + 1,   ii, jmid + 1, jj)"
      ],
      "execution_count": 8,
      "outputs": []
    },
    {
      "cell_type": "code",
      "metadata": {
        "colab": {
          "base_uri": "https://localhost:8080/"
        },
        "id": "Bio9aH3t6CZ4",
        "outputId": "f842060c-ee71-4826-acaa-027f3df1405d"
      },
      "source": [
        "a = np.random.randint(10, size=(8, 8))\n",
        "b = np.random.randint(10, size=(8, 8))\n",
        "print(a)\n",
        "print(b)\n",
        "c = np.zeros((8, 8))\n",
        "matmul(a, b, c, 0, len(a) - 1, 0, len(a) - 1)\n",
        "assert (c == np.matmul(a, b)).all()\n",
        "print(c)"
      ],
      "execution_count": 10,
      "outputs": [
        {
          "output_type": "stream",
          "text": [
            "[[3 3 8 5 6 0 3 7]\n",
            " [3 2 1 1 4 1 3 9]\n",
            " [5 2 0 7 4 7 0 6]\n",
            " [6 8 1 2 2 7 9 6]\n",
            " [9 2 9 0 0 8 9 3]\n",
            " [2 1 7 2 5 5 0 5]\n",
            " [1 2 0 0 2 0 9 5]\n",
            " [0 4 7 4 3 2 0 3]]\n",
            "[[7 5 6 2 3 7 2 4]\n",
            " [4 7 5 1 5 6 2 2]\n",
            " [3 3 3 8 8 8 9 8]\n",
            " [4 3 1 7 8 0 4 5]\n",
            " [5 9 8 5 4 9 3 8]\n",
            " [9 7 9 6 8 9 2 7]\n",
            " [1 3 3 3 9 1 6 0]\n",
            " [5 0 7 0 6 7 2 4]]\n",
            "[[145. 138. 168. 147. 221. 209. 154. 183.]\n",
            " [113.  87. 145.  58. 140. 152.  73. 104.]\n",
            " [184. 145. 184. 123. 189. 188.  80. 164.]\n",
            " [197. 189. 229. 121. 263. 230. 131. 147.]\n",
            " [194. 169. 211. 167. 272. 249. 179. 180.]\n",
            " [142. 124. 160. 130. 173. 201. 112. 171.]\n",
            " [ 59.  64.  94.  41. 132.  81.  76.  44.]\n",
            " [101. 102. 108. 115. 154. 146. 106. 134.]]\n"
          ],
          "name": "stdout"
        }
      ]
    }
  ]
}