{
  "nbformat": 4,
  "nbformat_minor": 0,
  "metadata": {
    "colab": {
      "name": "ai_divide_n_conquer_popes.ipynb",
      "provenance": [],
      "authorship_tag": "ABX9TyMLuHs5r7NrfGn4Gu8jsKhT",
      "include_colab_link": true
    },
    "kernelspec": {
      "name": "python3",
      "display_name": "Python 3"
    },
    "language_info": {
      "name": "python"
    }
  },
  "cells": [
    {
      "cell_type": "markdown",
      "metadata": {
        "id": "view-in-github",
        "colab_type": "text"
      },
      "source": [
        "<a href=\"https://colab.research.google.com/github/lmcanavals/algorithmic_complexity/blob/main/notebooks/ai_divide_n_conquer_popes.ipynb\" target=\"_parent\"><img src=\"https://colab.research.google.com/assets/colab-badge.svg\" alt=\"Open In Colab\"/></a>"
      ]
    },
    {
      "cell_type": "markdown",
      "metadata": {
        "id": "hJjZIki0p3OW"
      },
      "source": [
        "# [957 Popes](https://onlinejudge.org/external/9/957.pdf)"
      ]
    },
    {
      "cell_type": "code",
      "metadata": {
        "colab": {
          "base_uri": "https://localhost:8080/"
        },
        "id": "InsIDydXpx3d",
        "outputId": "3f6bb98a-7eb1-497e-ecd4-d158f4db4db6"
      },
      "source": [
        "%%file 1.in\n",
        "5\n",
        "20\n",
        "1\n",
        "2\n",
        "3\n",
        "6\n",
        "8\n",
        "12\n",
        "13\n",
        "13\n",
        "15\n",
        "16\n",
        "17\n",
        "18\n",
        "19\n",
        "20\n",
        "20\n",
        "21\n",
        "25\n",
        "26\n",
        "30\n",
        "31"
      ],
      "execution_count": 3,
      "outputs": [
        {
          "output_type": "stream",
          "text": [
            "Writing 1.in\n"
          ],
          "name": "stdout"
        }
      ]
    },
    {
      "cell_type": "code",
      "metadata": {
        "id": "QK2SVK6Tp-Rj"
      },
      "source": [
        "def naiveSolve(Y, years):\n",
        "  n = len(years)\n",
        "  LargestNum = 0\n",
        "  for i, year in enumerate(years):\n",
        "    lim = year + Y\n",
        "    num = 0\n",
        "    for j in range(i, n):\n",
        "      if years[j] < lim:\n",
        "        num += 1\n",
        "      else:\n",
        "        break\n",
        "\n",
        "    if num > LargestNum:\n",
        "      LargestNum = num\n",
        "      FirstYear = year\n",
        "      LastYear = years[j-1]\n",
        "\n",
        "  return LargestNum, FirstYear, LastYear"
      ],
      "execution_count": 16,
      "outputs": []
    },
    {
      "cell_type": "code",
      "metadata": {
        "id": "ELxzVwVnwfvH"
      },
      "source": [
        "def stillNaiveSolve(Y, years, i, f):\n",
        "  n = len(years)\n",
        "  if i == f:\n",
        "    count = 0\n",
        "    lim = years[i] + Y\n",
        "    for j in range(i, n)::\n",
        "      if years[j] < lim:\n",
        "        count += 1\n",
        "      else:\n",
        "        break\n",
        "    return count, years[i], years[j - 1]\n",
        "  else:\n",
        "    m = (i + f) // 2\n",
        "    nl, fl, ll = stillNaiveSolve(Y, years, i, m)\n",
        "    nr, fr, lr = stillNaiveSolve(Y, years, m + 1, f)\n",
        "    if nr > nl:\n",
        "      return nr, fr, lr \n",
        "    else:\n",
        "      return nl, fl, ll"
      ],
      "execution_count": 26,
      "outputs": []
    },
    {
      "cell_type": "code",
      "metadata": {
        "colab": {
          "base_uri": "https://localhost:8080/"
        },
        "id": "zr2Z0Gw8rQJ7",
        "outputId": "f748384b-db6b-4bee-9dcc-2ec746c1487b"
      },
      "source": [
        "with open('1.in') as file:\n",
        "  Y = int(file.readline())\n",
        "  P = int(file.readline())\n",
        "  years = [int(file.readline()) for _ in range(P)]\n",
        "  print(*stillNaiveSolve(Y, years, 0, len(years) - 1))"
      ],
      "execution_count": 27,
      "outputs": [
        {
          "output_type": "stream",
          "text": [
            "6 16 20\n"
          ],
          "name": "stdout"
        }
      ]
    },
    {
      "cell_type": "markdown",
      "metadata": {
        "id": "x1K483XYLsfl"
      },
      "source": [
        "There are even smarter ways to do this, but that is a tale for another time."
      ]
    }
  ]
}
