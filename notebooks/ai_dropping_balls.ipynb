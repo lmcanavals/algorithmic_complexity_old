{
  "nbformat": 4,
  "nbformat_minor": 0,
  "metadata": {
    "colab": {
      "name": "ai_divide_n_conquer_dropping_balls.ipynb",
      "provenance": [],
      "authorship_tag": "ABX9TyNXT8xsGvQ2A0bPW+vjwac8",
      "include_colab_link": true
    },
    "kernelspec": {
      "name": "python3",
      "display_name": "Python 3"
    },
    "language_info": {
      "name": "python"
    }
  },
  "cells": [
    {
      "cell_type": "markdown",
      "metadata": {
        "id": "view-in-github",
        "colab_type": "text"
      },
      "source": [
        "<a href=\"https://colab.research.google.com/github/lmcanavals/algorithmic_complexity/blob/main/notebooks/ai_dropping_balls.ipynb\" target=\"_parent\"><img src=\"https://colab.research.google.com/assets/colab-badge.svg\" alt=\"Open In Colab\"/></a>"
      ]
    },
    {
      "cell_type": "markdown",
      "metadata": {
        "id": "1cf1vFWZik4I"
      },
      "source": [
        "# [679 Dropping Balls](https://onlinejudge.org/external/6/679.pdf)"
      ]
    },
    {
      "cell_type": "markdown",
      "metadata": {
        "id": "DMZifs1kivdk"
      },
      "source": [
        "## Input"
      ]
    },
    {
      "cell_type": "code",
      "metadata": {
        "colab": {
          "base_uri": "https://localhost:8080/"
        },
        "id": "i92kBO5kikDo",
        "outputId": "60399319-7562-4c2e-8b21-fe8cff03026a"
      },
      "source": [
        "%%file 1.in\n",
        "5\n",
        "4 2\n",
        "3 4\n",
        "10 1\n",
        "2 2\n",
        "8 128\n",
        "-1"
      ],
      "execution_count": null,
      "outputs": [
        {
          "output_type": "stream",
          "text": [
            "Writing 1.in\n"
          ],
          "name": "stdout"
        }
      ]
    },
    {
      "cell_type": "code",
      "metadata": {
        "id": "2R5ZRrqwjwAF"
      },
      "source": [
        "def left(n):\n",
        "  return n * 2\n",
        "\n",
        "def right(n):\n",
        "  return n * 2 + 1\n",
        "\n",
        "def solve(D, I):\n",
        "  # bruti forci\n",
        "  tree = [False]*(2**D)\n",
        "  for i in range(I):\n",
        "    n = 1\n",
        "    d = 1\n",
        "    while d < D:\n",
        "      tree[n] = not tree[n]\n",
        "      n = left(n) if tree[n] else right(n)\n",
        "      d += 1\n",
        "\n",
        "  return n  "
      ],
      "execution_count": null,
      "outputs": []
    },
    {
      "cell_type": "code",
      "metadata": {
        "colab": {
          "base_uri": "https://localhost:8080/"
        },
        "id": "S5H83UFAiyty",
        "outputId": "26eb1529-a3f5-4f20-de31-34ca72daaf2a"
      },
      "source": [
        "with open('1.in') as file:\n",
        "  l = int(file.readline())\n",
        "  for line in file:\n",
        "    D, I = map(int, line.split())\n",
        "    print(solve(D, I))\n",
        "    l -= 1\n",
        "    if l == 0:\n",
        "      break"
      ],
      "execution_count": null,
      "outputs": [
        {
          "output_type": "stream",
          "text": [
            "12\n",
            "7\n",
            "512\n",
            "3\n",
            "255\n"
          ],
          "name": "stdout"
        }
      ]
    },
    {
      "cell_type": "code",
      "metadata": {
        "colab": {
          "base_uri": "https://localhost:8080/"
        },
        "id": "yldT9yOAnoUC",
        "outputId": "c44940fd-6917-45c2-bbc7-51bb95b47463"
      },
      "source": [
        "solve(10, 10000)"
      ],
      "execution_count": null,
      "outputs": [
        {
          "output_type": "execute_result",
          "data": {
            "text/plain": [
              "993"
            ]
          },
          "metadata": {
            "tags": []
          },
          "execution_count": 21
        }
      ]
    },
    {
      "cell_type": "code",
      "metadata": {
        "colab": {
          "base_uri": "https://localhost:8080/"
        },
        "id": "lMvIGdcrjqPA",
        "outputId": "94ce418b-bd65-4596-ce45-07548edc4ccb"
      },
      "source": [
        "%timeit solve(20, 524288) # comentar el print de la función para que no se llene de output"
      ],
      "execution_count": null,
      "outputs": [
        {
          "output_type": "stream",
          "text": [
            "1048575\n",
            "1048575\n",
            "1048575\n",
            "1048575\n",
            "1048575\n",
            "1048575\n",
            "1 loop, best of 5: 3.09 s per loop\n"
          ],
          "name": "stdout"
        }
      ]
    },
    {
      "cell_type": "code",
      "metadata": {
        "colab": {
          "base_uri": "https://localhost:8080/"
        },
        "id": "iAdtw0vwmNPS",
        "outputId": "bbb20862-32ef-4b2c-96e8-4fa5f616dfd6"
      },
      "source": [
        "def foo(head, deep):\n",
        "    if deep > 1:\n",
        "        head[0] = not head[0]\n",
        "        if not head[0]:\n",
        "            if head[3] == None:\n",
        "                head[3] = [False, head[1]*2+1, None, None]\n",
        "            return foo(head[3], deep-1)\n",
        "        else:\n",
        "            if head[2] == None:\n",
        "                head[2] = [False, head[1]*2, None, None]\n",
        "            return foo(head[2], deep-1)\n",
        "    else:\n",
        "        return head[1]\n",
        "\n",
        "def resultado(D, I):\n",
        "    r = -1\n",
        "    tree = [False, 1, None, None]\n",
        "    for i in range(I):\n",
        "        r = foo(tree, D)\n",
        "    return r\n",
        "# test\n",
        "ll = [[4, 2],\n",
        "      [3, 4],\n",
        "      [10, 1],\n",
        "      [2, 2],\n",
        "      [8, 128],\n",
        "      [10, 10000]]\n",
        "\n",
        "for i in ll:\n",
        "    print(resultado(*i))"
      ],
      "execution_count": null,
      "outputs": [
        {
          "output_type": "stream",
          "text": [
            "12\n",
            "7\n",
            "512\n",
            "3\n",
            "255\n",
            "993\n"
          ],
          "name": "stdout"
        }
      ]
    },
    {
      "cell_type": "code",
      "metadata": {
        "colab": {
          "base_uri": "https://localhost:8080/"
        },
        "id": "AfPabgnWnh_K",
        "outputId": "f55cf221-1afd-4399-d0cc-a1c78f546ed2"
      },
      "source": [
        "%timeit resultado(20, 524288)"
      ],
      "execution_count": null,
      "outputs": [
        {
          "output_type": "stream",
          "text": [
            "1 loop, best of 5: 3.98 s per loop\n"
          ],
          "name": "stdout"
        }
      ]
    }
  ]
}