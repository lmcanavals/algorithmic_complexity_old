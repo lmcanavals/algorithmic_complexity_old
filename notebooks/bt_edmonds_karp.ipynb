{
  "nbformat": 4,
  "nbformat_minor": 0,
  "metadata": {
    "colab": {
      "name": "bt_edmonds_karp.ipynb",
      "provenance": [],
      "authorship_tag": "ABX9TyMdnh7IFz1iW2G4J3o3xROM",
      "include_colab_link": true
    },
    "kernelspec": {
      "name": "python3",
      "display_name": "Python 3"
    },
    "language_info": {
      "name": "python"
    }
  },
  "cells": [
    {
      "cell_type": "markdown",
      "metadata": {
        "id": "view-in-github",
        "colab_type": "text"
      },
      "source": [
        "<a href=\"https://colab.research.google.com/github/lmcanavals/algorithmic_complexity/blob/main/notebooks/bt_edmonds_karp.ipynb\" target=\"_parent\"><img src=\"https://colab.research.google.com/assets/colab-badge.svg\" alt=\"Open In Colab\"/></a>"
      ]
    },
    {
      "cell_type": "code",
      "metadata": {
        "colab": {
          "base_uri": "https://localhost:8080/"
        },
        "id": "mmHU8WqamaVD",
        "outputId": "e9f1139a-8ecf-43c2-ad78-8c54fe9dc0e3"
      },
      "source": [
        "!git clone https://github.com/lmcanavals/algorithmic_complexity.git"
      ],
      "execution_count": 1,
      "outputs": [
        {
          "output_type": "stream",
          "text": [
            "Cloning into 'algorithmic_complexity'...\n",
            "remote: Enumerating objects: 442, done.\u001b[K\n",
            "remote: Counting objects: 100% (442/442), done.\u001b[K\n",
            "remote: Compressing objects: 100% (411/411), done.\u001b[K\n",
            "remote: Total 442 (delta 248), reused 52 (delta 16), pack-reused 0\u001b[K\n",
            "Receiving objects: 100% (442/442), 512.70 KiB | 5.63 MiB/s, done.\n",
            "Resolving deltas: 100% (248/248), done.\n"
          ],
          "name": "stdout"
        }
      ]
    },
    {
      "cell_type": "code",
      "metadata": {
        "id": "rWiDhwV_mqNl"
      },
      "source": [
        "from algorithmic_complexity.aclib import graphstuff as gs\n",
        "import networkx as nx\n",
        "import numpy as np"
      ],
      "execution_count": 2,
      "outputs": []
    },
    {
      "cell_type": "code",
      "metadata": {
        "id": "gZkf-rO5mx50"
      },
      "source": [
        "def bfs(G, s, t):\n",
        "  n = len(G)\n",
        "  visited = [False]*n\n",
        "  path = [-1]*n\n",
        "  q = [s]\n",
        "  visited[s] = True\n",
        "  while q:\n",
        "    u = q[0]\n",
        "    if u == t:\n",
        "      break\n",
        "    q = q[1:]\n",
        "    for v in range(n):\n",
        "      if G[u][v] > 0 and not visited[v]:\n",
        "        visited[v] = True\n",
        "        path[v] = u\n",
        "        q.append(v)\n",
        "    \n",
        "  if path[t] == -1:\n",
        "    return None, 0\n",
        "\n",
        "  bottleneck = np.Inf\n",
        "  cpath = []\n",
        "  while t != -1:\n",
        "    cpath = [t] + cpath\n",
        "    if path[t] > -1:\n",
        "      bottleneck = bottleneck if bottleneck < G[path[t], t] else G[path[t], t]\n",
        "    t = path[t]\n",
        " \n",
        "  return cpath, bottleneck"
      ],
      "execution_count": 19,
      "outputs": []
    },
    {
      "cell_type": "code",
      "metadata": {
        "id": "IvSamUlwtFPk"
      },
      "source": [
        "def edmondsKarp(G, s, t):\n",
        "  n = len(G)\n",
        "  Gres = G.copy()\n",
        "  Gflow = np.zeros((n, n))\n",
        "  \n",
        "  while True:\n",
        "    path, bottleneck = bfs(Gres, s, t)\n",
        "    if path != None:\n",
        "      for i in range(1, len(path)):\n",
        "        u = path[i - 1]\n",
        "        v = path[i]\n",
        "        Gres[u][v] -= bottleneck\n",
        "        Gres[v][u] += bottleneck\n",
        "        Gflow[u][v] = Gflow[u][v] - Gflow[v][u] + bottleneck\n",
        "    else:\n",
        "      break\n",
        "\n",
        "  return Gflow, np.sum(Gflow[s])"
      ],
      "execution_count": 15,
      "outputs": []
    },
    {
      "cell_type": "markdown",
      "metadata": {
        "id": "8TEfn9ejoZ6q"
      },
      "source": [
        "Node | Number\n",
        "-- | --\n",
        "S | 0\n",
        "a | 1\n",
        "b | 2\n",
        "c | 3\n",
        "d | 4\n",
        "t | 5"
      ]
    },
    {
      "cell_type": "code",
      "metadata": {
        "colab": {
          "base_uri": "https://localhost:8080/"
        },
        "id": "b61_7vU8oP7s",
        "outputId": "e3e635ea-3c0a-4d52-ab52-d0d4f7bf2332"
      },
      "source": [
        "%%file 1.adjmatrix\n",
        "0 16  0 13  0  0\n",
        "0  0 12 10  0  0\n",
        "0  0  0  9  0 20\n",
        "0  4  0  0 14  0\n",
        "0  0  7  0  0  4 \n",
        "0  0  0  0  0  0"
      ],
      "execution_count": 5,
      "outputs": [
        {
          "output_type": "stream",
          "text": [
            "Writing 1.adjmatrix\n"
          ],
          "name": "stdout"
        }
      ]
    },
    {
      "cell_type": "code",
      "metadata": {
        "colab": {
          "base_uri": "https://localhost:8080/"
        },
        "id": "XKfHyM-fpbFU",
        "outputId": "318939cb-af1f-4054-e08d-36a7a72acfa1"
      },
      "source": [
        "G = np.fromfile(\"1.adjmatrix\", sep=\" \").reshape((6, 6))\n",
        "G"
      ],
      "execution_count": 6,
      "outputs": [
        {
          "output_type": "execute_result",
          "data": {
            "text/plain": [
              "array([[ 0., 16.,  0., 13.,  0.,  0.],\n",
              "       [ 0.,  0., 12., 10.,  0.,  0.],\n",
              "       [ 0.,  0.,  0.,  9.,  0., 20.],\n",
              "       [ 0.,  4.,  0.,  0., 14.,  0.],\n",
              "       [ 0.,  0.,  7.,  0.,  0.,  4.],\n",
              "       [ 0.,  0.,  0.,  0.,  0.,  0.]])"
            ]
          },
          "metadata": {
            "tags": []
          },
          "execution_count": 6
        }
      ]
    },
    {
      "cell_type": "code",
      "metadata": {
        "colab": {
          "base_uri": "https://localhost:8080/",
          "height": 209
        },
        "id": "JJh0qv0mpniL",
        "outputId": "6420b908-530f-425a-84f0-26b3bae309a5"
      },
      "source": [
        "Gnx = nx.from_numpy_matrix(G, create_using=nx.DiGraph)\n",
        "gs.nx2gv(Gnx, weighted=True)"
      ],
      "execution_count": 7,
      "outputs": [
        {
          "output_type": "execute_result",
          "data": {
            "text/plain": [
              "<graphviz.dot.Digraph at 0x7fabb6d2c6d0>"
            ],
            "image/svg+xml": "<?xml version=\"1.0\" encoding=\"UTF-8\" standalone=\"no\"?>\n<!DOCTYPE svg PUBLIC \"-//W3C//DTD SVG 1.1//EN\"\n \"http://www.w3.org/Graphics/SVG/1.1/DTD/svg11.dtd\">\n<!-- Generated by graphviz version 2.40.1 (20161225.0304)\n -->\n<!-- Title: G Pages: 1 -->\n<svg width=\"432pt\" height=\"142pt\"\n viewBox=\"0.00 0.00 432.00 142.40\" xmlns=\"http://www.w3.org/2000/svg\" xmlns:xlink=\"http://www.w3.org/1999/xlink\">\n<g id=\"graph0\" class=\"graph\" transform=\"scale(.6846 .6846) rotate(0) translate(4 204)\">\n<title>G</title>\n<polygon fill=\"#ffffff\" stroke=\"transparent\" points=\"-4,4 -4,-204 627,-204 627,4 -4,4\"/>\n<!-- 0 -->\n<g id=\"node1\" class=\"node\">\n<title>0</title>\n<ellipse fill=\"none\" stroke=\"#000000\" cx=\"27\" cy=\"-182\" rx=\"27\" ry=\"18\"/>\n<text text-anchor=\"middle\" x=\"27\" y=\"-178.3\" font-family=\"Times,serif\" font-size=\"14.00\" fill=\"#000000\">0</text>\n</g>\n<!-- 1 -->\n<g id=\"node2\" class=\"node\">\n<title>1</title>\n<ellipse fill=\"none\" stroke=\"#000000\" cx=\"144\" cy=\"-135\" rx=\"27\" ry=\"18\"/>\n<text text-anchor=\"middle\" x=\"144\" y=\"-131.3\" font-family=\"Times,serif\" font-size=\"14.00\" fill=\"#000000\">1</text>\n</g>\n<!-- 0&#45;&gt;1 -->\n<g id=\"edge1\" class=\"edge\">\n<title>0&#45;&gt;1</title>\n<path fill=\"none\" stroke=\"#000000\" d=\"M50.3955,-172.6018C67.8523,-165.5892 91.9271,-155.9182 111.2895,-148.1401\"/>\n<polygon fill=\"#000000\" stroke=\"#000000\" points=\"112.6704,-151.3573 120.6451,-144.3819 110.0611,-144.8618 112.6704,-151.3573\"/>\n<text text-anchor=\"middle\" x=\"85.5\" y=\"-165.8\" font-family=\"Times,serif\" font-size=\"14.00\" fill=\"#000000\">16.0</text>\n</g>\n<!-- 3 -->\n<g id=\"node4\" class=\"node\">\n<title>3</title>\n<ellipse fill=\"none\" stroke=\"#000000\" cx=\"370\" cy=\"-111\" rx=\"27\" ry=\"18\"/>\n<text text-anchor=\"middle\" x=\"370\" y=\"-107.3\" font-family=\"Times,serif\" font-size=\"14.00\" fill=\"#000000\">3</text>\n</g>\n<!-- 0&#45;&gt;3 -->\n<g id=\"edge2\" class=\"edge\">\n<title>0&#45;&gt;3</title>\n<path fill=\"none\" stroke=\"#000000\" d=\"M54.0479,-182.4419C67.5681,-182.4551 84.1687,-182.1576 99,-181 183.5955,-174.3973 205.8233,-175.142 288,-154 305.0278,-149.6192 309.3011,-147.9172 325,-140 330.8817,-137.0338 336.9558,-133.4872 342.665,-129.9089\"/>\n<polygon fill=\"#000000\" stroke=\"#000000\" points=\"344.7695,-132.7157 351.2561,-124.3387 340.9613,-126.8422 344.7695,-132.7157\"/>\n<text text-anchor=\"middle\" x=\"202.5\" y=\"-176.8\" font-family=\"Times,serif\" font-size=\"14.00\" fill=\"#000000\">13.0</text>\n</g>\n<!-- 2 -->\n<g id=\"node3\" class=\"node\">\n<title>2</title>\n<ellipse fill=\"none\" stroke=\"#000000\" cx=\"261\" cy=\"-53\" rx=\"27\" ry=\"18\"/>\n<text text-anchor=\"middle\" x=\"261\" y=\"-49.3\" font-family=\"Times,serif\" font-size=\"14.00\" fill=\"#000000\">2</text>\n</g>\n<!-- 1&#45;&gt;2 -->\n<g id=\"edge3\" class=\"edge\">\n<title>1&#45;&gt;2</title>\n<path fill=\"none\" stroke=\"#000000\" d=\"M154.903,-118.305C163.121,-106.8098 175.2944,-91.8858 189,-82 200.1249,-73.9757 213.786,-67.7477 226.2075,-63.1562\"/>\n<polygon fill=\"#000000\" stroke=\"#000000\" points=\"227.5284,-66.4027 235.8315,-59.8217 225.2367,-59.7885 227.5284,-66.4027\"/>\n<text text-anchor=\"middle\" x=\"202.5\" y=\"-85.8\" font-family=\"Times,serif\" font-size=\"14.00\" fill=\"#000000\">12.0</text>\n</g>\n<!-- 1&#45;&gt;3 -->\n<g id=\"edge4\" class=\"edge\">\n<title>1&#45;&gt;3</title>\n<path fill=\"none\" stroke=\"#000000\" d=\"M171.0509,-136.2157C206.7614,-137.2079 271.3816,-136.8759 325,-125 328.6496,-124.1916 332.4299,-123.2259 336.1778,-122.1847\"/>\n<polygon fill=\"#000000\" stroke=\"#000000\" points=\"337.3133,-125.4989 345.9117,-119.3087 335.3297,-118.7858 337.3133,-125.4989\"/>\n<text text-anchor=\"middle\" x=\"261\" y=\"-138.8\" font-family=\"Times,serif\" font-size=\"14.00\" fill=\"#000000\">10.0</text>\n</g>\n<!-- 2&#45;&gt;3 -->\n<g id=\"edge5\" class=\"edge\">\n<title>2&#45;&gt;3</title>\n<path fill=\"none\" stroke=\"#000000\" d=\"M284.2058,-62.5355C296.536,-67.8452 311.825,-74.8203 325,-82 330.7842,-85.1521 336.8148,-88.7816 342.5121,-92.3827\"/>\n<polygon fill=\"#000000\" stroke=\"#000000\" points=\"340.8103,-95.4503 351.1072,-97.9453 344.6136,-89.5737 340.8103,-95.4503\"/>\n<text text-anchor=\"middle\" x=\"315.5\" y=\"-85.8\" font-family=\"Times,serif\" font-size=\"14.00\" fill=\"#000000\">9.0</text>\n</g>\n<!-- 5 -->\n<g id=\"node6\" class=\"node\">\n<title>5</title>\n<ellipse fill=\"none\" stroke=\"#000000\" cx=\"596\" cy=\"-18\" rx=\"27\" ry=\"18\"/>\n<text text-anchor=\"middle\" x=\"596\" y=\"-14.3\" font-family=\"Times,serif\" font-size=\"14.00\" fill=\"#000000\">5</text>\n</g>\n<!-- 2&#45;&gt;5 -->\n<g id=\"edge6\" class=\"edge\">\n<title>2&#45;&gt;5</title>\n<path fill=\"none\" stroke=\"#000000\" d=\"M286.9329,-47.6601C324.7781,-40.1345 397.447,-26.6921 460,-21 493.2215,-17.9769 531.186,-17.3766 558.5456,-17.4457\"/>\n<polygon fill=\"#000000\" stroke=\"#000000\" points=\"558.8247,-20.9473 568.8445,-17.5046 558.8647,-13.9474 558.8247,-20.9473\"/>\n<text text-anchor=\"middle\" x=\"428.5\" y=\"-30.8\" font-family=\"Times,serif\" font-size=\"14.00\" fill=\"#000000\">20.0</text>\n</g>\n<!-- 3&#45;&gt;1 -->\n<g id=\"edge7\" class=\"edge\">\n<title>3&#45;&gt;1</title>\n<path fill=\"none\" stroke=\"#000000\" d=\"M343.0325,-109.2818C315.498,-107.9759 271.5831,-107.1332 234,-112 215.325,-114.4183 194.9621,-119.4155 178.3364,-124.1359\"/>\n<polygon fill=\"#000000\" stroke=\"#000000\" points=\"177.128,-120.8428 168.5159,-127.0138 179.0966,-127.5603 177.128,-120.8428\"/>\n<text text-anchor=\"middle\" x=\"261\" y=\"-115.8\" font-family=\"Times,serif\" font-size=\"14.00\" fill=\"#000000\">4.0</text>\n</g>\n<!-- 4 -->\n<g id=\"node5\" class=\"node\">\n<title>4</title>\n<ellipse fill=\"none\" stroke=\"#000000\" cx=\"487\" cy=\"-48\" rx=\"27\" ry=\"18\"/>\n<text text-anchor=\"middle\" x=\"487\" y=\"-44.3\" font-family=\"Times,serif\" font-size=\"14.00\" fill=\"#000000\">4</text>\n</g>\n<!-- 3&#45;&gt;4 -->\n<g id=\"edge8\" class=\"edge\">\n<title>3&#45;&gt;4</title>\n<path fill=\"none\" stroke=\"#000000\" d=\"M391.1878,-99.5912C409.5759,-89.6899 436.4053,-75.2433 456.9992,-64.1543\"/>\n<polygon fill=\"#000000\" stroke=\"#000000\" points=\"458.8245,-67.1467 465.9698,-59.3239 455.5057,-60.9833 458.8245,-67.1467\"/>\n<text text-anchor=\"middle\" x=\"428.5\" y=\"-88.8\" font-family=\"Times,serif\" font-size=\"14.00\" fill=\"#000000\">14.0</text>\n</g>\n<!-- 4&#45;&gt;2 -->\n<g id=\"edge9\" class=\"edge\">\n<title>4&#45;&gt;2</title>\n<path fill=\"none\" stroke=\"#000000\" d=\"M459.9942,-48.5975C419.7361,-49.4881 343.8542,-51.1669 298.3183,-52.1744\"/>\n<polygon fill=\"#000000\" stroke=\"#000000\" points=\"298.181,-48.6765 288.2609,-52.3969 298.3359,-55.6747 298.181,-48.6765\"/>\n<text text-anchor=\"middle\" x=\"370\" y=\"-55.8\" font-family=\"Times,serif\" font-size=\"14.00\" fill=\"#000000\">7.0</text>\n</g>\n<!-- 4&#45;&gt;5 -->\n<g id=\"edge10\" class=\"edge\">\n<title>4&#45;&gt;5</title>\n<path fill=\"none\" stroke=\"#000000\" d=\"M512.0068,-41.1174C526.4433,-37.1441 544.8307,-32.0833 560.7188,-27.7104\"/>\n<polygon fill=\"#000000\" stroke=\"#000000\" points=\"562.0194,-30.9827 570.7321,-24.9545 560.1618,-24.2336 562.0194,-30.9827\"/>\n<text text-anchor=\"middle\" x=\"541.5\" y=\"-38.8\" font-family=\"Times,serif\" font-size=\"14.00\" fill=\"#000000\">4.0</text>\n</g>\n</g>\n</svg>\n"
          },
          "metadata": {
            "tags": []
          },
          "execution_count": 7
        }
      ]
    },
    {
      "cell_type": "code",
      "metadata": {
        "colab": {
          "base_uri": "https://localhost:8080/"
        },
        "id": "1ahyTikYpzBe",
        "outputId": "f984b3ce-ab53-42df-9ea2-0c7b686f92e0"
      },
      "source": [
        "bfs(G, 0, 5)"
      ],
      "execution_count": 8,
      "outputs": [
        {
          "output_type": "execute_result",
          "data": {
            "text/plain": [
              "([0, 1, 2, 5], 12.0)"
            ]
          },
          "metadata": {
            "tags": []
          },
          "execution_count": 8
        }
      ]
    },
    {
      "cell_type": "code",
      "metadata": {
        "colab": {
          "base_uri": "https://localhost:8080/",
          "height": 139
        },
        "id": "JSQ8KJBcqRW1",
        "outputId": "6fc96cbc-0ed6-4b04-d0f4-4853a69d8bc9"
      },
      "source": [
        "Gf, fm = edmondsKarp(G, 0, 5)\n",
        "print(fm)\n",
        "Gnx = nx.from_numpy_matrix(Gf, create_using=nx.DiGraph)\n",
        "gs.nx2gv(Gnx, weighted=True)"
      ],
      "execution_count": 20,
      "outputs": [
        {
          "output_type": "stream",
          "text": [
            "23.0\n"
          ],
          "name": "stdout"
        },
        {
          "output_type": "execute_result",
          "data": {
            "text/plain": [
              "<graphviz.dot.Digraph at 0x7fabb26a1cd0>"
            ],
            "image/svg+xml": "<?xml version=\"1.0\" encoding=\"UTF-8\" standalone=\"no\"?>\n<!DOCTYPE svg PUBLIC \"-//W3C//DTD SVG 1.1//EN\"\n \"http://www.w3.org/Graphics/SVG/1.1/DTD/svg11.dtd\">\n<!-- Generated by graphviz version 2.40.1 (20161225.0304)\n -->\n<!-- Title: G Pages: 1 -->\n<svg width=\"432pt\" height=\"76pt\"\n viewBox=\"0.00 0.00 432.00 76.33\" xmlns=\"http://www.w3.org/2000/svg\" xmlns:xlink=\"http://www.w3.org/1999/xlink\">\n<g id=\"graph0\" class=\"graph\" transform=\"scale(.7869 .7869) rotate(0) translate(4 93)\">\n<title>G</title>\n<polygon fill=\"#ffffff\" stroke=\"transparent\" points=\"-4,4 -4,-93 545,-93 545,4 -4,4\"/>\n<!-- 0 -->\n<g id=\"node1\" class=\"node\">\n<title>0</title>\n<ellipse fill=\"none\" stroke=\"#000000\" cx=\"27\" cy=\"-47\" rx=\"27\" ry=\"18\"/>\n<text text-anchor=\"middle\" x=\"27\" y=\"-43.3\" font-family=\"Times,serif\" font-size=\"14.00\" fill=\"#000000\">0</text>\n</g>\n<!-- 1 -->\n<g id=\"node2\" class=\"node\">\n<title>1</title>\n<ellipse fill=\"none\" stroke=\"#000000\" cx=\"216\" cy=\"-71\" rx=\"27\" ry=\"18\"/>\n<text text-anchor=\"middle\" x=\"216\" y=\"-67.3\" font-family=\"Times,serif\" font-size=\"14.00\" fill=\"#000000\">1</text>\n</g>\n<!-- 0&#45;&gt;1 -->\n<g id=\"edge1\" class=\"edge\">\n<title>0&#45;&gt;1</title>\n<path fill=\"none\" stroke=\"#000000\" d=\"M53.6782,-50.3877C86.4628,-54.5508 142.2655,-61.6369 179.1334,-66.3185\"/>\n<polygon fill=\"#000000\" stroke=\"#000000\" points=\"179.0962,-69.8418 189.4575,-67.6295 179.9781,-62.8976 179.0962,-69.8418\"/>\n<text text-anchor=\"middle\" x=\"85.5\" y=\"-58.8\" font-family=\"Times,serif\" font-size=\"14.00\" fill=\"#000000\">12.0</text>\n</g>\n<!-- 3 -->\n<g id=\"node4\" class=\"node\">\n<title>3</title>\n<ellipse fill=\"none\" stroke=\"#000000\" cx=\"144\" cy=\"-24\" rx=\"27\" ry=\"18\"/>\n<text text-anchor=\"middle\" x=\"144\" y=\"-20.3\" font-family=\"Times,serif\" font-size=\"14.00\" fill=\"#000000\">3</text>\n</g>\n<!-- 0&#45;&gt;3 -->\n<g id=\"edge2\" class=\"edge\">\n<title>0&#45;&gt;3</title>\n<path fill=\"none\" stroke=\"#000000\" d=\"M51.0784,-38.646C57.7875,-36.5554 65.1226,-34.4874 72,-33 83.3122,-30.5535 95.7784,-28.7039 107.1133,-27.3378\"/>\n<polygon fill=\"#000000\" stroke=\"#000000\" points=\"107.5905,-30.8063 117.1392,-26.2159 106.812,-23.8497 107.5905,-30.8063\"/>\n<text text-anchor=\"middle\" x=\"85.5\" y=\"-36.8\" font-family=\"Times,serif\" font-size=\"14.00\" fill=\"#000000\">11.0</text>\n</g>\n<!-- 2 -->\n<g id=\"node3\" class=\"node\">\n<title>2</title>\n<ellipse fill=\"none\" stroke=\"#000000\" cx=\"397\" cy=\"-60\" rx=\"27\" ry=\"18\"/>\n<text text-anchor=\"middle\" x=\"397\" y=\"-56.3\" font-family=\"Times,serif\" font-size=\"14.00\" fill=\"#000000\">2</text>\n</g>\n<!-- 1&#45;&gt;2 -->\n<g id=\"edge3\" class=\"edge\">\n<title>1&#45;&gt;2</title>\n<path fill=\"none\" stroke=\"#000000\" d=\"M243.0975,-69.3532C274.1101,-67.4684 325.0849,-64.3705 359.8013,-62.2607\"/>\n<polygon fill=\"#000000\" stroke=\"#000000\" points=\"360.244,-65.7403 370.0132,-61.6401 359.8193,-58.7532 360.244,-65.7403\"/>\n<text text-anchor=\"middle\" x=\"288\" y=\"-71.8\" font-family=\"Times,serif\" font-size=\"14.00\" fill=\"#000000\">12.0</text>\n</g>\n<!-- 5 -->\n<g id=\"node6\" class=\"node\">\n<title>5</title>\n<ellipse fill=\"none\" stroke=\"#000000\" cx=\"514\" cy=\"-25\" rx=\"27\" ry=\"18\"/>\n<text text-anchor=\"middle\" x=\"514\" y=\"-21.3\" font-family=\"Times,serif\" font-size=\"14.00\" fill=\"#000000\">5</text>\n</g>\n<!-- 2&#45;&gt;5 -->\n<g id=\"edge4\" class=\"edge\">\n<title>2&#45;&gt;5</title>\n<path fill=\"none\" stroke=\"#000000\" d=\"M421.8127,-52.5774C438.5656,-47.5658 460.9098,-40.8817 479.4044,-35.3491\"/>\n<polygon fill=\"#000000\" stroke=\"#000000\" points=\"480.6457,-38.6311 489.2231,-32.4119 478.6394,-31.9248 480.6457,-38.6311\"/>\n<text text-anchor=\"middle\" x=\"455.5\" y=\"-48.8\" font-family=\"Times,serif\" font-size=\"14.00\" fill=\"#000000\">19.0</text>\n</g>\n<!-- 4 -->\n<g id=\"node5\" class=\"node\">\n<title>4</title>\n<ellipse fill=\"none\" stroke=\"#000000\" cx=\"288\" cy=\"-18\" rx=\"27\" ry=\"18\"/>\n<text text-anchor=\"middle\" x=\"288\" y=\"-14.3\" font-family=\"Times,serif\" font-size=\"14.00\" fill=\"#000000\">4</text>\n</g>\n<!-- 3&#45;&gt;4 -->\n<g id=\"edge5\" class=\"edge\">\n<title>3&#45;&gt;4</title>\n<path fill=\"none\" stroke=\"#000000\" d=\"M171.0853,-22.8714C193.6121,-21.9328 225.9055,-20.5873 250.847,-19.548\"/>\n<polygon fill=\"#000000\" stroke=\"#000000\" points=\"251.1906,-23.0369 261.0362,-19.1235 250.8991,-16.0429 251.1906,-23.0369\"/>\n<text text-anchor=\"middle\" x=\"216\" y=\"-26.8\" font-family=\"Times,serif\" font-size=\"14.00\" fill=\"#000000\">11.0</text>\n</g>\n<!-- 4&#45;&gt;2 -->\n<g id=\"edge6\" class=\"edge\">\n<title>4&#45;&gt;2</title>\n<path fill=\"none\" stroke=\"#000000\" d=\"M311.3832,-27.0101C326.6523,-32.8936 346.822,-40.6654 363.7491,-47.1877\"/>\n<polygon fill=\"#000000\" stroke=\"#000000\" points=\"362.6896,-50.5303 373.2793,-50.8599 365.2065,-43.9984 362.6896,-50.5303\"/>\n<text text-anchor=\"middle\" x=\"342.5\" y=\"-44.8\" font-family=\"Times,serif\" font-size=\"14.00\" fill=\"#000000\">7.0</text>\n</g>\n<!-- 4&#45;&gt;5 -->\n<g id=\"edge7\" class=\"edge\">\n<title>4&#45;&gt;5</title>\n<path fill=\"none\" stroke=\"#000000\" d=\"M315.1058,-17.3816C342.563,-16.9006 386.2507,-16.5342 424,-18 441.4711,-18.6784 460.807,-20.0949 477.0643,-21.4774\"/>\n<polygon fill=\"#000000\" stroke=\"#000000\" points=\"476.9845,-24.9838 487.2525,-22.3728 477.5974,-18.0107 476.9845,-24.9838\"/>\n<text text-anchor=\"middle\" x=\"397\" y=\"-21.8\" font-family=\"Times,serif\" font-size=\"14.00\" fill=\"#000000\">4.0</text>\n</g>\n</g>\n</svg>\n"
          },
          "metadata": {
            "tags": []
          },
          "execution_count": 20
        }
      ]
    },
    {
      "cell_type": "code",
      "metadata": {
        "id": "xwF3X-otvHGM"
      },
      "source": [
        ""
      ],
      "execution_count": null,
      "outputs": []
    }
  ]
}