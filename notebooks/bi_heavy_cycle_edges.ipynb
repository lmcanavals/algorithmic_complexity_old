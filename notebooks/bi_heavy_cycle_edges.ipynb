{
  "nbformat": 4,
  "nbformat_minor": 0,
  "metadata": {
    "colab": {
      "name": "bi_heavy_cycle_edges.ipynb",
      "provenance": [],
      "collapsed_sections": [],
      "authorship_tag": "ABX9TyOkPA/8ZQXJnr5T3v97sMdj",
      "include_colab_link": true
    },
    "kernelspec": {
      "name": "python3",
      "display_name": "Python 3"
    },
    "language_info": {
      "name": "python"
    }
  },
  "cells": [
    {
      "cell_type": "markdown",
      "metadata": {
        "id": "view-in-github",
        "colab_type": "text"
      },
      "source": [
        "<a href=\"https://colab.research.google.com/github/lmcanavals/algorithmic_complexity/blob/main/bi_heavy_cycle_edges.ipynb\" target=\"_parent\"><img src=\"https://colab.research.google.com/assets/colab-badge.svg\" alt=\"Open In Colab\"/></a>"
      ]
    },
    {
      "cell_type": "markdown",
      "metadata": {
        "id": "VeKFRCR1We2z"
      },
      "source": [
        "# [11747 Heavy Cycle Edges](https://onlinejudge.org/external/117/11747.pdf)"
      ]
    },
    {
      "cell_type": "code",
      "metadata": {
        "colab": {
          "base_uri": "https://localhost:8080/"
        },
        "id": "gXcuesncW0LK",
        "outputId": "47dee0db-cf04-4f8c-dcb4-a4aee1e6bd3d"
      },
      "source": [
        "!git clone https://github.com/lmcanavals/algorithmic_complexity.git"
      ],
      "execution_count": 1,
      "outputs": [
        {
          "output_type": "stream",
          "text": [
            "Cloning into 'algorithmic_complexity'...\n",
            "remote: Enumerating objects: 328, done.\u001b[K\n",
            "remote: Counting objects: 100% (328/328), done.\u001b[K\n",
            "remote: Compressing objects: 100% (323/323), done.\u001b[K\n",
            "remote: Total 328 (delta 193), reused 0 (delta 0), pack-reused 0\u001b[K\n",
            "Receiving objects: 100% (328/328), 314.67 KiB | 5.16 MiB/s, done.\n",
            "Resolving deltas: 100% (193/193), done.\n"
          ],
          "name": "stdout"
        }
      ]
    },
    {
      "cell_type": "code",
      "metadata": {
        "id": "_iBR6Uj3Wc2F"
      },
      "source": [
        "from algorithmic_complexity.aclib.ds import DisjointSet\n",
        "from algorithmic_complexity.aclib.graphstuff import nx2gv\n",
        "import networkx as nx\n",
        "import math\n",
        "from heapq import heappush as push, heappop as pop"
      ],
      "execution_count": 2,
      "outputs": []
    },
    {
      "cell_type": "code",
      "metadata": {
        "id": "el6auPYgWu7M"
      },
      "source": [
        "def solve(G):\n",
        "  n = G.number_of_nodes()\n",
        "  ds = DisjointSet(n)\n",
        "\n",
        "  edges = []\n",
        "  for u, v in G.edges:\n",
        "    w = G.edges[u, v]['weight']\n",
        "    push(edges, (w, u, v))\n",
        "\n",
        "  bigedges = []\n",
        "  while edges:\n",
        "    w, u, v = pop(edges)\n",
        "    if not ds.isSameSet(u, v):\n",
        "      ds.union(u, v)\n",
        "    else:\n",
        "      push(bigedges, w)\n",
        "\n",
        "  return bigedges"
      ],
      "execution_count": 3,
      "outputs": []
    },
    {
      "cell_type": "code",
      "metadata": {
        "colab": {
          "base_uri": "https://localhost:8080/"
        },
        "id": "qYy28ra0XQsL",
        "outputId": "238db7a2-e344-4170-e900-4edf33e5da68"
      },
      "source": [
        "%%file 1.in\n",
        "3 3\n",
        "0 1 1\n",
        "1 2 2\n",
        "2 0 3\n",
        "4 5\n",
        "0 1 1\n",
        "1 2 2\n",
        "2 3 3\n",
        "3 1 4\n",
        "0 2 0\n",
        "3 1\n",
        "0 1 1\n",
        "0 0"
      ],
      "execution_count": 4,
      "outputs": [
        {
          "output_type": "stream",
          "text": [
            "Writing 1.in\n"
          ],
          "name": "stdout"
        }
      ]
    },
    {
      "cell_type": "code",
      "metadata": {
        "colab": {
          "base_uri": "https://localhost:8080/"
        },
        "id": "i_CuSZ2tXcCw",
        "outputId": "1c7624e0-348b-48e5-e956-ac658d5b07d8"
      },
      "source": [
        "with open('1.in') as file:\n",
        "  while True:\n",
        "    n, m = list(map(int, file.readline().split()))\n",
        "    if m == 0:\n",
        "      break\n",
        "\n",
        "    G = nx.Graph()\n",
        "    for u in range(n):\n",
        "      G.add_node(u)\n",
        "    \n",
        "    for _ in range(m):\n",
        "      u, v, w = list(map(int, file.readline().split()))\n",
        "      G.add_edge(u, v, weight=w)\n",
        "\n",
        "    res = solve(G)\n",
        "    if res:\n",
        "      while res:\n",
        "        w = pop(res)\n",
        "        print(w, end=' ')\n",
        "    else:\n",
        "      print(\"forest\", end=' ')\n",
        "    print()"
      ],
      "execution_count": 5,
      "outputs": [
        {
          "output_type": "stream",
          "text": [
            "3 \n",
            "2 4 \n",
            "forest \n"
          ],
          "name": "stdout"
        }
      ]
    },
    {
      "cell_type": "code",
      "metadata": {
        "id": "BwtAXSudYV_r"
      },
      "source": [
        ""
      ],
      "execution_count": null,
      "outputs": []
    }
  ]
}