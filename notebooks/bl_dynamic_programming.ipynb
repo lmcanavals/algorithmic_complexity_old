{
  "nbformat": 4,
  "nbformat_minor": 0,
  "metadata": {
    "colab": {
      "name": "bl_dynamic_programming.ipynb",
      "provenance": [],
      "authorship_tag": "ABX9TyMek7Wpmvh4c07tic1BjVdJ",
      "include_colab_link": true
    },
    "kernelspec": {
      "name": "python3",
      "display_name": "Python 3"
    },
    "language_info": {
      "name": "python"
    }
  },
  "cells": [
    {
      "cell_type": "markdown",
      "metadata": {
        "id": "view-in-github",
        "colab_type": "text"
      },
      "source": [
        "<a href=\"https://colab.research.google.com/github/lmcanavals/algorithmic_complexity/blob/main/notebook/bl_dynamic_programming.ipynb\" target=\"_parent\"><img src=\"https://colab.research.google.com/assets/colab-badge.svg\" alt=\"Open In Colab\"/></a>"
      ]
    },
    {
      "cell_type": "markdown",
      "metadata": {
        "id": "zDZGM_IrMNaV"
      },
      "source": [
        "# Dynamic Programming"
      ]
    },
    {
      "cell_type": "markdown",
      "metadata": {
        "id": "Sg69e9jTMRX2"
      },
      "source": [
        "## Fibonacci"
      ]
    },
    {
      "cell_type": "markdown",
      "metadata": {
        "id": "SOG-fZqNMU_3"
      },
      "source": [
        "### Ideal"
      ]
    },
    {
      "cell_type": "code",
      "metadata": {
        "id": "qCMN07EEMHpB"
      },
      "source": [
        "def fibo(n):\n",
        "  t1, t2 = 0, 1\n",
        "  for _ in range(n):\n",
        "    t1, t2 = t2, t1 + t2\n",
        "  return t1"
      ],
      "execution_count": 1,
      "outputs": []
    },
    {
      "cell_type": "code",
      "metadata": {
        "colab": {
          "base_uri": "https://localhost:8080/"
        },
        "id": "NbHBzIkZMji9",
        "outputId": "b459262f-91ca-4331-e760-21cee877ea58"
      },
      "source": [
        "fibo(10)"
      ],
      "execution_count": 2,
      "outputs": [
        {
          "output_type": "execute_result",
          "data": {
            "text/plain": [
              "55"
            ]
          },
          "metadata": {
            "tags": []
          },
          "execution_count": 2
        }
      ]
    },
    {
      "cell_type": "code",
      "metadata": {
        "colab": {
          "base_uri": "https://localhost:8080/"
        },
        "id": "OxRlVkchMkdr",
        "outputId": "3dbee1b4-e709-40eb-dea2-253890f96d18"
      },
      "source": [
        "%timeit fibo(15)"
      ],
      "execution_count": 3,
      "outputs": [
        {
          "output_type": "stream",
          "text": [
            "1000000 loops, best of 5: 1.07 µs per loop\n"
          ],
          "name": "stdout"
        }
      ]
    },
    {
      "cell_type": "markdown",
      "metadata": {
        "id": "38x2sje1Mp85"
      },
      "source": [
        "### Naive Recursive"
      ]
    },
    {
      "cell_type": "code",
      "metadata": {
        "id": "bZoQUi8AMnyX"
      },
      "source": [
        "def naiveFibo(n):\n",
        "  if n < 2:\n",
        "    return n\n",
        "  else:\n",
        "    return naiveFibo(n-1) + naiveFibo(n-2)"
      ],
      "execution_count": 4,
      "outputs": []
    },
    {
      "cell_type": "code",
      "metadata": {
        "colab": {
          "base_uri": "https://localhost:8080/"
        },
        "id": "7F9_YqNhM4kF",
        "outputId": "5ad7521a-5d63-4592-d9a7-9f806a6bd3f8"
      },
      "source": [
        "naiveFibo(10)"
      ],
      "execution_count": 5,
      "outputs": [
        {
          "output_type": "execute_result",
          "data": {
            "text/plain": [
              "55"
            ]
          },
          "metadata": {
            "tags": []
          },
          "execution_count": 5
        }
      ]
    },
    {
      "cell_type": "code",
      "metadata": {
        "colab": {
          "base_uri": "https://localhost:8080/"
        },
        "id": "0wq4IpkiM6QH",
        "outputId": "f40c80dc-5eab-4413-d9b3-f89813e7d126"
      },
      "source": [
        "%timeit naiveFibo(15)"
      ],
      "execution_count": 6,
      "outputs": [
        {
          "output_type": "stream",
          "text": [
            "1000 loops, best of 5: 241 µs per loop\n"
          ],
          "name": "stdout"
        }
      ]
    },
    {
      "cell_type": "markdown",
      "metadata": {
        "id": "f8Z6SnnYNCJt"
      },
      "source": [
        "### DP Solution"
      ]
    },
    {
      "cell_type": "code",
      "metadata": {
        "id": "wi5GSXbsM8Vp"
      },
      "source": [
        "def dpFibo(n, T):\n",
        "  if n < 2:\n",
        "    T[0] = 0\n",
        "    T[1] = 1\n",
        "    return T[n]\n",
        "  else:\n",
        "    T[n - 1] = dpFibo(n - 1, T)\n",
        "    return T[n - 1] + T[n - 2]"
      ],
      "execution_count": 7,
      "outputs": []
    },
    {
      "cell_type": "code",
      "metadata": {
        "colab": {
          "base_uri": "https://localhost:8080/"
        },
        "id": "EeyOJnAnNZ8L",
        "outputId": "40545491-ff68-4144-d24e-5bcb8caacdd9"
      },
      "source": [
        "dpFibo(10, [0]*10)"
      ],
      "execution_count": 9,
      "outputs": [
        {
          "output_type": "execute_result",
          "data": {
            "text/plain": [
              "55"
            ]
          },
          "metadata": {
            "tags": []
          },
          "execution_count": 9
        }
      ]
    },
    {
      "cell_type": "code",
      "metadata": {
        "colab": {
          "base_uri": "https://localhost:8080/"
        },
        "id": "b6uxIZSsNdFZ",
        "outputId": "0080c321-9566-48c1-94d5-cd3e9c269695"
      },
      "source": [
        "%timeit dpFibo(15, [0]*15)"
      ],
      "execution_count": 10,
      "outputs": [
        {
          "output_type": "stream",
          "text": [
            "100000 loops, best of 5: 4.22 µs per loop\n"
          ],
          "name": "stdout"
        }
      ]
    },
    {
      "cell_type": "markdown",
      "metadata": {
        "id": "DnAY6z2MSsYH"
      },
      "source": [
        "## Coins"
      ]
    },
    {
      "cell_type": "markdown",
      "metadata": {
        "id": "mT9RsZNPSvID"
      },
      "source": [
        "### Naive"
      ]
    },
    {
      "cell_type": "code",
      "metadata": {
        "id": "ics4rsEPS7uw"
      },
      "source": [
        "import math"
      ],
      "execution_count": 11,
      "outputs": []
    },
    {
      "cell_type": "code",
      "metadata": {
        "id": "r1J4v-wANjLK"
      },
      "source": [
        "def naiveCoins(D, p):\n",
        "  if p == 0:\n",
        "    return 0, []\n",
        "  else:\n",
        "    minc = math.inf\n",
        "    mins = None\n",
        "    for di in D:\n",
        "      if di <= p:\n",
        "        c, s = naiveCoins(D, p - di)\n",
        "        if c < minc:\n",
        "          minc = c\n",
        "          mins = s + [di]\n",
        "    return 1 + minc, mins"
      ],
      "execution_count": 21,
      "outputs": []
    },
    {
      "cell_type": "code",
      "metadata": {
        "colab": {
          "base_uri": "https://localhost:8080/"
        },
        "id": "cOrd-XOdTxC_",
        "outputId": "424cc288-610b-4113-edd6-48c784305b15"
      },
      "source": [
        "naiveCoins([1, 5, 10, 20, 50], 40)"
      ],
      "execution_count": 22,
      "outputs": [
        {
          "output_type": "execute_result",
          "data": {
            "text/plain": [
              "(2, [20, 20])"
            ]
          },
          "metadata": {
            "tags": []
          },
          "execution_count": 22
        }
      ]
    },
    {
      "cell_type": "code",
      "metadata": {
        "colab": {
          "base_uri": "https://localhost:8080/"
        },
        "id": "-DddTlpdT29Q",
        "outputId": "a45d67e5-b534-4c90-e620-c36f818996a1"
      },
      "source": [
        "naiveCoins([1, 5, 10, 20, 25, 50], 40)"
      ],
      "execution_count": 23,
      "outputs": [
        {
          "output_type": "execute_result",
          "data": {
            "text/plain": [
              "(2, [20, 20])"
            ]
          },
          "metadata": {
            "tags": []
          },
          "execution_count": 23
        }
      ]
    },
    {
      "cell_type": "code",
      "metadata": {
        "colab": {
          "base_uri": "https://localhost:8080/"
        },
        "id": "H1K1WzrcT_Xv",
        "outputId": "c82b555b-541a-4256-9ebe-c1b9406c1ad7"
      },
      "source": [
        "%timeit naiveCoins([1, 5, 10, 20, 50], 40)"
      ],
      "execution_count": 20,
      "outputs": [
        {
          "output_type": "stream",
          "text": [
            "10 loops, best of 5: 140 ms per loop\n"
          ],
          "name": "stdout"
        }
      ]
    },
    {
      "cell_type": "markdown",
      "metadata": {
        "id": "paTMYPslW9yn"
      },
      "source": [
        "### DP Coins"
      ]
    },
    {
      "cell_type": "code",
      "metadata": {
        "id": "YLRexDfBUQW4"
      },
      "source": [
        "def dpCoins(D, p):\n",
        "  C = [0]*(p + 1)\n",
        "  S = [-1]*(p + 1)\n",
        "  for pi in range(1, p + 1):\n",
        "    minc = math.inf\n",
        "    mins = -1\n",
        "    for di in D:\n",
        "      if di <= pi and C[pi - di] < minc:\n",
        "        minc = C[pi - di]\n",
        "        mins = di\n",
        "    C[pi] = 1 + minc\n",
        "    S[pi] = mins\n",
        "  \n",
        "  return C, S"
      ],
      "execution_count": 28,
      "outputs": []
    },
    {
      "cell_type": "code",
      "metadata": {
        "id": "QC049IjiXzg_"
      },
      "source": [
        "def showMeTheMoney(C, S):\n",
        "  print(C[-1], end=\": \")\n",
        "  p = len(C) - 1\n",
        "  while p > 0:\n",
        "    print(S[p], end = \" \")\n",
        "    p -= S[p]\n",
        "  print()"
      ],
      "execution_count": 32,
      "outputs": []
    },
    {
      "cell_type": "code",
      "metadata": {
        "colab": {
          "base_uri": "https://localhost:8080/"
        },
        "id": "wHGcSml1YRW2",
        "outputId": "15c1a56b-2615-402c-e25a-6cab11e5bb5d"
      },
      "source": [
        "showMeTheMoney(*dpCoins([1, 5, 10, 20, 50], 40))\n",
        "showMeTheMoney(*dpCoins([1, 5, 10, 20, 25, 50], 40))\n",
        "showMeTheMoney(*dpCoins([1, 5, 10, 20, 50], 85))\n",
        "showMeTheMoney(*dpCoins([1, 5, 10, 20, 25, 50], 85))"
      ],
      "execution_count": 33,
      "outputs": [
        {
          "output_type": "stream",
          "text": [
            "2: 20 20 \n",
            "2: 20 20 \n",
            "4: 5 10 20 50 \n",
            "3: 10 25 50 \n"
          ],
          "name": "stdout"
        }
      ]
    },
    {
      "cell_type": "code",
      "metadata": {
        "colab": {
          "base_uri": "https://localhost:8080/"
        },
        "id": "yA4tWJ01YcsT",
        "outputId": "d70b54d0-5c17-457f-ac6c-1d5b30dec0e4"
      },
      "source": [
        "%timeit dpCoins([1, 5, 10, 20, 50], 40)"
      ],
      "execution_count": 34,
      "outputs": [
        {
          "output_type": "stream",
          "text": [
            "10000 loops, best of 5: 28.6 µs per loop\n"
          ],
          "name": "stdout"
        }
      ]
    },
    {
      "cell_type": "code",
      "metadata": {
        "id": "NTz-lQ7pY_L6"
      },
      "source": [
        ""
      ],
      "execution_count": null,
      "outputs": []
    }
  ]
}
