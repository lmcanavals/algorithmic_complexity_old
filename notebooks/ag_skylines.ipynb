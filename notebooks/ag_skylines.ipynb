{
  "nbformat": 4,
  "nbformat_minor": 0,
  "metadata": {
    "colab": {
      "name": "Untitled0.ipynb",
      "provenance": [],
      "authorship_tag": "ABX9TyOUL1yLjNqmZuWT6LAvCr+J",
      "include_colab_link": true
    },
    "kernelspec": {
      "name": "python3",
      "display_name": "Python 3"
    },
    "language_info": {
      "name": "python"
    }
  },
  "cells": [
    {
      "cell_type": "markdown",
      "metadata": {
        "id": "view-in-github",
        "colab_type": "text"
      },
      "source": [
        "<a href=\"https://colab.research.google.com/github/lmcanavals/algorithmic_complexity/blob/main/notebooks/ag_skylines.ipynb\" target=\"_parent\"><img src=\"https://colab.research.google.com/assets/colab-badge.svg\" alt=\"Open In Colab\"/></a>"
      ]
    },
    {
      "cell_type": "code",
      "metadata": {
        "id": "wcfa2r9AYXz6"
      },
      "source": [
        "#import pdb\n",
        "\n",
        "def addPoint(pl, x, y):\n",
        "  if len(pl) > 0:\n",
        "    if pl[-1][1] == y:\n",
        "      return\n",
        "    if pl[-1][0] == x:\n",
        "      x0, y0 = pl[-1]\n",
        "      pl[-1] = (x0, max(y0, y))\n",
        "      return\n",
        "    \n",
        "  pl.append((x, y))\n",
        "\n",
        "def mergePolylines(p1, p2):\n",
        "  result = []\n",
        "  n1, n2 = len(p1), len(p2)\n",
        "  i, j = 0, 0\n",
        "  yleft, yright = 0, 0\n",
        "  while i < n1 or j < n2:\n",
        "    if j >= n2 or i < n1 and p1[i][0] < p2[j][0]:\n",
        "      x, yleft = p1[i]\n",
        "      i += 1\n",
        "    else:\n",
        "      x, yright = p2[j]\n",
        "      j += 1\n",
        "    y = max(yleft, yright)\n",
        "    addPoint(result, x, y)\n",
        "\n",
        "  return result\n",
        "\n",
        "def skyline(rects: list, i, f: int):\n",
        "  if i == f:\n",
        "    g, h, d = rects[i]\n",
        "    return [(g, h), (d, 0)]\n",
        "  \n",
        "  mid = (i + f) // 2\n",
        "  p1 = skyline(rects, i, mid)\n",
        "  p2 = skyline(rects, mid + 1, f)\n",
        "  #pdb.set_trace()\n",
        "  return mergePolylines(p1, p2)"
      ],
      "execution_count": 1,
      "outputs": []
    },
    {
      "cell_type": "code",
      "metadata": {
        "colab": {
          "base_uri": "https://localhost:8080/"
        },
        "id": "XlFqiDguYv3a",
        "outputId": "de574ca3-8d8b-45d0-ef3e-741bc9a9607d"
      },
      "source": [
        "rects = [(3, 13, 9), (1, 11, 5), (19, 18, 22), (3, 6, 7), (16, 3, 25), (12, 7, 16)]\n",
        "polyline = skyline(rects, 0, len(rects) - 1)\n",
        "print(polyline)"
      ],
      "execution_count": 2,
      "outputs": [
        {
          "output_type": "stream",
          "text": [
            "[(1, 11), (3, 13), (9, 0), (12, 7), (16, 3), (19, 18), (22, 3), (25, 0)]\n"
          ],
          "name": "stdout"
        }
      ]
    },
    {
      "cell_type": "markdown",
      "metadata": {
        "id": "tnAkqNz2BogE"
      },
      "source": [
        "**WARNING**"
      ]
    },
    {
      "cell_type": "markdown",
      "metadata": {
        "id": "nzX3nZyveyPZ"
      },
      "source": [
        "Tip: zip, unzipp"
      ]
    },
    {
      "cell_type": "code",
      "metadata": {
        "colab": {
          "base_uri": "https://localhost:8080/"
        },
        "id": "TnesxwTMe16q",
        "outputId": "5c6f961f-324c-4224-e2af-799b99e0e5e9"
      },
      "source": [
        "a = [1, 2, 3, 4]\n",
        "b = [2, 4, 6, 8]\n",
        "c = list(zip(a, b))\n",
        "print(c)\n",
        "\n",
        "# forma larga\n",
        "c = []\n",
        "for i in range(len(a)):\n",
        "  c.append((a[i], b[i]))\n",
        "print(c)"
      ],
      "execution_count": 3,
      "outputs": [
        {
          "output_type": "stream",
          "text": [
            "[(1, 2), (2, 4), (3, 6), (4, 8)]\n",
            "[(1, 2), (2, 4), (3, 6), (4, 8)]\n"
          ],
          "name": "stdout"
        }
      ]
    },
    {
      "cell_type": "code",
      "metadata": {
        "colab": {
          "base_uri": "https://localhost:8080/"
        },
        "id": "XJhILbIGfUE3",
        "outputId": "8055745d-49f8-4b13-8e50-f09b0dae98b0"
      },
      "source": [
        "print(a)\n",
        "print(*a)\n",
        "\n",
        "# forma larga\n",
        "for e in a:\n",
        "  print(e, end=' ')"
      ],
      "execution_count": 4,
      "outputs": [
        {
          "output_type": "stream",
          "text": [
            "[1, 2, 3, 4]\n",
            "1 2 3 4\n",
            "1 2 3 4 "
          ],
          "name": "stdout"
        }
      ]
    },
    {
      "cell_type": "code",
      "metadata": {
        "colab": {
          "base_uri": "https://localhost:8080/"
        },
        "id": "JMxg1TMiewyo",
        "outputId": "3b56037d-3b32-4779-b7c3-ad80416cb5e0"
      },
      "source": [
        "print(c)\n",
        "print(*c)\n",
        "p, q = zip(*c)\n",
        "print(p)\n",
        "print(q)"
      ],
      "execution_count": 5,
      "outputs": [
        {
          "output_type": "stream",
          "text": [
            "[(1, 2), (2, 4), (3, 6), (4, 8)]\n",
            "(1, 2) (2, 4) (3, 6) (4, 8)\n",
            "(1, 2, 3, 4)\n",
            "(2, 4, 6, 8)\n"
          ],
          "name": "stdout"
        }
      ]
    },
    {
      "cell_type": "code",
      "metadata": {
        "colab": {
          "base_uri": "https://localhost:8080/",
          "height": 607
        },
        "id": "LxrlYkfmc1Cb",
        "outputId": "a948730b-d4d9-48b5-9aca-15cb96560830"
      },
      "source": [
        "import matplotlib.pyplot as plt\n",
        "\n",
        "points = [(0, 0)]\n",
        "for x, y in polyline:\n",
        "  points.append((x, points[-1][1]))\n",
        "  points.append((x, y))\n",
        "\n",
        "x, y = zip(*points)\n",
        "\n",
        "fig, ax = plt.subplots(figsize=(10, 10))\n",
        "ax.plot(x, y, \"g-\", zorder=0) # g- stands for green line, try b. or r-- for some awesome\n",
        "\n",
        "x, y = zip(*polyline)\n",
        "ax.scatter(x, y, s=128, c=[\"orangered\"], zorder=1)\n",
        "bbox = {'boxstyle': 'round',\n",
        "        'facecolor': 'pink',\n",
        "        'edgecolor': 'orange'}\n",
        "for x, y in polyline:\n",
        "  ax.text(x, y, f\"({x}, {y})\", position=(x, y+.5), bbox=bbox, rotation=30)"
      ],
      "execution_count": 78,
      "outputs": [
        {
          "output_type": "display_data",
          "data": {
            "image/png": "[encoded data removed]",
            "text/plain": [
              "<Figure size 720x720 with 1 Axes>"
            ]
          },
          "metadata": {
            "tags": [],
            "needs_background": "light"
          }
        }
      ]
    },
    {
      "cell_type": "code",
      "metadata": {
        "id": "u9gu2wlEgUfH"
      },
      "source": [
        ""
      ],
      "execution_count": null,
      "outputs": []
    }
  ]
}