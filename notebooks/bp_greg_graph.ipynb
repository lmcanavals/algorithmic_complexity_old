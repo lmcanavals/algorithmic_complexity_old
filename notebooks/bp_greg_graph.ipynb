{
  "nbformat": 4,
  "nbformat_minor": 0,
  "metadata": {
    "colab": {
      "name": "bp_greg_graph.ipynb",
      "provenance": [],
      "authorship_tag": "ABX9TyP1hXCLDMg4CoANN9pQPjGO",
      "include_colab_link": true
    },
    "kernelspec": {
      "name": "python3",
      "display_name": "Python 3"
    },
    "language_info": {
      "name": "python"
    }
  },
  "cells": [
    {
      "cell_type": "markdown",
      "metadata": {
        "id": "view-in-github",
        "colab_type": "text"
      },
      "source": [
        "<a href=\"https://colab.research.google.com/github/lmcanavals/algorithmic_complexity/blob/main/notebooks/bp_greg_graph.ipynb\" target=\"_parent\"><img src=\"https://colab.research.google.com/assets/colab-badge.svg\" alt=\"Open In Colab\"/></a>"
      ]
    },
    {
      "cell_type": "markdown",
      "metadata": {
        "id": "sgbUFtlKZ58s"
      },
      "source": [
        "# [Greg and Graph 295B](https://codeforces.com/problemset/problem/295/B)"
      ]
    },
    {
      "cell_type": "code",
      "metadata": {
        "id": "UbSLswvoZ5LD"
      },
      "source": [
        "import numpy as np"
      ],
      "execution_count": 1,
      "outputs": []
    },
    {
      "cell_type": "code",
      "metadata": {
        "id": "Lbl5L241Z6ek"
      },
      "source": [
        "def relax(cost, cost_uv, u, v):\n",
        "  if cost[u] + cost_uv < cost[v]:\n",
        "    cost[v] = cost[u] + cost_uv\n",
        "\n",
        "def floydWarshall(G):\n",
        "  n = len(G)\n",
        "  cost = G.copy()\n",
        "\n",
        "  for k in range(n):\n",
        "    for i in range(n):\n",
        "      for j in range(n):\n",
        "        if i != j and i != k and k != j and cost[i, k] != 0:\n",
        "          relax(cost[i], cost[k, j], k, j)\n",
        "  \n",
        "  return np.sum(cost)"
      ],
      "execution_count": 2,
      "outputs": []
    },
    {
      "cell_type": "code",
      "metadata": {
        "colab": {
          "base_uri": "https://localhost:8080/"
        },
        "id": "Jnul1G7caW6-",
        "outputId": "4873f5d7-304e-4674-aa85-d3f8f411a0fb"
      },
      "source": [
        "%%file 1.in\n",
        "2\n",
        "0 5\n",
        "4 0\n",
        "1 2"
      ],
      "execution_count": 3,
      "outputs": [
        {
          "output_type": "stream",
          "text": [
            "Writing 1.in\n"
          ],
          "name": "stdout"
        }
      ]
    },
    {
      "cell_type": "code",
      "metadata": {
        "colab": {
          "base_uri": "https://localhost:8080/"
        },
        "id": "BE1sSAhybZ7g",
        "outputId": "d420daaa-e446-4868-9364-a15227dbb9db"
      },
      "source": [
        "%%file 2.in\n",
        "4\n",
        "0 3 1 1\n",
        "6 0 400 1\n",
        "2 4 0 1\n",
        "1 1 1 0\n",
        "4 1 2 3"
      ],
      "execution_count": 9,
      "outputs": [
        {
          "output_type": "stream",
          "text": [
            "Writing 2.in\n"
          ],
          "name": "stdout"
        }
      ]
    },
    {
      "cell_type": "code",
      "metadata": {
        "colab": {
          "base_uri": "https://localhost:8080/"
        },
        "id": "7rmU_ckyaa0Y",
        "outputId": "98126a04-0b83-4906-f735-c9ce232d5d32"
      },
      "source": [
        "with open(\"2.in\") as f:\n",
        "  n = int(f.readline())\n",
        "  G = np.zeros((n, n), dtype=np.int)\n",
        "  for i in range(n):\n",
        "    G[i] = list(map(int, f.readline().split()))\n",
        "\n",
        "  x = list(map(int, f.readline().split()))\n",
        "\n",
        "  print(floydWarshall(G), end=\" \")\n",
        "  for xi in x[:-1]:\n",
        "    G = np.delete(G, xi - 1, 0)\n",
        "    G = np.delete(G, xi - 1, 1)\n",
        "    print(floydWarshall(G), end=\" \")\n",
        "\n",
        "  print()"
      ],
      "execution_count": 10,
      "outputs": [
        {
          "output_type": "stream",
          "text": [
            "17 23 404 0 \n"
          ],
          "name": "stdout"
        }
      ]
    }
  ]
}