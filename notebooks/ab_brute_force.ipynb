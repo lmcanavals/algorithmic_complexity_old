{
  "nbformat": 4,
  "nbformat_minor": 0,
  "metadata": {
    "colab": {
      "name": "ab-brute_force.ipynb",
      "provenance": [],
      "authorship_tag": "ABX9TyM1NBY/YYfKkwWUJg7FvZoY",
      "include_colab_link": true
    },
    "kernelspec": {
      "name": "python3",
      "display_name": "Python 3"
    },
    "language_info": {
      "name": "python"
    }
  },
  "cells": [
    {
      "cell_type": "markdown",
      "metadata": {
        "id": "view-in-github",
        "colab_type": "text"
      },
      "source": [
        "<a href=\"https://colab.research.google.com/github/lmcanavals/algorithmic-complexity/blob/main/ab_brute_force.ipynb\" target=\"_parent\"><img src=\"https://colab.research.google.com/assets/colab-badge.svg\" alt=\"Open In Colab\"/></a>"
      ]
    },
    {
      "cell_type": "markdown",
      "metadata": {
        "id": "6mkJdByk23J9"
      },
      "source": [
        "# Brute Force Algorithms"
      ]
    },
    {
      "cell_type": "markdown",
      "metadata": {
        "id": "XdHLbVTav-lB"
      },
      "source": [
        "Tip: asignación múltiple"
      ]
    },
    {
      "cell_type": "code",
      "metadata": {
        "colab": {
          "base_uri": "https://localhost:8080/"
        },
        "id": "jYviofQxv843",
        "outputId": "d8824ee0-5725-4c3f-8426-8e39cfbf264f"
      },
      "source": [
        "a, b = 10, 20\n",
        "print(a, b)\n",
        "a, b = b, a\n",
        "print(a, b)"
      ],
      "execution_count": null,
      "outputs": [
        {
          "output_type": "stream",
          "text": [
            "10 20\n",
            "20 10\n"
          ],
          "name": "stdout"
        }
      ]
    },
    {
      "cell_type": "markdown",
      "metadata": {
        "id": "OTENpoVIPT7J"
      },
      "source": [
        "Tip: funciones en python"
      ]
    },
    {
      "cell_type": "code",
      "metadata": {
        "colab": {
          "base_uri": "https://localhost:8080/"
        },
        "id": "p5sFCtglPYjo",
        "outputId": "308f6de8-38aa-441e-ba30-9c0062ce756a"
      },
      "source": [
        "def nombreFuncion(param1, param2):\n",
        "    # cuerpo función\n",
        "    print(param1)\n",
        "    print(param2)\n",
        "    return param2, param1              # pueden retornar 1 o más valores\n",
        "\n",
        "x, y = nombreFuncion(20, 30)\n",
        "print(x, y)"
      ],
      "execution_count": null,
      "outputs": [
        {
          "output_type": "stream",
          "text": [
            "20\n",
            "30\n",
            "30 20\n"
          ],
          "name": "stdout"
        }
      ]
    },
    {
      "cell_type": "markdown",
      "metadata": {
        "id": "o1tO1-GqP7Sa"
      },
      "source": [
        "Tip: tipos explícitos *Explicit is better than implicit*. [Zen of python](https://en.wikipedia.org/wiki/Zen_of_Python)\n",
        "\n"
      ]
    },
    {
      "cell_type": "code",
      "metadata": {
        "colab": {
          "base_uri": "https://localhost:8080/"
        },
        "id": "EKujjzjCRL5d",
        "outputId": "eb1ece46-3c0c-47a2-f3aa-5db2304c4269"
      },
      "source": [
        "def sumar(a, b: int): # declaración explícita del tipo de los parámetros\n",
        "    return a + b\n",
        "\n",
        "sumar(10, 20)"
      ],
      "execution_count": null,
      "outputs": [
        {
          "output_type": "execute_result",
          "data": {
            "text/plain": [
              "30"
            ]
          },
          "metadata": {
            "tags": []
          },
          "execution_count": 22
        }
      ]
    },
    {
      "cell_type": "markdown",
      "metadata": {
        "id": "wSvxU1c1uvKL"
      },
      "source": [
        "## Selection Sort"
      ]
    },
    {
      "cell_type": "code",
      "metadata": {
        "id": "B-D3_ror210y"
      },
      "source": [
        "def selectionSort(A: list):\n",
        "    n = len(A)\n",
        "    for i in range(n-1):                        # i toma valores de 0 a n-2\n",
        "        min_pos = i\n",
        "        for j in range(i + 1, n):               # j toma valores de i+1 a n-1\n",
        "            if A[j] < A[min_pos]:\n",
        "                min_pos = j\n",
        "\n",
        "        if min_pos != i:\n",
        "            A[min_pos], A[i] = A[i], A[min_pos]"
      ],
      "execution_count": null,
      "outputs": []
    },
    {
      "cell_type": "markdown",
      "metadata": {
        "id": "-E19J1W3w1Tp"
      },
      "source": [
        "Tip: Comprehensions"
      ]
    },
    {
      "cell_type": "code",
      "metadata": {
        "colab": {
          "base_uri": "https://localhost:8080/"
        },
        "id": "0DN2yOdPw9T8",
        "outputId": "41242d56-7ba0-4772-ec04-b01fc3ede07e"
      },
      "source": [
        "A = [i for i in range(10)]\n",
        "print(A)\n",
        "B = [i for i in range(0, 30, 4)]\n",
        "print(B)"
      ],
      "execution_count": null,
      "outputs": [
        {
          "output_type": "stream",
          "text": [
            "[0, 1, 2, 3, 4, 5, 6, 7, 8, 9]\n",
            "[0, 4, 8, 12, 16, 20, 24, 28]\n"
          ],
          "name": "stdout"
        }
      ]
    },
    {
      "cell_type": "markdown",
      "metadata": {
        "id": "1gFcxmlUxpfz"
      },
      "source": [
        "Tip: valores aleatorios"
      ]
    },
    {
      "cell_type": "code",
      "metadata": {
        "colab": {
          "base_uri": "https://localhost:8080/"
        },
        "id": "Gh2NHRbQxtV6",
        "outputId": "676b6adf-06e8-4855-935f-575c4bac9c98"
      },
      "source": [
        "import random\n",
        "print(random.randint(10, 20))"
      ],
      "execution_count": null,
      "outputs": [
        {
          "output_type": "stream",
          "text": [
            "15\n"
          ],
          "name": "stdout"
        }
      ]
    },
    {
      "cell_type": "markdown",
      "metadata": {
        "id": "31msSSFWTCbI"
      },
      "source": [
        "Tip: en python los valores primitivos como enteros, reales, booleanos, cadenas, etc. son pasados por valor a las funciones, mientras que tipos objeto como listas, diccionarios, instancias de clases, etc. son pasadas por referencia. :O"
      ]
    },
    {
      "cell_type": "code",
      "metadata": {
        "colab": {
          "base_uri": "https://localhost:8080/"
        },
        "id": "d3t04JN23rdY",
        "outputId": "4647198f-3119-48f9-a35e-4f922ffacc9f"
      },
      "source": [
        "X = [random.randint(1, 100) for _ in range(10)]\n",
        "print(X)\n",
        "selectionSort(X)\n",
        "print(X)"
      ],
      "execution_count": null,
      "outputs": [
        {
          "output_type": "stream",
          "text": [
            "[89, 60, 15, 61, 51, 10, 31, 55, 24, 44]\n",
            "[10, 15, 24, 31, 44, 51, 55, 60, 61, 89]\n"
          ],
          "name": "stdout"
        }
      ]
    },
    {
      "cell_type": "markdown",
      "metadata": {
        "id": "LptAfDdryRM0"
      },
      "source": [
        "## Bubble Sort"
      ]
    },
    {
      "cell_type": "code",
      "metadata": {
        "id": "aTCB64zS3zpw"
      },
      "source": [
        "def bubbleSort(A):\n",
        "    n = len(A)\n",
        "    for i in range(n-1):\n",
        "        for j in range(n-1-i):\n",
        "            if A[j] > A[j + 1]:\n",
        "                A[j], A[j + 1] = A[j + 1], A[j]"
      ],
      "execution_count": null,
      "outputs": []
    },
    {
      "cell_type": "code",
      "metadata": {
        "colab": {
          "base_uri": "https://localhost:8080/"
        },
        "id": "tznCp0c97GU4",
        "outputId": "be28feac-4cf4-4abc-ae5c-ab1e6cf84635"
      },
      "source": [
        "X = [random.randint(1, 100) for _ in range(10)]\n",
        "print(X)\n",
        "bubbleSort(X)\n",
        "print(X)"
      ],
      "execution_count": null,
      "outputs": [
        {
          "output_type": "stream",
          "text": [
            "[11, 58, 56, 96, 5, 49, 63, 67, 80, 33]\n",
            "[5, 11, 33, 49, 56, 58, 63, 67, 80, 96]\n"
          ],
          "name": "stdout"
        }
      ]
    },
    {
      "cell_type": "markdown",
      "metadata": {
        "id": "lFCVx4Wn7oLG"
      },
      "source": [
        "## String Matching"
      ]
    },
    {
      "cell_type": "markdown",
      "metadata": {
        "id": "dC_kR_kKzisc"
      },
      "source": [
        "Tip: slicing. [Slice Notation](https://stackoverflow.com/questions/509211/understanding-slice-notation)"
      ]
    },
    {
      "cell_type": "code",
      "metadata": {
        "colab": {
          "base_uri": "https://localhost:8080/"
        },
        "id": "0bQMWj_Dzmwt",
        "outputId": "40a23f8d-084d-4af3-a8b0-6b738db7cae6"
      },
      "source": [
        "A = [1, 2, 3, 4, 5, 7]\n",
        "print(A[1:3])\n",
        "W = \"Exígete, innova\"\n",
        "print(W[4:10])"
      ],
      "execution_count": null,
      "outputs": [
        {
          "output_type": "stream",
          "text": [
            "[2, 3]\n",
            "ete, i\n"
          ],
          "name": "stdout"
        }
      ]
    },
    {
      "cell_type": "markdown",
      "metadata": {
        "id": "hWaeGWaL0awU"
      },
      "source": [
        "Tip: f strings"
      ]
    },
    {
      "cell_type": "code",
      "metadata": {
        "colab": {
          "base_uri": "https://localhost:8080/"
        },
        "id": "bZDIYGmF0gSD",
        "outputId": "e48780df-23ec-446c-9315-9e3c1a369423"
      },
      "source": [
        "a, b = 10, 20\n",
        "print(f\"{a} -> {b}\")"
      ],
      "execution_count": null,
      "outputs": [
        {
          "output_type": "stream",
          "text": [
            "10 -> 20\n"
          ],
          "name": "stdout"
        }
      ]
    },
    {
      "cell_type": "markdown",
      "metadata": {
        "id": "8CZnKqYfz-u5"
      },
      "source": [
        "Tip: enumerate"
      ]
    },
    {
      "cell_type": "code",
      "metadata": {
        "colab": {
          "base_uri": "https://localhost:8080/"
        },
        "id": "B4dpUC5M0Ccc",
        "outputId": "273780bd-6701-467f-831d-a6a050a7bf2c"
      },
      "source": [
        "for i, c in enumerate(W):\n",
        "    print(f\"{i} -> {c}\")"
      ],
      "execution_count": null,
      "outputs": [
        {
          "output_type": "stream",
          "text": [
            "0 -> E\n",
            "1 -> x\n",
            "2 -> í\n",
            "3 -> g\n",
            "4 -> e\n",
            "5 -> t\n",
            "6 -> e\n",
            "7 -> ,\n",
            "8 ->  \n",
            "9 -> i\n",
            "10 -> n\n",
            "11 -> n\n",
            "12 -> o\n",
            "13 -> v\n",
            "14 -> a\n"
          ],
          "name": "stdout"
        }
      ]
    },
    {
      "cell_type": "code",
      "metadata": {
        "id": "t4o2Q3uQ7Kd3"
      },
      "source": [
        "def stringMatching(word, text):\n",
        "    l = len(word)\n",
        "    n = len(text)\n",
        "    results = []\n",
        "    for i in range(n-l):\n",
        "        if word == text[i:i+l]: # Ojo al uso de slicing para comparar\n",
        "            results.append(i)\n",
        "    return results"
      ],
      "execution_count": null,
      "outputs": []
    },
    {
      "cell_type": "code",
      "metadata": {
        "colab": {
          "base_uri": "https://localhost:8080/"
        },
        "id": "ZJ94flU38WQS",
        "outputId": "6f8bd428-1323-4e55-fe47-8f4bc06bb0ca"
      },
      "source": [
        "stringMatching(\"rac\", \"abracadabracalamazoo\")"
      ],
      "execution_count": null,
      "outputs": [
        {
          "output_type": "execute_result",
          "data": {
            "text/plain": [
              "[2, 9]"
            ]
          },
          "metadata": {
            "tags": []
          },
          "execution_count": 10
        }
      ]
    }
  ]
}
