{
  "nbformat": 4,
  "nbformat_minor": 0,
  "metadata": {
    "colab": {
      "name": "bh_clusters_problem.ipynb",
      "provenance": [],
      "collapsed_sections": [],
      "authorship_tag": "ABX9TyMINA92mGAkq7d34e32j/ao",
      "include_colab_link": true
    },
    "kernelspec": {
      "name": "python3",
      "display_name": "Python 3"
    },
    "language_info": {
      "name": "python"
    }
  },
  "cells": [
    {
      "cell_type": "markdown",
      "metadata": {
        "id": "view-in-github",
        "colab_type": "text"
      },
      "source": [
        "<a href=\"https://colab.research.google.com/github/lmcanavals/algorithmic_complexity/blob/main/notebooks/bh_clusters_problem.ipynb\" target=\"_parent\"><img src=\"https://colab.research.google.com/assets/colab-badge.svg\" alt=\"Open In Colab\"/></a>"
      ]
    },
    {
      "cell_type": "code",
      "metadata": {
        "colab": {
          "base_uri": "https://localhost:8080/"
        },
        "id": "ngIMiZ9BhL34",
        "outputId": "5567ad9d-c91e-42a9-ad3a-65cabd2b8500"
      },
      "source": [
        "!git clone https://github.com/lmcanavals/algorithmic_complexity.git"
      ],
      "execution_count": null,
      "outputs": [
        {
          "output_type": "stream",
          "text": [
            "Cloning into 'algorithmic_complexity'...\n",
            "remote: Enumerating objects: 320, done.\u001b[K\n",
            "remote: Counting objects: 100% (320/320), done.\u001b[K\n",
            "remote: Compressing objects: 100% (315/315), done.\u001b[K\n",
            "remote: Total 320 (delta 188), reused 0 (delta 0), pack-reused 0\u001b[K\n",
            "Receiving objects: 100% (320/320), 294.20 KiB | 3.98 MiB/s, done.\n",
            "Resolving deltas: 100% (188/188), done.\n"
          ],
          "name": "stdout"
        }
      ]
    },
    {
      "cell_type": "code",
      "metadata": {
        "id": "STDf-veFhTdT"
      },
      "source": [
        "from algorithmic_complexity.aclib.ds import DisjointSet\n",
        "from algorithmic_complexity.aclib.graphstuff import nx2gv\n",
        "import math\n",
        "import numpy as np\n",
        "import networkx as nx\n",
        "import matplotlib.pyplot as plt\n",
        "from heapq import heappush as push, heappop as pop"
      ],
      "execution_count": null,
      "outputs": []
    },
    {
      "cell_type": "code",
      "metadata": {
        "id": "cgb2ea2ihp-W"
      },
      "source": [
        "def solve(G, k):\n",
        "  n = G.number_of_nodes()\n",
        "  ds = DisjointSet(n)\n",
        "\n",
        "  edges = []\n",
        "  for u, v in G.edges:\n",
        "    w = G.edges[u, v]['weight']\n",
        "    push(edges, (w, u, v))\n",
        "\n",
        "  while n > k:\n",
        "    _, u, v = pop(edges)\n",
        "    if not ds.isSameSet(u, v):\n",
        "      ds.union(u, v)\n",
        "      n -= 1\n",
        "\n",
        "  for u in range(G.number_of_nodes()):\n",
        "    ds.find(u)\n",
        "\n",
        "  return ds.s"
      ],
      "execution_count": null,
      "outputs": []
    },
    {
      "cell_type": "code",
      "metadata": {
        "colab": {
          "base_uri": "https://localhost:8080/"
        },
        "id": "JRnD_CYdimNZ",
        "outputId": "1ce44b57-aa70-4cc4-b60b-6a3022d86eed"
      },
      "source": [
        "%%file 1.in\n",
        "2 3\n",
        "3 4\n",
        "2 6\n",
        "5 10\n",
        "6 8\n",
        "7 9\n",
        "12 6\n",
        "12 8\n",
        "13 7"
      ],
      "execution_count": null,
      "outputs": [
        {
          "output_type": "stream",
          "text": [
            "Overwriting 1.in\n"
          ],
          "name": "stdout"
        }
      ]
    },
    {
      "cell_type": "code",
      "metadata": {
        "colab": {
          "base_uri": "https://localhost:8080/"
        },
        "id": "TwdX0FEFjERM",
        "outputId": "64ccae8f-2425-4cec-b78f-535c4b8e5501"
      },
      "source": [
        "data = np.loadtxt('1.in')\n",
        "data"
      ],
      "execution_count": null,
      "outputs": [
        {
          "output_type": "execute_result",
          "data": {
            "text/plain": [
              "array([[ 2.,  3.],\n",
              "       [ 3.,  4.],\n",
              "       [ 2.,  6.],\n",
              "       [ 5., 10.],\n",
              "       [ 6.,  8.],\n",
              "       [ 7.,  9.],\n",
              "       [12.,  6.],\n",
              "       [12.,  8.],\n",
              "       [13.,  7.]])"
            ]
          },
          "metadata": {
            "tags": []
          },
          "execution_count": 8
        }
      ]
    },
    {
      "cell_type": "code",
      "metadata": {
        "colab": {
          "base_uri": "https://localhost:8080/",
          "height": 265
        },
        "id": "-ypurmJgjIOb",
        "outputId": "3dc35c98-2688-4e95-dd13-d5e737acd1a4"
      },
      "source": [
        "plt.scatter(data[:, 0], data[:, 1], s=100)\n",
        "for i, (x, y) in enumerate(data):\n",
        "  plt.text(x+.5, y, i)\n",
        "plt.axis([0, 14, 0, 11])\n",
        "plt.show()"
      ],
      "execution_count": null,
      "outputs": [
        {
          "output_type": "display_data",
          "data": {
            "image/png": "[encoded data removed]",
            "text/plain": [
              "<Figure size 432x288 with 1 Axes>"
            ]
          },
          "metadata": {
            "tags": [],
            "needs_background": "light"
          }
        }
      ]
    },
    {
      "cell_type": "code",
      "metadata": {
        "id": "EospUpXTjW8g"
      },
      "source": [
        "def dist(u, v):\n",
        "  x1, y1 = data[u]\n",
        "  x2, y2 = data[v]\n",
        "  return math.sqrt((x1-x2)**2 + (y1-y2)**2)"
      ],
      "execution_count": null,
      "outputs": []
    },
    {
      "cell_type": "code",
      "metadata": {
        "colab": {
          "base_uri": "https://localhost:8080/",
          "height": 507
        },
        "id": "3EQO6J-skeB9",
        "outputId": "c784c0b4-22d7-4e72-e2e4-b4bd6fa30f7c"
      },
      "source": [
        "G = nx.Graph()\n",
        "\n",
        "for u in range(len(data)):\n",
        "  G.add_node(u)\n",
        "\n",
        "for u in range(len(data)):\n",
        "  for v in range(len(data)):\n",
        "    if u != v:\n",
        "      G.add_edge(u, v, weight=dist(u, v))\n",
        "\n",
        "nx2gv(G)"
      ],
      "execution_count": null,
      "outputs": [
        {
          "output_type": "execute_result",
          "data": {
            "text/plain": [
              "<graphviz.dot.Graph at 0x7f4d86653a50>"
            ],
            "image/svg+xml": "<?xml version=\"1.0\" encoding=\"UTF-8\" standalone=\"no\"?>\n<!DOCTYPE svg PUBLIC \"-//W3C//DTD SVG 1.1//EN\"\n \"http://www.w3.org/Graphics/SVG/1.1/DTD/svg11.dtd\">\n<!-- Generated by graphviz version 2.40.1 (20161225.0304)\n -->\n<!-- Title: G Pages: 1 -->\n<svg width=\"432pt\" height=\"365pt\"\n viewBox=\"0.00 0.00 432.00 364.60\" xmlns=\"http://www.w3.org/2000/svg\" xmlns:xlink=\"http://www.w3.org/1999/xlink\">\n<g id=\"graph0\" class=\"graph\" transform=\"scale(.5524 .5524) rotate(0) translate(4 656)\">\n<title>G</title>\n<polygon fill=\"#ffffff\" stroke=\"transparent\" points=\"-4,4 -4,-656 778,-656 778,4 -4,4\"/>\n<!-- 0 -->\n<g id=\"node1\" class=\"node\">\n<title>0</title>\n<ellipse fill=\"none\" stroke=\"#000000\" cx=\"27\" cy=\"-249\" rx=\"27\" ry=\"18\"/>\n<text text-anchor=\"middle\" x=\"27\" y=\"-245.3\" font-family=\"Times,serif\" font-size=\"14.00\" fill=\"#000000\">0</text>\n</g>\n<!-- 1 -->\n<g id=\"node2\" class=\"node\">\n<title>1</title>\n<ellipse fill=\"none\" stroke=\"#000000\" cx=\"117\" cy=\"-380\" rx=\"27\" ry=\"18\"/>\n<text text-anchor=\"middle\" x=\"117\" y=\"-376.3\" font-family=\"Times,serif\" font-size=\"14.00\" fill=\"#000000\">1</text>\n</g>\n<!-- 0&#45;&#45;1 -->\n<g id=\"edge1\" class=\"edge\">\n<title>0&#45;&#45;1</title>\n<path fill=\"none\" stroke=\"#000000\" d=\"M38.3986,-265.5912C55.7105,-290.7897 88.4372,-338.4253 105.694,-363.5435\"/>\n</g>\n<!-- 2 -->\n<g id=\"node3\" class=\"node\">\n<title>2</title>\n<ellipse fill=\"none\" stroke=\"#000000\" cx=\"207\" cy=\"-462\" rx=\"27\" ry=\"18\"/>\n<text text-anchor=\"middle\" x=\"207\" y=\"-458.3\" font-family=\"Times,serif\" font-size=\"14.00\" fill=\"#000000\">2</text>\n</g>\n<!-- 0&#45;&#45;2 -->\n<g id=\"edge2\" class=\"edge\">\n<title>0&#45;&#45;2</title>\n<path fill=\"none\" stroke=\"#000000\" d=\"M29.7329,-266.9455C35.4627,-298.9051 51.5336,-366.1529 90,-407 114.9279,-433.4708 155.1593,-448.4643 181.3433,-455.9062\"/>\n</g>\n<!-- 3 -->\n<g id=\"node4\" class=\"node\">\n<title>3</title>\n<ellipse fill=\"none\" stroke=\"#000000\" cx=\"297\" cy=\"-226\" rx=\"27\" ry=\"18\"/>\n<text text-anchor=\"middle\" x=\"297\" y=\"-222.3\" font-family=\"Times,serif\" font-size=\"14.00\" fill=\"#000000\">3</text>\n</g>\n<!-- 0&#45;&#45;3 -->\n<g id=\"edge3\" class=\"edge\">\n<title>0&#45;&#45;3</title>\n<path fill=\"none\" stroke=\"#000000\" d=\"M53.8757,-246.7106C105.4959,-242.3133 217.9835,-232.731 269.8322,-228.3143\"/>\n</g>\n<!-- 4 -->\n<g id=\"node5\" class=\"node\">\n<title>4</title>\n<ellipse fill=\"none\" stroke=\"#000000\" cx=\"387\" cy=\"-312\" rx=\"27\" ry=\"18\"/>\n<text text-anchor=\"middle\" x=\"387\" y=\"-308.3\" font-family=\"Times,serif\" font-size=\"14.00\" fill=\"#000000\">4</text>\n</g>\n<!-- 0&#45;&#45;4 -->\n<g id=\"edge4\" class=\"edge\">\n<title>0&#45;&#45;4</title>\n<path fill=\"none\" stroke=\"#000000\" d=\"M53.1803,-253.5816C119.5188,-265.1908 293.6741,-295.668 360.4313,-307.3505\"/>\n</g>\n<!-- 5 -->\n<g id=\"node6\" class=\"node\">\n<title>5</title>\n<ellipse fill=\"none\" stroke=\"#000000\" cx=\"477\" cy=\"-432\" rx=\"27\" ry=\"18\"/>\n<text text-anchor=\"middle\" x=\"477\" y=\"-428.3\" font-family=\"Times,serif\" font-size=\"14.00\" fill=\"#000000\">5</text>\n</g>\n<!-- 0&#45;&#45;5 -->\n<g id=\"edge5\" class=\"edge\">\n<title>0&#45;&#45;5</title>\n<path fill=\"none\" stroke=\"#000000\" d=\"M28.727,-267.2079C33.0241,-303.5192 47.1466,-385.9186 90,-438 119.2121,-473.5026 135.5432,-477.2794 180,-489 281.5376,-515.7694 405.6971,-465.9216 455.1582,-442.8322\"/>\n</g>\n<!-- 6 -->\n<g id=\"node7\" class=\"node\">\n<title>6</title>\n<ellipse fill=\"none\" stroke=\"#000000\" cx=\"567\" cy=\"-264\" rx=\"27\" ry=\"18\"/>\n<text text-anchor=\"middle\" x=\"567\" y=\"-260.3\" font-family=\"Times,serif\" font-size=\"14.00\" fill=\"#000000\">6</text>\n</g>\n<!-- 0&#45;&#45;6 -->\n<g id=\"edge6\" class=\"edge\">\n<title>0&#45;&#45;6</title>\n<path fill=\"none\" stroke=\"#000000\" d=\"M51.0629,-240.3036C94.2212,-225.2193 187.9497,-194.7842 270,-184 333.4543,-175.6599 350.4199,-176.6806 414,-184 454.805,-188.6975 467.8175,-185.5595 504,-205 523.3867,-215.4163 523.9256,-223.9681 540,-239 543.5462,-242.3162 547.3664,-245.8667 550.9855,-249.2202\"/>\n</g>\n<!-- 7 -->\n<g id=\"node8\" class=\"node\">\n<title>7</title>\n<ellipse fill=\"none\" stroke=\"#000000\" cx=\"657\" cy=\"-356\" rx=\"27\" ry=\"18\"/>\n<text text-anchor=\"middle\" x=\"657\" y=\"-352.3\" font-family=\"Times,serif\" font-size=\"14.00\" fill=\"#000000\">7</text>\n</g>\n<!-- 0&#45;&#45;7 -->\n<g id=\"edge7\" class=\"edge\">\n<title>0&#45;&#45;7</title>\n<path fill=\"none\" stroke=\"#000000\" d=\"M32.5523,-231.0103C49.5372,-179.9846 105.8841,-38 207,-38 207,-38 207,-38 477,-38 615.9317,-38 648.8888,-270.7209 655.5132,-337.9918\"/>\n</g>\n<!-- 8 -->\n<g id=\"node9\" class=\"node\">\n<title>8</title>\n<ellipse fill=\"none\" stroke=\"#000000\" cx=\"747\" cy=\"-333\" rx=\"27\" ry=\"18\"/>\n<text text-anchor=\"middle\" x=\"747\" y=\"-329.3\" font-family=\"Times,serif\" font-size=\"14.00\" fill=\"#000000\">8</text>\n</g>\n<!-- 0&#45;&#45;8 -->\n<g id=\"edge8\" class=\"edge\">\n<title>0&#45;&#45;8</title>\n<path fill=\"none\" stroke=\"#000000\" d=\"M28.227,-231.0077C31.654,-193.9165 44.3333,-108.0723 90,-56 128.0112,-12.6571 149.3506,0 207,0 207,0 207,0 567,0 711.2509,0 740.465,-244.8124 745.8632,-314.6221\"/>\n</g>\n<!-- 1&#45;&#45;2 -->\n<g id=\"edge9\" class=\"edge\">\n<title>1&#45;&#45;2</title>\n<path fill=\"none\" stroke=\"#000000\" d=\"M133.0902,-394.66C149.4719,-409.5855 174.7178,-432.5874 191.0491,-447.467\"/>\n</g>\n<!-- 1&#45;&#45;3 -->\n<g id=\"edge10\" class=\"edge\">\n<title>1&#45;&#45;3</title>\n<path fill=\"none\" stroke=\"#000000\" d=\"M133.6113,-365.7881C167.815,-336.5249 245.7754,-269.8255 280.1671,-240.4015\"/>\n</g>\n<!-- 1&#45;&#45;4 -->\n<g id=\"edge11\" class=\"edge\">\n<title>1&#45;&#45;4</title>\n<path fill=\"none\" stroke=\"#000000\" d=\"M141.1602,-371.8668C171.1324,-361.9794 223.9174,-345.2264 270,-334 300.7242,-326.5151 336.515,-320.1188 360.3417,-316.1834\"/>\n</g>\n<!-- 1&#45;&#45;5 -->\n<g id=\"edge12\" class=\"edge\">\n<title>1&#45;&#45;5</title>\n<path fill=\"none\" stroke=\"#000000\" d=\"M143.4717,-383.8237C210.0467,-393.4401 383.8729,-418.5483 450.4895,-428.1707\"/>\n</g>\n<!-- 1&#45;&#45;6 -->\n<g id=\"edge13\" class=\"edge\">\n<title>1&#45;&#45;6</title>\n<path fill=\"none\" stroke=\"#000000\" d=\"M124.4092,-362.4946C142.345,-322.8952 192.4202,-227.6583 270,-199 370.2632,-161.9624 497.7415,-224.1903 546.6445,-251.8172\"/>\n</g>\n<!-- 1&#45;&#45;7 -->\n<g id=\"edge14\" class=\"edge\">\n<title>1&#45;&#45;7</title>\n<path fill=\"none\" stroke=\"#000000\" d=\"M125.6968,-397.0633C139.5204,-423.8108 166.3365,-474.0981 180,-489 256.5524,-572.4909 305.2718,-621.7676 414,-590 505.1236,-563.376 529.6668,-544.811 594,-475 622.1976,-444.4014 641.6409,-398.8223 650.8714,-373.8881\"/>\n</g>\n<!-- 1&#45;&#45;8 -->\n<g id=\"edge15\" class=\"edge\">\n<title>1&#45;&#45;8</title>\n<path fill=\"none\" stroke=\"#000000\" d=\"M119.9273,-398.269C130.8373,-459.2548 174.971,-652 297,-652 297,-652 297,-652 567,-652 706.2627,-652 738.9844,-418.5473 745.534,-351.0648\"/>\n</g>\n<!-- 2&#45;&#45;3 -->\n<g id=\"edge16\" class=\"edge\">\n<title>2&#45;&#45;3</title>\n<path fill=\"none\" stroke=\"#000000\" d=\"M213.7646,-444.2616C230.4845,-400.4184 273.6065,-287.3431 290.2796,-243.6223\"/>\n</g>\n<!-- 2&#45;&#45;4 -->\n<g id=\"edge17\" class=\"edge\">\n<title>2&#45;&#45;4</title>\n<path fill=\"none\" stroke=\"#000000\" d=\"M215.6528,-444.8709C226.2626,-425.235 245.8464,-393.0548 270,-372 298.0485,-347.55 337.8121,-329.9109 363.0011,-320.3217\"/>\n</g>\n<!-- 2&#45;&#45;5 -->\n<g id=\"edge18\" class=\"edge\">\n<title>2&#45;&#45;5</title>\n<path fill=\"none\" stroke=\"#000000\" d=\"M233.8757,-459.0138C285.6293,-453.2634 398.5652,-440.715 450.233,-434.9741\"/>\n</g>\n<!-- 2&#45;&#45;6 -->\n<g id=\"edge19\" class=\"edge\">\n<title>2&#45;&#45;6</title>\n<path fill=\"none\" stroke=\"#000000\" d=\"M228.443,-450.9053C277.592,-425.3761 402.0012,-360.1904 504,-302 518.5339,-293.7084 534.6902,-283.9522 547.0027,-276.4015\"/>\n</g>\n<!-- 2&#45;&#45;7 -->\n<g id=\"edge20\" class=\"edge\">\n<title>2&#45;&#45;7</title>\n<path fill=\"none\" stroke=\"#000000\" d=\"M231.1146,-470.4334C265.3337,-481.6285 330.149,-500 387,-500 387,-500 387,-500 477,-500 557.6393,-500 622.8521,-410.7861 646.9637,-372.8005\"/>\n</g>\n<!-- 2&#45;&#45;8 -->\n<g id=\"edge21\" class=\"edge\">\n<title>2&#45;&#45;8</title>\n<path fill=\"none\" stroke=\"#000000\" d=\"M224.8707,-475.525C266.6077,-505.7224 374.7272,-576 477,-576 477,-576 477,-576 567,-576 679.0895,-576 729.4126,-406.9862 743.0321,-350.8684\"/>\n</g>\n<!-- 3&#45;&#45;4 -->\n<g id=\"edge22\" class=\"edge\">\n<title>3&#45;&#45;4</title>\n<path fill=\"none\" stroke=\"#000000\" d=\"M312.6768,-240.9801C329.1957,-256.7648 355.052,-281.4719 371.5028,-297.1916\"/>\n</g>\n<!-- 3&#45;&#45;5 -->\n<g id=\"edge23\" class=\"edge\">\n<title>3&#45;&#45;5</title>\n<path fill=\"none\" stroke=\"#000000\" d=\"M322.0504,-233.0032C348.1176,-241.4473 388.6074,-257.9776 414,-285 449.5557,-322.8378 466.7826,-383.8339 473.4859,-413.9658\"/>\n</g>\n<!-- 3&#45;&#45;6 -->\n<g id=\"edge24\" class=\"edge\">\n<title>3&#45;&#45;6</title>\n<path fill=\"none\" stroke=\"#000000\" d=\"M323.8757,-229.7825C375.6293,-237.0663 488.5652,-252.961 540.233,-260.2328\"/>\n</g>\n<!-- 3&#45;&#45;7 -->\n<g id=\"edge25\" class=\"edge\">\n<title>3&#45;&#45;7</title>\n<path fill=\"none\" stroke=\"#000000\" d=\"M322.0974,-219.1633C376.4863,-205.8928 507.298,-182.475 594,-237 630.213,-259.7736 646.8458,-310.7972 653.3871,-338.0449\"/>\n</g>\n<!-- 3&#45;&#45;8 -->\n<g id=\"edge26\" class=\"edge\">\n<title>3&#45;&#45;8</title>\n<path fill=\"none\" stroke=\"#000000\" d=\"M306.5055,-209.0847C329.9433,-169.8559 394.6263,-76 477,-76 477,-76 477,-76 567,-76 683.8451,-76 731.2543,-256.4296 743.5546,-314.9283\"/>\n</g>\n<!-- 4&#45;&#45;5 -->\n<g id=\"edge27\" class=\"edge\">\n<title>4&#45;&#45;5</title>\n<path fill=\"none\" stroke=\"#000000\" d=\"M399.1378,-328.1837C416.3149,-351.0865 447.5383,-392.7177 464.7671,-415.6894\"/>\n</g>\n<!-- 4&#45;&#45;6 -->\n<g id=\"edge28\" class=\"edge\">\n<title>4&#45;&#45;6</title>\n<path fill=\"none\" stroke=\"#000000\" d=\"M412.4078,-305.2246C446.7134,-296.0764 507.4825,-279.8713 541.7214,-270.741\"/>\n</g>\n<!-- 4&#45;&#45;7 -->\n<g id=\"edge29\" class=\"edge\">\n<title>4&#45;&#45;7</title>\n<path fill=\"none\" stroke=\"#000000\" d=\"M413.0168,-317.1665C424.3592,-319.3643 437.8209,-321.8994 450,-324 514.6826,-335.1564 591.0596,-346.4889 630.4841,-352.2029\"/>\n</g>\n<!-- 4&#45;&#45;8 -->\n<g id=\"edge30\" class=\"edge\">\n<title>4&#45;&#45;8</title>\n<path fill=\"none\" stroke=\"#000000\" d=\"M414.0306,-313.4907C466.2214,-316.3815 584.5026,-322.9938 684,-329 695.8148,-329.7132 708.8735,-330.5366 720.0238,-331.2502\"/>\n</g>\n<!-- 5&#45;&#45;6 -->\n<g id=\"edge31\" class=\"edge\">\n<title>5&#45;&#45;6</title>\n<path fill=\"none\" stroke=\"#000000\" d=\"M491.3413,-416.6975C495.7126,-411.6074 500.3282,-405.7623 504,-400 529.4499,-360.0604 550.5554,-308.1711 560.6306,-281.5099\"/>\n</g>\n<!-- 5&#45;&#45;7 -->\n<g id=\"edge32\" class=\"edge\">\n<title>5&#45;&#45;7</title>\n<path fill=\"none\" stroke=\"#000000\" d=\"M500.1634,-422.2199C534.7257,-407.6269 599.415,-380.3137 633.9255,-365.7425\"/>\n</g>\n<!-- 5&#45;&#45;8 -->\n<g id=\"edge33\" class=\"edge\">\n<title>5&#45;&#45;8</title>\n<path fill=\"none\" stroke=\"#000000\" d=\"M503.8748,-429.7282C544.7469,-425.3957 624.1018,-413.4942 684,-383 701.919,-373.8774 719.6127,-359.1974 731.6649,-348.0986\"/>\n</g>\n<!-- 6&#45;&#45;7 -->\n<g id=\"edge34\" class=\"edge\">\n<title>6&#45;&#45;7</title>\n<path fill=\"none\" stroke=\"#000000\" d=\"M581.8617,-279.1919C598.5372,-296.238 625.4317,-323.7302 642.1163,-340.7855\"/>\n</g>\n<!-- 6&#45;&#45;8 -->\n<g id=\"edge35\" class=\"edge\">\n<title>6&#45;&#45;8</title>\n<path fill=\"none\" stroke=\"#000000\" d=\"M593.22,-269.091C617.3762,-274.263 653.9232,-283.3191 684,-296 699.545,-302.554 715.9422,-312.2848 728.1104,-320.1224\"/>\n</g>\n<!-- 7&#45;&#45;8 -->\n<g id=\"edge36\" class=\"edge\">\n<title>7&#45;&#45;8</title>\n<path fill=\"none\" stroke=\"#000000\" d=\"M682.5497,-349.4706C694.8142,-346.3364 709.4658,-342.5921 721.698,-339.4661\"/>\n</g>\n</g>\n</svg>\n"
          },
          "metadata": {
            "tags": []
          },
          "execution_count": 16
        }
      ]
    },
    {
      "cell_type": "code",
      "metadata": {
        "colab": {
          "base_uri": "https://localhost:8080/"
        },
        "id": "wUQpHsy1kw7v",
        "outputId": "328881de-519d-4147-a1c2-3f1c4e19a78c"
      },
      "source": [
        "res = solve(G, k=3)\n",
        "res"
      ],
      "execution_count": null,
      "outputs": [
        {
          "output_type": "execute_result",
          "data": {
            "text/plain": [
              "[1, -3, 1, 5, 5, -3, 8, 8, -3]"
            ]
          },
          "metadata": {
            "tags": []
          },
          "execution_count": 19
        }
      ]
    },
    {
      "cell_type": "code",
      "metadata": {
        "colab": {
          "base_uri": "https://localhost:8080/"
        },
        "id": "_D4D3a03k5Ev",
        "outputId": "e0758dbe-f9b4-44fe-aa5e-6b92e33dd671"
      },
      "source": [
        "cls = [e if e > 0 else i for i, e in enumerate(res)]\n",
        "cls"
      ],
      "execution_count": null,
      "outputs": [
        {
          "output_type": "execute_result",
          "data": {
            "text/plain": [
              "[1, 1, 1, 5, 5, 5, 8, 8, 8]"
            ]
          },
          "metadata": {
            "tags": []
          },
          "execution_count": 24
        }
      ]
    },
    {
      "cell_type": "code",
      "metadata": {
        "colab": {
          "base_uri": "https://localhost:8080/"
        },
        "id": "jYsmWcDIl52E",
        "outputId": "5d217c67-c81d-4ec2-8163-12b1c928412a"
      },
      "source": [
        "data2 = np.vstack((data.transpose(), cls)).transpose()\n",
        "data2"
      ],
      "execution_count": null,
      "outputs": [
        {
          "output_type": "execute_result",
          "data": {
            "text/plain": [
              "array([[ 2.,  3.,  1.],\n",
              "       [ 3.,  4.,  1.],\n",
              "       [ 2.,  6.,  1.],\n",
              "       [ 5., 10.,  5.],\n",
              "       [ 6.,  8.,  5.],\n",
              "       [ 7.,  9.,  5.],\n",
              "       [12.,  6.,  8.],\n",
              "       [12.,  8.,  8.],\n",
              "       [13.,  7.,  8.]])"
            ]
          },
          "metadata": {
            "tags": []
          },
          "execution_count": 27
        }
      ]
    },
    {
      "cell_type": "code",
      "metadata": {
        "colab": {
          "base_uri": "https://localhost:8080/",
          "height": 265
        },
        "id": "1U_qRq82msWH",
        "outputId": "044f6a7b-0d57-4288-ce23-55be86a2dbd5"
      },
      "source": [
        "plt.scatter(data2[:, 0], data2[:, 1], s=data2[:, 2]*50, c=data2[:, 2])\n",
        "for i, (x, y, _) in enumerate(data2):\n",
        "  plt.text(x+.5, y, i)\n",
        "plt.axis([0, 14, 0, 11])\n",
        "plt.show()"
      ],
      "execution_count": null,
      "outputs": [
        {
          "output_type": "display_data",
          "data": {
            "image/png": "[encoded data removed]",
            "text/plain": [
              "<Figure size 432x288 with 1 Axes>"
            ]
          },
          "metadata": {
            "tags": [],
            "needs_background": "light"
          }
        }
      ]
    },
    {
      "cell_type": "code",
      "metadata": {
        "id": "fgYrfit2m-3K"
      },
      "source": [
        ""
      ],
      "execution_count": null,
      "outputs": []
    }
  ]
}