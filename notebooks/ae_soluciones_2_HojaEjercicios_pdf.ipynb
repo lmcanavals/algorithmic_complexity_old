{
  "nbformat": 4,
  "nbformat_minor": 0,
  "metadata": {
    "colab": {
      "name": "ae_soluciones_2_HojaEjercicios_pdf.ipynb",
      "provenance": [],
      "authorship_tag": "ABX9TyNC3gjV3Tr6TzLUq0LgScra",
      "include_colab_link": true
    },
    "kernelspec": {
      "name": "python3",
      "display_name": "Python 3"
    },
    "language_info": {
      "name": "python"
    }
  },
  "cells": [
    {
      "cell_type": "markdown",
      "metadata": {
        "id": "view-in-github",
        "colab_type": "text"
      },
      "source": [
        "<a href=\"https://colab.research.google.com/github/lmcanavals/algorithmic_complexity/blob/main/notebooks/ae_soluciones_2_HojaEjercicios_pdf.ipynb\" target=\"_parent\"><img src=\"https://colab.research.google.com/assets/colab-badge.svg\" alt=\"Open In Colab\"/></a>"
      ]
    },
    {
      "cell_type": "markdown",
      "metadata": {
        "id": "l0NEhae6965w"
      },
      "source": [
        "# Soluciones a 2-HojaEjercicios.pdf"
      ]
    },
    {
      "cell_type": "markdown",
      "metadata": {
        "id": "r-giVg04-JUS"
      },
      "source": [
        "Tip: Enumerate"
      ]
    },
    {
      "cell_type": "code",
      "metadata": {
        "colab": {
          "base_uri": "https://localhost:8080/"
        },
        "id": "DbfLh59Y-M_a",
        "outputId": "d14be7d5-c6b4-4aee-c870-957be23bf671"
      },
      "source": [
        "a = [4, 2, 33, 24, 54, 21, 199, 123]\n",
        "for i, elem in enumerate(a):\n",
        "    print(f\"{i} -> {elem}\")"
      ],
      "execution_count": 1,
      "outputs": [
        {
          "output_type": "stream",
          "text": [
            "0 -> 4\n",
            "1 -> 2\n",
            "2 -> 33\n",
            "3 -> 24\n",
            "4 -> 54\n",
            "5 -> 21\n",
            "6 -> 199\n",
            "7 -> 123\n"
          ],
          "name": "stdout"
        }
      ]
    },
    {
      "cell_type": "markdown",
      "metadata": {
        "id": "B9qJ0oEk-ccd"
      },
      "source": [
        "Tip: Reversed"
      ]
    },
    {
      "cell_type": "code",
      "metadata": {
        "colab": {
          "base_uri": "https://localhost:8080/"
        },
        "id": "qupMfXEP-feD",
        "outputId": "f2a712d6-2863-4c56-d612-2c9faea511cf"
      },
      "source": [
        "for elem in reversed(a):\n",
        "    print(elem)"
      ],
      "execution_count": 2,
      "outputs": [
        {
          "output_type": "stream",
          "text": [
            "123\n",
            "199\n",
            "21\n",
            "54\n",
            "24\n",
            "33\n",
            "2\n",
            "4\n"
          ],
          "name": "stdout"
        }
      ]
    },
    {
      "cell_type": "markdown",
      "metadata": {
        "id": "Bs7asTnA-Fmf"
      },
      "source": [
        "# Ejercicio 2"
      ]
    },
    {
      "cell_type": "code",
      "metadata": {
        "id": "qzDIrk-892Hl"
      },
      "source": [
        "def solve(x0, a: list):\n",
        "    res = 0.0\n",
        "    for i, ai in enumerate(reversed(a)):\n",
        "        res += ai * x0 ** i                 # ** es potencia\n",
        "\n",
        "    return res"
      ],
      "execution_count": 3,
      "outputs": []
    },
    {
      "cell_type": "code",
      "metadata": {
        "colab": {
          "base_uri": "https://localhost:8080/"
        },
        "id": "1kUdIPAQ_IYM",
        "outputId": "6d0d18b3-c8f2-4f75-896d-568139282d39"
      },
      "source": [
        "solve(2, [10, 20, 0, 15, 5, 50])"
      ],
      "execution_count": 4,
      "outputs": [
        {
          "output_type": "execute_result",
          "data": {
            "text/plain": [
              "760.0"
            ]
          },
          "metadata": {
            "tags": []
          },
          "execution_count": 4
        }
      ]
    },
    {
      "cell_type": "markdown",
      "metadata": {
        "id": "H6wVagrlBaVC"
      },
      "source": [
        "Tip: concatenation"
      ]
    },
    {
      "cell_type": "code",
      "metadata": {
        "colab": {
          "base_uri": "https://localhost:8080/"
        },
        "id": "12wfoBh1Bd2E",
        "outputId": "c2d9cde7-597a-473a-ad46-6faa913ecbaa"
      },
      "source": [
        "w1 = \"ho\"\n",
        "w2 = \"la\"\n",
        "print(w1 + w2)\n",
        "a = [1, 2, 3, 4]\n",
        "b = [10, 20, 30]\n",
        "print(a + b)"
      ],
      "execution_count": 5,
      "outputs": [
        {
          "output_type": "stream",
          "text": [
            "hola\n",
            "[1, 2, 3, 4, 10, 20, 30]\n"
          ],
          "name": "stdout"
        }
      ]
    },
    {
      "cell_type": "markdown",
      "metadata": {
        "id": "lX-MG_EnBrzS"
      },
      "source": [
        "Tip: new list with exclusion"
      ]
    },
    {
      "cell_type": "code",
      "metadata": {
        "colab": {
          "base_uri": "https://localhost:8080/"
        },
        "id": "_yAY0z6xBvNV",
        "outputId": "b3392693-e63f-461b-98dc-9d45577a3aec"
      },
      "source": [
        "c = [10, 20, 30, 40, 50, 60, 70, 80, 90]\n",
        "i = 4\n",
        "d = c[:i] + c[i + 1:]\n",
        "print(c[i])\n",
        "print(d)"
      ],
      "execution_count": 6,
      "outputs": [
        {
          "output_type": "stream",
          "text": [
            "50\n",
            "[10, 20, 30, 40, 60, 70, 80, 90]\n"
          ],
          "name": "stdout"
        }
      ]
    },
    {
      "cell_type": "markdown",
      "metadata": {
        "id": "4uwtGondC3Dp"
      },
      "source": [
        "Tip: zip"
      ]
    },
    {
      "cell_type": "code",
      "metadata": {
        "colab": {
          "base_uri": "https://localhost:8080/"
        },
        "id": "s-M54dGAC6vv",
        "outputId": "6a3ff9f7-8b0a-4baf-c572-97f75c5e320f"
      },
      "source": [
        "a = [  2,   5,   7,  29]\n",
        "b = [123, 432, 455, 264]\n",
        "for x in zip(a, b):\n",
        "    print(x)\n",
        "\n",
        "for i, j in zip(a, b):\n",
        "    print(f\"{i:3} -> {j:3}\")"
      ],
      "execution_count": 11,
      "outputs": [
        {
          "output_type": "stream",
          "text": [
            "(2, 123)\n",
            "(5, 432)\n",
            "(7, 455)\n",
            "(29, 264)\n",
            "  2 -> 123\n",
            "  5 -> 432\n",
            "  7 -> 455\n",
            " 29 -> 264\n"
          ],
          "name": "stdout"
        }
      ]
    },
    {
      "cell_type": "markdown",
      "metadata": {
        "id": "WLTALtxyDmVT"
      },
      "source": [
        "Tip: more comprehension"
      ]
    },
    {
      "cell_type": "code",
      "metadata": {
        "colab": {
          "base_uri": "https://localhost:8080/"
        },
        "id": "V0v0LwCHDpXr",
        "outputId": "18f58704-8b46-469e-cff1-d3a84c58debd"
      },
      "source": [
        "a = [i for i in range(10)]\n",
        "b = [i for i in range(0, 100, 10)]\n",
        "print(a)\n",
        "print(b)\n",
        "c = {str(k): v for k, v in zip(a, b)}\n",
        "print(c)"
      ],
      "execution_count": 15,
      "outputs": [
        {
          "output_type": "stream",
          "text": [
            "[0, 1, 2, 3, 4, 5, 6, 7, 8, 9]\n",
            "[0, 10, 20, 30, 40, 50, 60, 70, 80, 90]\n",
            "{'0': 0, '1': 10, '2': 20, '3': 30, '4': 40, '5': 50, '6': 60, '7': 70, '8': 80, '9': 90}\n"
          ],
          "name": "stdout"
        }
      ]
    },
    {
      "cell_type": "markdown",
      "metadata": {
        "id": "KwmYTnqm_jkk"
      },
      "source": [
        "# Ejercicio 3"
      ]
    },
    {
      "cell_type": "code",
      "metadata": {
        "id": "n5db9jVUEfRX"
      },
      "source": [
        "def conv(codex, word):\n",
        "    num = 0\n",
        "    for ch in word:\n",
        "        num = num*10 + codex[ch]\n",
        "\n",
        "    return num"
      ],
      "execution_count": 17,
      "outputs": []
    },
    {
      "cell_type": "code",
      "metadata": {
        "id": "Ac0Ha1XWCqtQ"
      },
      "source": [
        "def check(perm, alpha: list, w1, w2, w3: str):\n",
        "    codex = {ch: d for ch, d in zip(alpha, perm)}\n",
        "    a = conv(codex, w1)\n",
        "    b = conv(codex, w2)\n",
        "    c = conv(codex, w3)\n",
        "\n",
        "    if a + b == c:\n",
        "        s = f\"{w1}={a:0{len(w1)}} + {w2}={b:0{len(w2)}} = {w3}={c:0{len(w3)}}\"\n",
        "        print(s)"
      ],
      "execution_count": 21,
      "outputs": []
    },
    {
      "cell_type": "code",
      "metadata": {
        "id": "7s0OisFl_W6Q"
      },
      "source": [
        "def genPerm(digits, perm: list, r, alpha, w1, w2, w3):\n",
        "    if len(perm) == r:\n",
        "        check(perm, alpha, w1, w2, w3)\n",
        "    else:\n",
        "        for i, d in enumerate(digits):\n",
        "            genPerm(digits[:i] + digits[i+1:], perm + [d], r, alpha, w1, w2, w3)"
      ],
      "execution_count": 19,
      "outputs": []
    },
    {
      "cell_type": "code",
      "metadata": {
        "id": "H3DqIyXUCREu"
      },
      "source": [
        "def solve(w1, w2, w3: str):\n",
        "    alphabet = set(w1 + w2 + w3)\n",
        "    genPerm([i for i in range(10)], [], len(alphabet), alphabet, w1, w2, w3)"
      ],
      "execution_count": 20,
      "outputs": []
    },
    {
      "cell_type": "code",
      "metadata": {
        "colab": {
          "base_uri": "https://localhost:8080/"
        },
        "id": "-wkoXgUaFc9G",
        "outputId": "ba535af7-d83b-4429-9cfa-67b92542fda4"
      },
      "source": [
        "solve(\"SEND\", \"MORE\", \"MONEY\")"
      ],
      "execution_count": 22,
      "outputs": [
        {
          "output_type": "stream",
          "text": [
            "SEND=2817 + MORE=0368 = MONEY=03185\n",
            "SEND=2819 + MORE=0368 = MONEY=03187\n",
            "SEND=3712 + MORE=0467 = MONEY=04179\n",
            "SEND=3719 + MORE=0457 = MONEY=04176\n",
            "SEND=6415 + MORE=0734 = MONEY=07149\n",
            "SEND=6419 + MORE=0724 = MONEY=07143\n",
            "SEND=7316 + MORE=0823 = MONEY=08139\n",
            "SEND=3821 + MORE=0468 = MONEY=04289\n",
            "SEND=3829 + MORE=0458 = MONEY=04287\n",
            "SEND=6524 + MORE=0735 = MONEY=07259\n",
            "SEND=7429 + MORE=0814 = MONEY=08243\n",
            "SEND=8324 + MORE=0913 = MONEY=09237\n",
            "SEND=5731 + MORE=0647 = MONEY=06378\n",
            "SEND=5732 + MORE=0647 = MONEY=06379\n",
            "SEND=7531 + MORE=0825 = MONEY=08356\n",
            "SEND=7534 + MORE=0825 = MONEY=08359\n",
            "SEND=7539 + MORE=0815 = MONEY=08354\n",
            "SEND=8432 + MORE=0914 = MONEY=09346\n",
            "SEND=5849 + MORE=0638 = MONEY=06487\n",
            "SEND=7643 + MORE=0826 = MONEY=08469\n",
            "SEND=7649 + MORE=0816 = MONEY=08465\n",
            "SEND=8542 + MORE=0915 = MONEY=09457\n",
            "SEND=6851 + MORE=0738 = MONEY=07589\n",
            "SEND=6853 + MORE=0728 = MONEY=07581\n",
            "SEND=9567 + MORE=1085 = MONEY=10652\n"
          ],
          "name": "stdout"
        }
      ]
    },
    {
      "cell_type": "code",
      "metadata": {
        "colab": {
          "base_uri": "https://localhost:8080/"
        },
        "id": "FzjtfZ18Fljo",
        "outputId": "fe608c2b-8807-4904-e58e-bacbef7b8e08"
      },
      "source": [
        "solve(\"YOU\", \"I\", \"BFF\")"
      ],
      "execution_count": 25,
      "outputs": [
        {
          "output_type": "stream",
          "text": [
            "YOU=392 + I=8 = BFF=400\n",
            "YOU=492 + I=8 = BFF=500\n",
            "YOU=592 + I=8 = BFF=600\n",
            "YOU=692 + I=8 = BFF=700\n",
            "YOU=193 + I=7 = BFF=200\n",
            "YOU=493 + I=7 = BFF=500\n",
            "YOU=593 + I=7 = BFF=600\n",
            "YOU=194 + I=6 = BFF=200\n",
            "YOU=294 + I=6 = BFF=300\n",
            "YOU=794 + I=6 = BFF=800\n",
            "YOU=196 + I=4 = BFF=200\n",
            "YOU=296 + I=4 = BFF=300\n",
            "YOU=796 + I=4 = BFF=800\n",
            "YOU=197 + I=3 = BFF=200\n",
            "YOU=497 + I=3 = BFF=500\n",
            "YOU=597 + I=3 = BFF=600\n",
            "YOU=398 + I=2 = BFF=400\n",
            "YOU=498 + I=2 = BFF=500\n",
            "YOU=598 + I=2 = BFF=600\n",
            "YOU=698 + I=2 = BFF=700\n"
          ],
          "name": "stdout"
        }
      ]
    }
  ]
}